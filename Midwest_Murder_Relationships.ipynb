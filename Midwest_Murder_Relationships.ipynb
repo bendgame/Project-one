{
 "cells": [
  {
   "cell_type": "code",
   "execution_count": 1,
   "metadata": {},
   "outputs": [
    {
     "data": {
      "text/plain": [
       "Index(['index', 'ID', 'CNTYFIPS', 'Ori', 'State', 'Agency', 'Agentype',\n",
       "       'Source', 'Solved', 'Year', 'StateName', 'Month', 'Incident',\n",
       "       'ActionType', 'Homicide', 'Situation', 'VicAge', 'VicSex', 'VicRace',\n",
       "       'VicEthnic', 'OffAge', 'OffSex', 'OffRace', 'OffEthnic', 'Weapon',\n",
       "       'Relationship', 'Circumstance', 'Subcircum', 'VicCount', 'OffCount',\n",
       "       'FileDate', 'fstate', 'MSA'],\n",
       "      dtype='object')"
      ]
     },
     "execution_count": 1,
     "metadata": {},
     "output_type": "execute_result"
    }
   ],
   "source": [
    "\n",
    "%matplotlib inline\n",
    "\n",
    "# Import dependencies\n",
    "import pandas as pd\n",
    "import numpy as np\n",
    "import os \n",
    "import matplotlib.pyplot as plt\n",
    "\n",
    "\n",
    "file = os.path.join('MidwestMurderData.csv')\n",
    "midwest_homicide_df = pd.read_csv(file)\n",
    "midwest_homicide_df.columns"
   ]
  },
  {
   "cell_type": "code",
   "execution_count": 2,
   "metadata": {},
   "outputs": [],
   "source": [
    "relationship_df = midwest_homicide_df[['Relationship', 'VicSex','Weapon', 'OffSex']]\n"
   ]
  },
  {
   "cell_type": "code",
   "execution_count": 3,
   "metadata": {},
   "outputs": [
    {
     "name": "stderr",
     "output_type": "stream",
     "text": [
      "C:\\Users\\write\\Anaconda3\\envs\\PythonData\\lib\\site-packages\\ipykernel_launcher.py:12: SettingWithCopyWarning: \n",
      "A value is trying to be set on a copy of a slice from a DataFrame.\n",
      "Try using .loc[row_indexer,col_indexer] = value instead\n",
      "\n",
      "See the caveats in the documentation: http://pandas.pydata.org/pandas-docs/stable/indexing.html#indexing-view-versus-copy\n",
      "  if sys.path[0] == '':\n"
     ]
    }
   ],
   "source": [
    "#Combine similar weapons together\n",
    "relationship_df['Weapon'] = relationship_df['Weapon'].replace(\n",
    "                                                {\"Knife or cutting instrument\": \"Sharp Object\",\n",
    "                                                \"Handgun - pistol, revolver, etc\": \"Gun\",\n",
    "                                                \"Shotgun\": \"Gun\",\n",
    "                                                \"Strangulation - hanging\": \"Strangulation\",\n",
    "                                                \"Personal weapons, includes beating\": \"Beating/Personal\",\n",
    "                                                \"Blunt object - hammer, club, etc\" : \"Blunt Object\",\n",
    "                                                \"Rifle\": \"Gun\",\n",
    "                                                \"Firearm, type not stated\": \"Gun\",\n",
    "                                                \"Asphyxiation - includes death by gas\": \"Asphyxiation\",\n",
    "                                                \"Other gun\": \"Gun\"})\n"
   ]
  },
  {
   "cell_type": "code",
   "execution_count": 4,
   "metadata": {},
   "outputs": [
    {
     "name": "stderr",
     "output_type": "stream",
     "text": [
      "C:\\Users\\write\\Anaconda3\\envs\\PythonData\\lib\\site-packages\\ipykernel_launcher.py:26: SettingWithCopyWarning: \n",
      "A value is trying to be set on a copy of a slice from a DataFrame.\n",
      "Try using .loc[row_indexer,col_indexer] = value instead\n",
      "\n",
      "See the caveats in the documentation: http://pandas.pydata.org/pandas-docs/stable/indexing.html#indexing-view-versus-copy\n"
     ]
    }
   ],
   "source": [
    "#Combine similar relationships together\n",
    "relationship_df['Relationship'] = relationship_df[\"Relationship\"].replace(\n",
    "                                                  {'Brother': 'Sibling',\n",
    "                                                   'Sister': 'Sibling',\n",
    "                                                   'Father': 'Parent',\n",
    "                                                   'Mother': 'Parent',\n",
    "                                                   'Daughter': 'Child',\n",
    "                                                   'Son': 'Child',\n",
    "                                                   'Stepson': 'Child',\n",
    "                                                   \"Stepdaughter\": \"Child\",\n",
    "                                                   \"Homosexual relationship\": 'Partner',\n",
    "                                                   \"Boyfriend\" : \"Partner\",\n",
    "                                                   \"Girlfriend\" : \"Partner\",\n",
    "                                                   \"Common-law husband\" : \"Partner\",\n",
    "                                                   \"Common-law wife\" : \"Partner\",\n",
    "                                                   \"Ex-husband\" : \"Spouse\",\n",
    "                                                   \"Ex-wife\" : \"Spouse\",\n",
    "                                                   \"Stepmother\" : \"Parent\",\n",
    "                                                   \"Stepfather\" : \"Parent\",\n",
    "                                                   \"Husband\" : \"Spouse\",\n",
    "                                                   \"Wife\" : \"Spouse\",\n",
    "                                                  \"Friend\": 'Other - known to victim',\n",
    "                                                  \"Neighbor\": 'Other - known to victim',\n",
    "                                                  \"Employee\": 'Other - known to victim',\n",
    "                                                  \"Employer\": 'Other - known to victim',\n",
    "                                                  \"In-law\" : 'Other - known to victim'})\n",
    "                                       "
   ]
  },
  {
   "cell_type": "code",
   "execution_count": 116,
   "metadata": {
    "scrolled": true
   },
   "outputs": [],
   "source": [
    "#Female Datafarme - pull out only female victims\n",
    "victims_df = relationship_df[['Relationship', 'VicSex']]\n",
    "female_victims = victims_df.loc[victims_df[\"VicSex\"]=='Female', :]\n",
    "\n",
    "#Group Female Victims by Relationships\n",
    "female_victims = female.groupby('Relationship').count()\n",
    "\n",
    "#Rename columns\n",
    "female_victims_df = female_victims.rename(columns={\"VicSex\": \"Female Victim\"})\n",
    "\n",
    "#Sort values so graphs are in ascending order\n",
    "female_df = female_victims_df.reset_index().sort_values(\"Female Victim\")\n",
    "\n",
    "#Drop the highest outlier value: Relationship Undefined\n",
    "female_df = female_df.drop(6)\n",
    "\n",
    "#Unsort female df for double bar chart\n",
    "unsort_female_df = female_victims_df.reset_index().drop(6)\n"
   ]
  },
  {
   "cell_type": "code",
   "execution_count": 6,
   "metadata": {},
   "outputs": [
    {
     "data": {
      "text/plain": [
       "Relationship     SiblingOther familyParentChildStrangerOther - ...\n",
       "Female Victim                                                23810\n",
       "dtype: object"
      ]
     },
     "execution_count": 6,
     "metadata": {},
     "output_type": "execute_result"
    }
   ],
   "source": [
    "#Find the sum of all Female Victims\n",
    "female_df.sum()"
   ]
  },
  {
   "cell_type": "code",
   "execution_count": 93,
   "metadata": {},
   "outputs": [
    {
     "data": {
      "text/plain": [
       "7     1.0\n",
       "3     3.0\n",
       "4     4.0\n",
       "1     9.0\n",
       "9    11.0\n",
       "2    12.0\n",
       "5    17.0\n",
       "8    21.0\n",
       "0    22.0\n",
       "Name: Female Victim, dtype: float64"
      ]
     },
     "execution_count": 93,
     "metadata": {},
     "output_type": "execute_result"
    }
   ],
   "source": [
    "#Calculate the percentage of female victims by relationship (23810 is the sum of all female victims)\n",
    "female_percent = female_df['Female Victim']/23810*100\n",
    "female_percent = female_percent.round()\n",
    "female_percent"
   ]
  },
  {
   "cell_type": "code",
   "execution_count": 94,
   "metadata": {},
   "outputs": [
    {
     "data": {
      "text/plain": [
       "0    22.0\n",
       "1     9.0\n",
       "2    12.0\n",
       "3     3.0\n",
       "4     4.0\n",
       "5    17.0\n",
       "7     1.0\n",
       "8    21.0\n",
       "9    11.0\n",
       "Name: Female Victim, dtype: float64"
      ]
     },
     "execution_count": 94,
     "metadata": {},
     "output_type": "execute_result"
    }
   ],
   "source": [
    "#Unsorted for double bar chart\n",
    "unsort_female_percent = unsort_female_df['Female Victim']/23810*100\n",
    "unsort_female_percent = unsort_female_percent.round()\n",
    "unsort_female_percent"
   ]
  },
  {
   "cell_type": "code",
   "execution_count": 89,
   "metadata": {},
   "outputs": [],
   "source": [
    "#Male Dataframe - Pull out only Male Victims\n",
    "male = victims_df.loc[victims_df[\"VicSex\"] == \"Male\", :]\n",
    "\n",
    "#Group Male Victims by Relationships\n",
    "male_victims = male.groupby('Relationship').count()\n",
    "\n",
    "#Rename Columns\n",
    "male_victims_df = male_victims.rename(columns={\"VicSex\": \"Male Victim\"})\n",
    "\n",
    "\n",
    "#Sort values so graphs are in ascending order\n",
    "male_df = male_victims_df.reset_index().sort_values(\"Male Victim\")\n",
    "\n",
    "#Drop the highest outlier value: Relationship Undefined\n",
    "male_df = male_df.drop(6)\n",
    "\n",
    "#Unsort male df for double bar chart\n",
    "unsort_male_df = male_victims_df.reset_index().drop(6)"
   ]
  },
  {
   "cell_type": "code",
   "execution_count": null,
   "metadata": {},
   "outputs": [],
   "source": []
  },
  {
   "cell_type": "code",
   "execution_count": null,
   "metadata": {},
   "outputs": [],
   "source": []
  },
  {
   "cell_type": "code",
   "execution_count": 9,
   "metadata": {},
   "outputs": [
    {
     "data": {
      "text/plain": [
       "Relationship    SiblingParentOther familySpouseChildPartnerOth...\n",
       "Male Victim                                                 63925\n",
       "dtype: object"
      ]
     },
     "execution_count": 9,
     "metadata": {},
     "output_type": "execute_result"
    }
   ],
   "source": [
    "#Find the sum of all Male Victims\n",
    "male_df.sum()"
   ]
  },
  {
   "cell_type": "code",
   "execution_count": 76,
   "metadata": {},
   "outputs": [
    {
     "data": {
      "text/plain": [
       "0    40.0\n",
       "1     4.0\n",
       "2    16.0\n",
       "3     2.0\n",
       "4     2.0\n",
       "5     4.0\n",
       "7     2.0\n",
       "8     4.0\n",
       "9    26.0\n",
       "Name: Male Victim, dtype: float64"
      ]
     },
     "execution_count": 76,
     "metadata": {},
     "output_type": "execute_result"
    }
   ],
   "source": [
    "#Calculate the percentage of female victims by relationship (23810 is the sum of all female victims)\n",
    "male_percent = male_df['Male Victim']/63925*100\n",
    "male_percent = male_percent.round()"
   ]
  },
  {
   "cell_type": "code",
   "execution_count": 97,
   "metadata": {},
   "outputs": [
    {
     "data": {
      "text/plain": [
       "0    40.0\n",
       "1     4.0\n",
       "2    16.0\n",
       "3     2.0\n",
       "4     2.0\n",
       "5     4.0\n",
       "7     2.0\n",
       "8     4.0\n",
       "9    26.0\n",
       "Name: Male Victim, dtype: float64"
      ]
     },
     "execution_count": 97,
     "metadata": {},
     "output_type": "execute_result"
    }
   ],
   "source": [
    "#Unsorted for double bar chart\n",
    "unsort_male_percent = unsort_male_df['Male Victim']/63925*100\n",
    "unsort_male_percent = unsort_male_percent.round()\n",
    "unsort_male_percent"
   ]
  },
  {
   "cell_type": "code",
   "execution_count": 73,
   "metadata": {
    "scrolled": true
   },
   "outputs": [
    {
     "data": {
      "image/png": "[encoded data removed]",
      "text/plain": [
       "<Figure size 432x288 with 1 Axes>"
      ]
     },
     "metadata": {
      "needs_background": "light"
     },
     "output_type": "display_data"
    }
   ],
   "source": [
    "#Plot Female Victim Relationship Information\n",
    "y_axis = np.arange(len(female_percent))\n",
    "tick_locations = [value for value in y_axis]\n",
    "\n",
    "#plt.figure(figsize=(20,3))\n",
    "plt.barh(y_axis, female_percent, color='darkturquoise', alpha= 1.0, align=\"center\")\n",
    "plt.yticks(tick_locations, female_df[\"Relationship\"], fontname='Chaparral Pro', \n",
    "           fontsize=12, rotation=\"horizontal\")\n",
    "\n",
    "# Set a Title and labels\n",
    "plt.title(\"Female Victim Relationship to Offender\", fontname='Chaparral Pro', fontsize=20)\n",
    "plt.xlabel(\"Percentage of Murders\", fontname='Chaparral Pro', fontsize=12)\n",
    "plt.show()"
   ]
  },
  {
   "cell_type": "code",
   "execution_count": 74,
   "metadata": {},
   "outputs": [
    {
     "data": {
      "image/png": "[encoded data removed]",
      "text/plain": [
       "<Figure size 432x288 with 1 Axes>"
      ]
     },
     "metadata": {
      "needs_background": "light"
     },
     "output_type": "display_data"
    }
   ],
   "source": [
    "#Plot Male Victim Relationship Information\n",
    "y_axis = np.arange(len(male_percent))\n",
    "tick_locations = [value for value in y_axis]\n",
    "\n",
    "#plt.figure(figsize=(20,3))\n",
    "plt.barh(y_axis, male_percent, color='maroon', alpha= 1.0, align=\"center\")\n",
    "plt.yticks(tick_locations, male_df[\"Relationship\"], fontname='Chaparral Pro', \n",
    "           fontsize=12, rotation=\"horizontal\")\n",
    "\n",
    "# Set a Title and labels\n",
    "plt.title(\"Male Victim Relationship to Offender\", fontname='Chaparral Pro', fontsize=20)\n",
    "plt.xlabel(\"Percentage of Murders\", fontname='Chaparral Pro', fontsize=12)\n",
    "plt.show()"
   ]
  },
  {
   "cell_type": "code",
   "execution_count": 92,
   "metadata": {
    "scrolled": true
   },
   "outputs": [
    {
     "data": {
      "image/png": "[encoded data removed]",
      "text/plain": [
       "<Figure size 432x288 with 1 Axes>"
      ]
     },
     "metadata": {
      "needs_background": "light"
     },
     "output_type": "display_data"
    }
   ],
   "source": [
    "#PLOTTING VICTIM RELATIONSHIPS\n",
    "\n",
    "#Set the length of the Y axis\n",
    "# N = 9\n",
    "\n",
    "# # #Set the data points for male and female bars\n",
    "# male_data = (unsort_male_percent)\n",
    "# female_data = (unsort_female_percent)\n",
    "\n",
    "# # #Plot the bars\n",
    "# ind = np.arange(N)\n",
    "# width = 0.35\n",
    "# plt.barh(ind, male_data, width, color='maroon', label='Male Victims')\n",
    "# plt.barh(ind + width, female_data, width, color='darkturquoise', label='Female Victims')\n",
    "\n",
    "# # #Set the Y axis ticks between the two bars\n",
    "# plt.yticks(ind + width / 2, ['Stranger', 'Spouse', 'Sibling', 'Partner', 'Parent',\n",
    "#                             'Other family', 'Other - known to victim', 'Child', 'Aquaintance'],\n",
    "#                             fontname= 'Chaparral Pro', fontsize=12)\n",
    "\n",
    "# # #Set legend\n",
    "# plt.legend(loc='upper right')\n",
    "\n",
    "# # # Set a Title and labels\n",
    "# plt.title(\"Victim Relationship to Offender\", fontname= 'Chaparral Pro', fontsize=20)\n",
    "# plt.xlabel(\"Percentage of Murders\", fontname= 'Chaparral Pro', fontsize=12)\n",
    "# plt.show()"
   ]
  },
  {
   "cell_type": "code",
   "execution_count": 112,
   "metadata": {},
   "outputs": [
    {
     "data": {
      "text/plain": [
       "array(['Sharp Object', 'Gun', 'Strangulation', 'Beating/Personal',\n",
       "       'Blunt Object', 'Other or type unknown', 'Fire', 'Asphyxiation',\n",
       "       'Drowning', 'Pushed or thrown out window',\n",
       "       'Narcotics or drugs, sleeping pills', 'Explosives',\n",
       "       'Poison - does not include gas'], dtype=object)"
      ]
     },
     "execution_count": 112,
     "metadata": {},
     "output_type": "execute_result"
    }
   ],
   "source": [
    "#Weapons grouping\n",
    "relationship_df['Weapon'].unique()"
   ]
  },
  {
   "cell_type": "code",
   "execution_count": 107,
   "metadata": {},
   "outputs": [
    {
     "data": {
      "text/plain": [
       "Relationship\n",
       "Acquaintance                   2396\n",
       "Child                           494\n",
       "Other - known to victim        1172\n",
       "Other family                    203\n",
       "Parent                          389\n",
       "Partner                        2069\n",
       "Relationship not determined    4082\n",
       "Sibling                         186\n",
       "Spouse                         3397\n",
       "Stranger                       1295\n",
       "Name: Weapon, dtype: int64"
      ]
     },
     "execution_count": 107,
     "metadata": {},
     "output_type": "execute_result"
    }
   ],
   "source": [
    "#Female Gun Victims by Relationship\n",
    "guns_df = relationship_df.loc[relationship_df['Weapon'] == \"Gun\", :]\n",
    "guns_df = guns_df.loc[guns_df['VicSex'] == 'Female', :]\n",
    "female_gun_victims = guns_df.groupby('Relationship')['Weapon'].count()"
   ]
  },
  {
   "cell_type": "code",
   "execution_count": 109,
   "metadata": {},
   "outputs": [
    {
     "data": {
      "text/plain": [
       "Relationship\n",
       "Acquaintance                   17653\n",
       "Child                            737\n",
       "Other - known to victim         6592\n",
       "Other family                     830\n",
       "Parent                           736\n",
       "Partner                         1120\n",
       "Relationship not determined    38080\n",
       "Sibling                          714\n",
       "Spouse                          1659\n",
       "Stranger                       13132\n",
       "Name: Weapon, dtype: int64"
      ]
     },
     "execution_count": 109,
     "metadata": {},
     "output_type": "execute_result"
    }
   ],
   "source": [
    "#Male Gun Victims by Relationship\n",
    "guns_df = relationship_df.loc[relationship_df['Weapon'] == \"Gun\", :]\n",
    "guns_df = guns_df.loc[guns_df['VicSex'] == 'Male', :]\n",
    "male_gun_victims = guns_df.groupby('Relationship')['Weapon'].count()\n",
    "male_gun_victims"
   ]
  },
  {
   "cell_type": "code",
   "execution_count": null,
   "metadata": {},
   "outputs": [],
   "source": [
    "weapon_df\n",
    "\n",
    "Python\n",
    "subsetDataFrame = dfObj[dfObj['Product'].isin(['Mangos', 'Grapes']) ]\n",
    "1\n",
    "subsetDataFrame = dfObj[dfObj['Product'].isin(['Mangos', 'Grapes']) ]"
   ]
  }
 ],
 "metadata": {
  "kernelspec": {
   "display_name": "Python [conda env:PythonData]",
   "language": "python",
   "name": "conda-env-PythonData-py"
  },
  "language_info": {
   "codemirror_mode": {
    "name": "ipython",
    "version": 3
   },
   "file_extension": ".py",
   "mimetype": "text/x-python",
   "name": "python",
   "nbconvert_exporter": "python",
   "pygments_lexer": "ipython3",
   "version": "3.6.7"
  }
 },
 "nbformat": 4,
 "nbformat_minor": 2
}
