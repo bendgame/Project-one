{
 "cells": [
  {
   "cell_type": "code",
   "execution_count": 1,
   "metadata": {},
   "outputs": [
    {
     "data": {
      "text/plain": [
       "Index(['index', 'ID', 'CNTYFIPS', 'Ori', 'State', 'Agency', 'Agentype',\n",
       "       'Source', 'Solved', 'Year', 'StateName', 'Month', 'Incident',\n",
       "       'ActionType', 'Homicide', 'Situation', 'VicAge', 'VicSex', 'VicRace',\n",
       "       'VicEthnic', 'OffAge', 'OffSex', 'OffRace', 'OffEthnic', 'Weapon',\n",
       "       'Relationship', 'Circumstance', 'Subcircum', 'VicCount', 'OffCount',\n",
       "       'FileDate', 'fstate', 'MSA'],\n",
       "      dtype='object')"
      ]
     },
     "execution_count": 1,
     "metadata": {},
     "output_type": "execute_result"
    }
   ],
   "source": [
    "\n",
    "%matplotlib inline\n",
    "\n",
    "# Import dependencies\n",
    "import pandas as pd\n",
    "import numpy as np\n",
    "import os \n",
    "import matplotlib.pyplot as plt\n",
    "\n",
    "\n",
    "file = os.path.join('MidwestMurderData.csv')\n",
    "midwest_homicide_df = pd.read_csv(file)\n",
    "midwest_homicide_df.columns"
   ]
  },
  {
   "cell_type": "code",
   "execution_count": 2,
   "metadata": {},
   "outputs": [
    {
     "data": {
      "text/plain": [
       "array(['Knife or cutting instrument', 'Handgun - pistol, revolver, etc',\n",
       "       'Shotgun', 'Strangulation - hanging',\n",
       "       'Personal weapons, includes beating',\n",
       "       'Blunt object - hammer, club, etc', 'Rifle',\n",
       "       'Other or type unknown', 'Firearm, type not stated', 'Fire',\n",
       "       'Asphyxiation - includes death by gas', 'Drowning',\n",
       "       'Pushed or thrown out window',\n",
       "       'Narcotics or drugs, sleeping pills', 'Explosives', 'Other gun',\n",
       "       'Poison - does not include gas'], dtype=object)"
      ]
     },
     "execution_count": 2,
     "metadata": {},
     "output_type": "execute_result"
    }
   ],
   "source": [
    "relationship_df = midwest_homicide_df[['Relationship', 'VicSex','Weapon', 'OffSex']]\n",
    "relationship_df['Weapon'].unique()"
   ]
  },
  {
   "cell_type": "code",
   "execution_count": 3,
   "metadata": {},
   "outputs": [
    {
     "name": "stderr",
     "output_type": "stream",
     "text": [
      "C:\\Users\\write\\Anaconda3\\envs\\PythonData\\lib\\site-packages\\ipykernel_launcher.py:18: SettingWithCopyWarning: \n",
      "A value is trying to be set on a copy of a slice from a DataFrame.\n",
      "Try using .loc[row_indexer,col_indexer] = value instead\n",
      "\n",
      "See the caveats in the documentation: http://pandas.pydata.org/pandas-docs/stable/indexing.html#indexing-view-versus-copy\n",
      "C:\\Users\\write\\Anaconda3\\envs\\PythonData\\lib\\site-packages\\ipykernel_launcher.py:45: SettingWithCopyWarning: \n",
      "A value is trying to be set on a copy of a slice from a DataFrame.\n",
      "Try using .loc[row_indexer,col_indexer] = value instead\n",
      "\n",
      "See the caveats in the documentation: http://pandas.pydata.org/pandas-docs/stable/indexing.html#indexing-view-versus-copy\n"
     ]
    }
   ],
   "source": [
    "#Combine similar weapons together\n",
    "relationship_df['Weapon'] = relationship_df['Weapon'].replace(\n",
    "                                                {\"Knife or cutting instrument\": \"Close Contact\",\n",
    "                                                \"Handgun - pistol, revolver, etc\": \"No/Little Contact\",\n",
    "                                                \"Shotgun\": \"No/Little Contact\",\n",
    "                                                \"Strangulation - hanging\": \"No/Little Contact\",\n",
    "                                                \"Personal weapons, includes beating\": \"Close Contact\",\n",
    "                                                \"Blunt object - hammer, club, etc\" : \"Close Contact\",\n",
    "                                                \"Rifle\": \"No/Little Contact\",\n",
    "                                                \"Firearm, type not stated\": \"No/Little Contact\",\n",
    "                                                \"Asphyxiation - includes death by gas\": \"Close Contact\",\n",
    "                                                \"Other gun\": \"No/Little Contact\",\n",
    "                                                \"Fire\": \"No/Little Contact\",\n",
    "                                                \"Drowning\": \"Close Contact\",\n",
    "                                                \"Pushed or thrown out window\": \"No/Little Contact\",\n",
    "                                                \"Narcotics or drugs, sleeping pills\": \"No/Little Contact\",\n",
    "                                                \"Explosives\": \"No/Little Contact\",\n",
    "                                                \"Poison - does not include gas\": \"No/Little Contact\"})\n",
    "\n",
    "#Combine similar relationships together\n",
    "relationship_df['Relationship'] = relationship_df[\"Relationship\"].replace(\n",
    "                                                  {'Brother': 'Sibling',\n",
    "                                                   'Sister': 'Sibling',\n",
    "                                                   'Father': 'Parent',\n",
    "                                                   'Mother': 'Parent',\n",
    "                                                   'Daughter': 'Child',\n",
    "                                                   'Son': 'Child',\n",
    "                                                   'Stepson': 'Child',\n",
    "                                                   \"Stepdaughter\": \"Child\",\n",
    "                                                   \"Homosexual relationship\": 'Partner',\n",
    "                                                   \"Boyfriend\" : \"Partner\",\n",
    "                                                   \"Girlfriend\" : \"Partner\",\n",
    "                                                   \"Common-law husband\" : \"Partner\",\n",
    "                                                   \"Common-law wife\" : \"Partner\",\n",
    "                                                   \"Ex-husband\" : \"Spouse\",\n",
    "                                                   \"Ex-wife\" : \"Spouse\",\n",
    "                                                   \"Stepmother\" : \"Parent\",\n",
    "                                                   \"Stepfather\" : \"Parent\",\n",
    "                                                   \"Husband\" : \"Spouse\",\n",
    "                                                   \"Wife\" : \"Spouse\",\n",
    "                                                  \"Friend\": 'Other - known to victim',\n",
    "                                                  \"Neighbor\": 'Other - known to victim',\n",
    "                                                  \"Employee\": 'Other - known to victim',\n",
    "                                                  \"Employer\": 'Other - known to victim',\n",
    "                                                  \"In-law\" : 'Other - known to victim'})"
   ]
  },
  {
   "cell_type": "code",
   "execution_count": 4,
   "metadata": {
    "scrolled": true
   },
   "outputs": [],
   "source": [
    "#Female Datafarme - pull out only female victims\n",
    "victims_df = relationship_df[['Relationship', 'VicSex']]\n",
    "female_victims = victims_df.loc[victims_df[\"VicSex\"]=='Female', :]\n",
    "\n",
    "#Group Female Victims by Relationships\n",
    "female_victims = female_victims.groupby('Relationship').count()\n",
    "\n",
    "#Rename columns\n",
    "female_victims_df = female_victims.rename(columns={\"VicSex\": \"Female Victim\"})\n",
    "\n",
    "#Sort values so graphs are in ascending order\n",
    "female_df = female_victims_df.reset_index().sort_values(\"Female Victim\")\n",
    "\n",
    "#Drop the highest outlier value: Relationship Undefined\n",
    "female_df = female_df.drop(6)\n",
    "\n",
    "#Unsort female df for double bar chart\n",
    "unsort_female_df = female_victims_df.reset_index().drop(6)\n"
   ]
  },
  {
   "cell_type": "code",
   "execution_count": 5,
   "metadata": {},
   "outputs": [
    {
     "data": {
      "text/plain": [
       "Relationship     SiblingOther familyParentChildStrangerOther - ...\n",
       "Female Victim                                                23810\n",
       "dtype: object"
      ]
     },
     "execution_count": 5,
     "metadata": {},
     "output_type": "execute_result"
    }
   ],
   "source": [
    "#Find the sum of all Female Victims\n",
    "female_df.sum()"
   ]
  },
  {
   "cell_type": "code",
   "execution_count": 6,
   "metadata": {},
   "outputs": [],
   "source": [
    "#Calculate the percentage of female victims by relationship (23810 is the sum of all female victims)\n",
    "female_percent = female_df['Female Victim']/23810*100\n",
    "female_percent = female_percent.round()"
   ]
  },
  {
   "cell_type": "code",
   "execution_count": 7,
   "metadata": {},
   "outputs": [],
   "source": [
    "# #Unsorted for double bar chart\n",
    "# unsort_female_percent = unsort_female_df['Female Victim']/23810*100\n",
    "# unsort_female_percent = unsort_female_percent.round()\n"
   ]
  },
  {
   "cell_type": "code",
   "execution_count": 8,
   "metadata": {},
   "outputs": [],
   "source": [
    "#Male Dataframe - Pull out only Male Victims\n",
    "male = victims_df.loc[victims_df[\"VicSex\"] == \"Male\", :]\n",
    "\n",
    "#Group Male Victims by Relationships\n",
    "male_victims = male.groupby('Relationship').count()\n",
    "\n",
    "#Rename Columns\n",
    "male_victims_df = male_victims.rename(columns={\"VicSex\": \"Male Victim\"})\n",
    "\n",
    "\n",
    "#Sort values so graphs are in ascending order\n",
    "male_df = male_victims_df.reset_index().sort_values(\"Male Victim\")\n",
    "\n",
    "#Drop the highest outlier value: Relationship Undefined\n",
    "male_df = male_df.drop(6)\n",
    "\n",
    "#Unsort male df for double bar chart\n",
    "# unsort_male_df = male_victims_df.reset_index().drop(6)"
   ]
  },
  {
   "cell_type": "code",
   "execution_count": 9,
   "metadata": {},
   "outputs": [
    {
     "data": {
      "text/plain": [
       "Relationship    SiblingParentOther familySpouseChildPartnerOth...\n",
       "Male Victim                                                 63925\n",
       "dtype: object"
      ]
     },
     "execution_count": 9,
     "metadata": {},
     "output_type": "execute_result"
    }
   ],
   "source": [
    "#Find the sum of all Male Victims\n",
    "male_df.sum()"
   ]
  },
  {
   "cell_type": "code",
   "execution_count": 10,
   "metadata": {},
   "outputs": [],
   "source": [
    "#Calculate the percentage of male victims by relationship (23810 is the sum of all female victims)\n",
    "male_percent = male_df['Male Victim']/63925*100\n",
    "male_percent = male_percent.round()"
   ]
  },
  {
   "cell_type": "code",
   "execution_count": 11,
   "metadata": {},
   "outputs": [],
   "source": [
    "# #Unsorted for double bar chart\n",
    "# unsort_male_percent = unsort_male_df['Male Victim']/63925*100\n",
    "# unsort_male_percent = unsort_male_percent.round()\n"
   ]
  },
  {
   "cell_type": "code",
   "execution_count": 12,
   "metadata": {
    "scrolled": true
   },
   "outputs": [
    {
     "data": {
      "image/png": "[encoded data removed]",
      "text/plain": [
       "<Figure size 432x288 with 1 Axes>"
      ]
     },
     "metadata": {
      "needs_background": "light"
     },
     "output_type": "display_data"
    }
   ],
   "source": [
    "#Plot Female Victim Relationship Information\n",
    "y_axis = np.arange(len(female_percent))\n",
    "tick_locations = [value for value in y_axis]\n",
    "\n",
    "#plt.figure(figsize=(20,3))\n",
    "plt.barh(y_axis, female_percent, color='darkturquoise', alpha= 1.0, align=\"center\")\n",
    "plt.yticks(tick_locations, female_df[\"Relationship\"], fontname='Chaparral Pro', \n",
    "           fontsize=12, rotation=\"horizontal\")\n",
    "\n",
    "# Set a Title and labels\n",
    "plt.title(\"Female Victim Relationship to Offender\", fontname='Chaparral Pro', fontsize=20)\n",
    "plt.xlabel(\"Percentage of Murders\", fontname='Chaparral Pro', fontsize=12)\n",
    "plt.show()"
   ]
  },
  {
   "cell_type": "code",
   "execution_count": 13,
   "metadata": {},
   "outputs": [
    {
     "data": {
      "image/png": "[encoded data removed]",
      "text/plain": [
       "<Figure size 432x288 with 1 Axes>"
      ]
     },
     "metadata": {
      "needs_background": "light"
     },
     "output_type": "display_data"
    }
   ],
   "source": [
    "#Plot Male Victim Relationship Information\n",
    "y_axis = np.arange(len(male_percent))\n",
    "tick_locations = [value for value in y_axis]\n",
    "\n",
    "#plt.figure(figsize=(20,3))\n",
    "plt.barh(y_axis, male_percent, color='maroon', alpha= 1.0, align=\"center\")\n",
    "plt.yticks(tick_locations, male_df[\"Relationship\"], fontname='Chaparral Pro', \n",
    "           fontsize=12, rotation=\"horizontal\")\n",
    "\n",
    "# Set a Title and labels\n",
    "plt.title(\"Male Victim Relationship to Offender\", fontname='Chaparral Pro', fontsize=20)\n",
    "plt.xlabel(\"Percentage of Murders\", fontname='Chaparral Pro', fontsize=12)\n",
    "plt.show()"
   ]
  },
  {
   "cell_type": "code",
   "execution_count": 14,
   "metadata": {},
   "outputs": [
    {
     "name": "stderr",
     "output_type": "stream",
     "text": [
      "C:\\Users\\write\\Anaconda3\\envs\\PythonData\\lib\\site-packages\\ipykernel_launcher.py:12: SettingWithCopyWarning: \n",
      "A value is trying to be set on a copy of a slice from a DataFrame.\n",
      "Try using .loc[row_indexer,col_indexer] = value instead\n",
      "\n",
      "See the caveats in the documentation: http://pandas.pydata.org/pandas-docs/stable/indexing.html#indexing-view-versus-copy\n",
      "  if sys.path[0] == '':\n",
      "C:\\Users\\write\\Anaconda3\\envs\\PythonData\\lib\\site-packages\\ipykernel_launcher.py:30: SettingWithCopyWarning: \n",
      "A value is trying to be set on a copy of a slice from a DataFrame.\n",
      "Try using .loc[row_indexer,col_indexer] = value instead\n",
      "\n",
      "See the caveats in the documentation: http://pandas.pydata.org/pandas-docs/stable/indexing.html#indexing-view-versus-copy\n"
     ]
    }
   ],
   "source": [
    "##GROUP WEAPON TYPE AND VICTIM RELATIONSHIP##\n",
    "#Further group relationships based on intimacy\n",
    "intimate = relationship_df[['Relationship', 'Weapon']]\n",
    "intimate['Relationship'] = intimate['Relationship'].replace(\n",
    "                                            {'Acquaintance': 'Aquaintance/Stranger',\n",
    "                                            'Spouse': 'Romantic Partner',\n",
    "                                            'Stranger': 'Aquaintance/Stranger',\n",
    "                                            'Sibling': 'Family Member',\n",
    "                                            'Parent': 'Family Member',\n",
    "                                            'Child': 'Family Member',\n",
    "                                            'Partner': 'Romantic Partner',\n",
    "                                            'Other family': 'Family Member'})\n",
    "\n",
    "#Find only the intimate weapon types grouped by relationship\n",
    "intimate = intimate[intimate.Weapon == 'Close Contact'].groupby('Relationship').count()\n",
    "intimate = intimate.rename(columns={'Weapon': 'Intimate Murder'})\n",
    "\n",
    "#Group together the detached weapon types by relationship\n",
    "detached= relationship_df[['Relationship', 'Weapon']]\n",
    "\n",
    "#Adjust relationship groups to reflect aquaintance/stranger, family, and romantic partner\n",
    "detached['Relationship'] = detached['Relationship'].replace(\n",
    "                                            {'Acquaintance': 'Aquaintance/Stranger',\n",
    "                                            'Spouse': 'Romantic Partner',\n",
    "                                            'Stranger': 'Aquaintance/Stranger',\n",
    "                                            'Sibling': 'Family Member',\n",
    "                                            'Parent': 'Family Member',\n",
    "                                            'Child': 'Family Member',\n",
    "                                            'Partner': 'Romantic Partner',\n",
    "                                            'Other family': 'Family Member'})\n",
    "\n",
    "#Group detached weapons by relationshps\n",
    "detached = detached[detached.Weapon == 'No/Little Contact'].groupby('Relationship').count()\n",
    "detached = detached.rename(columns={'Weapon': 'Detached Murder'})\n",
    "\n",
    "\n",
    "#Merge the two types of weapons together based on relationship, reset index, drop \"relatioship not determined\"\n",
    "weapon_type = pd.merge(intimate, detached, how='outer', on=['Relationship']).reset_index()\n",
    "weapon_type = weapon_type.drop(2)\n",
    "weapon_type = weapon_type.drop(3)\n",
    "\n",
    "#Get counts for reach murder type for aquaintance, family member, and romantic partner\n",
    "intimate_murder = weapon_type['Intimate Murder']\n",
    "detached_murder = weapon_type['Detached Murder']"
   ]
  },
  {
   "cell_type": "code",
   "execution_count": 15,
   "metadata": {
    "scrolled": true
   },
   "outputs": [
    {
     "data": {
      "image/png": "[encoded data removed]",
      "text/plain": [
       "<Figure size 432x288 with 1 Axes>"
      ]
     },
     "metadata": {},
     "output_type": "display_data"
    }
   ],
   "source": [
    "#Create close contact murder pie chart\n",
    "relationship = ['Aquaintance/Stranger', 'Family Member', 'Romantic Partner']\n",
    "count = [12463, 4844, 4909]\n",
    "colors = [\"dimgray\", \"midnightblue\", \"orangered\"]\n",
    "\n",
    "# Tell matplotlib to create a pie chart based upon the above data\n",
    "plt.pie(count, labels=relationship, colors=colors,\n",
    "        autopct=\"%1.1f%%\", shadow=True, startangle=140)\n",
    "\n",
    "plt.title(\"Victim Relationships: Intimate Murder Methods\", fontname='Chaparral Pro', fontsize=20)\n",
    "plt.show()"
   ]
  },
  {
   "cell_type": "code",
   "execution_count": 16,
   "metadata": {
    "scrolled": true
   },
   "outputs": [
    {
     "data": {
      "image/png": "[encoded data removed]",
      "text/plain": [
       "<Figure size 432x288 with 1 Axes>"
      ]
     },
     "metadata": {},
     "output_type": "display_data"
    }
   ],
   "source": [
    "relationship = ['Aquaintance/Stranger', 'Family Member', 'Romantic Partner']\n",
    "count = [35717, 4881, 8679]\n",
    "colors = [\"dimgray\", \"midnightblue\", \"orangered\"]\n",
    "\n",
    "# Tell matplotlib to create a pie chart based upon the above data\n",
    "plt.pie(count, labels=relationship, colors=colors,\n",
    "        autopct=\"%1.1f%%\", shadow=True, startangle=140)\n",
    "\n",
    "plt.title(\"Victim Relationships: Detached Murder Methods\", fontname='Chaparral Pro', fontsize=20)\n",
    "plt.show()"
   ]
  },
  {
   "cell_type": "code",
   "execution_count": null,
   "metadata": {},
   "outputs": [],
   "source": []
  }
 ],
 "metadata": {
  "kernelspec": {
   "display_name": "Python [conda env:PythonData]",
   "language": "python",
   "name": "conda-env-PythonData-py"
  },
  "language_info": {
   "codemirror_mode": {
    "name": "ipython",
    "version": 3
   },
   "file_extension": ".py",
   "mimetype": "text/x-python",
   "name": "python",
   "nbconvert_exporter": "python",
   "pygments_lexer": "ipython3",
   "version": "3.6.7"
  }
 },
 "nbformat": 4,
 "nbformat_minor": 2
}
