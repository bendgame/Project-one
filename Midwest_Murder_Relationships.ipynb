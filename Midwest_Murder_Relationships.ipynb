{
 "cells": [
  {
   "cell_type": "code",
   "execution_count": 6,
   "metadata": {},
   "outputs": [
    {
     "data": {
      "text/plain": [
       "Index(['index', 'ID', 'CNTYFIPS', 'Ori', 'State', 'Agency', 'Agentype',\n",
       "       'Source', 'Solved', 'Year', 'StateName', 'Month', 'Incident',\n",
       "       'ActionType', 'Homicide', 'Situation', 'VicAge', 'VicSex', 'VicRace',\n",
       "       'VicEthnic', 'OffAge', 'OffSex', 'OffRace', 'OffEthnic', 'Weapon',\n",
       "       'Relationship', 'Circumstance', 'Subcircum', 'VicCount', 'OffCount',\n",
       "       'FileDate', 'fstate', 'MSA'],\n",
       "      dtype='object')"
      ]
     },
     "execution_count": 6,
     "metadata": {},
     "output_type": "execute_result"
    }
   ],
   "source": [
    "\n",
    "%matplotlib inline\n",
    "\n",
    "# Import dependencies\n",
    "import pandas as pd\n",
    "import numpy as np\n",
    "import os \n",
    "import matplotlib.pyplot as plt\n",
    "\n",
    "\n",
    "file = os.path.join('MidwestMurderData.csv')\n",
    "midwest_homicide_df = pd.read_csv(file)\n",
    "midwest_homicide_df.columns"
   ]
  },
  {
   "cell_type": "code",
   "execution_count": 18,
   "metadata": {},
   "outputs": [
    {
     "data": {
      "text/plain": [
       "array(['Knife or cutting instrument', 'Handgun - pistol, revolver, etc',\n",
       "       'Shotgun', 'Strangulation - hanging',\n",
       "       'Personal weapons, includes beating',\n",
       "       'Blunt object - hammer, club, etc', 'Rifle',\n",
       "       'Other or type unknown', 'Firearm, type not stated', 'Fire',\n",
       "       'Asphyxiation - includes death by gas', 'Drowning',\n",
       "       'Pushed or thrown out window',\n",
       "       'Narcotics or drugs, sleeping pills', 'Explosives', 'Other gun',\n",
       "       'Poison - does not include gas'], dtype=object)"
      ]
     },
     "execution_count": 18,
     "metadata": {},
     "output_type": "execute_result"
    }
   ],
   "source": [
    "relationship_df = midwest_homicide_df[['Relationship', 'VicSex','Weapon', 'OffSex']]\n",
    "relationship_df['Weapon'].unique()"
   ]
  },
  {
   "cell_type": "code",
   "execution_count": 19,
   "metadata": {},
   "outputs": [
    {
     "name": "stderr",
     "output_type": "stream",
     "text": [
      "C:\\Users\\write\\Anaconda3\\envs\\PythonData\\lib\\site-packages\\ipykernel_launcher.py:18: SettingWithCopyWarning: \n",
      "A value is trying to be set on a copy of a slice from a DataFrame.\n",
      "Try using .loc[row_indexer,col_indexer] = value instead\n",
      "\n",
      "See the caveats in the documentation: http://pandas.pydata.org/pandas-docs/stable/indexing.html#indexing-view-versus-copy\n"
     ]
    }
   ],
   "source": [
    "#Combine similar weapons together\n",
    "relationship_df['Weapon'] = relationship_df['Weapon'].replace(\n",
    "                                                {\"Knife or cutting instrument\": \"Close Contact\",\n",
    "                                                \"Handgun - pistol, revolver, etc\": \"No/Little Contact\",\n",
    "                                                \"Shotgun\": \"No/Little Contact\",\n",
    "                                                \"Strangulation - hanging\": \"No/Little Contact\",\n",
    "                                                \"Personal weapons, includes beating\": \"Close Contact\",\n",
    "                                                \"Blunt object - hammer, club, etc\" : \"Close Contact\",\n",
    "                                                \"Rifle\": \"No/Little Contact\",\n",
    "                                                \"Firearm, type not stated\": \"No/Little Contact\",\n",
    "                                                \"Asphyxiation - includes death by gas\": \"Close Contact\",\n",
    "                                                \"Other gun\": \"No/Little Contact\",\n",
    "                                                \"Fire\": \"No/Little Contact\",\n",
    "                                                \"Drowning\": \"Close Contact\",\n",
    "                                                \"Pushed or thrown out window\": \"No/Little Contact\",\n",
    "                                                \"Narcotics or drugs, sleeping pills\": \"No/Little Contact\",\n",
    "                                                \"Explosives\": \"No/Little Contact\",\n",
    "                                                \"Poison - does not include gas\": \"No/Little Contact\"})\n"
   ]
  },
  {
   "cell_type": "code",
   "execution_count": 20,
   "metadata": {},
   "outputs": [
    {
     "name": "stderr",
     "output_type": "stream",
     "text": [
      "C:\\Users\\write\\Anaconda3\\envs\\PythonData\\lib\\site-packages\\ipykernel_launcher.py:26: SettingWithCopyWarning: \n",
      "A value is trying to be set on a copy of a slice from a DataFrame.\n",
      "Try using .loc[row_indexer,col_indexer] = value instead\n",
      "\n",
      "See the caveats in the documentation: http://pandas.pydata.org/pandas-docs/stable/indexing.html#indexing-view-versus-copy\n"
     ]
    }
   ],
   "source": [
    "#Combine similar relationships together\n",
    "relationship_df['Relationship'] = relationship_df[\"Relationship\"].replace(\n",
    "                                                  {'Brother': 'Sibling',\n",
    "                                                   'Sister': 'Sibling',\n",
    "                                                   'Father': 'Parent',\n",
    "                                                   'Mother': 'Parent',\n",
    "                                                   'Daughter': 'Child',\n",
    "                                                   'Son': 'Child',\n",
    "                                                   'Stepson': 'Child',\n",
    "                                                   \"Stepdaughter\": \"Child\",\n",
    "                                                   \"Homosexual relationship\": 'Partner',\n",
    "                                                   \"Boyfriend\" : \"Partner\",\n",
    "                                                   \"Girlfriend\" : \"Partner\",\n",
    "                                                   \"Common-law husband\" : \"Partner\",\n",
    "                                                   \"Common-law wife\" : \"Partner\",\n",
    "                                                   \"Ex-husband\" : \"Spouse\",\n",
    "                                                   \"Ex-wife\" : \"Spouse\",\n",
    "                                                   \"Stepmother\" : \"Parent\",\n",
    "                                                   \"Stepfather\" : \"Parent\",\n",
    "                                                   \"Husband\" : \"Spouse\",\n",
    "                                                   \"Wife\" : \"Spouse\",\n",
    "                                                  \"Friend\": 'Other - known to victim',\n",
    "                                                  \"Neighbor\": 'Other - known to victim',\n",
    "                                                  \"Employee\": 'Other - known to victim',\n",
    "                                                  \"Employer\": 'Other - known to victim',\n",
    "                                                  \"In-law\" : 'Other - known to victim'})\n",
    "                                       "
   ]
  },
  {
   "cell_type": "code",
   "execution_count": 23,
   "metadata": {
    "scrolled": true
   },
   "outputs": [],
   "source": [
    "#Female Datafarme - pull out only female victims\n",
    "victims_df = relationship_df[['Relationship', 'VicSex']]\n",
    "female_victims = victims_df.loc[victims_df[\"VicSex\"]=='Female', :]\n",
    "\n",
    "#Group Female Victims by Relationships\n",
    "female_victims = female_victims.groupby('Relationship').count()\n",
    "\n",
    "#Rename columns\n",
    "female_victims_df = female_victims.rename(columns={\"VicSex\": \"Female Victim\"})\n",
    "\n",
    "#Sort values so graphs are in ascending order\n",
    "female_df = female_victims_df.reset_index().sort_values(\"Female Victim\")\n",
    "\n",
    "#Drop the highest outlier value: Relationship Undefined\n",
    "female_df = female_df.drop(6)\n",
    "\n",
    "#Unsort female df for double bar chart\n",
    "unsort_female_df = female_victims_df.reset_index().drop(6)\n"
   ]
  },
  {
   "cell_type": "code",
   "execution_count": 24,
   "metadata": {},
   "outputs": [
    {
     "data": {
      "text/plain": [
       "Relationship     SiblingOther familyParentChildStrangerOther - ...\n",
       "Female Victim                                                23810\n",
       "dtype: object"
      ]
     },
     "execution_count": 24,
     "metadata": {},
     "output_type": "execute_result"
    }
   ],
   "source": [
    "#Find the sum of all Female Victims\n",
    "female_df.sum()"
   ]
  },
  {
   "cell_type": "code",
   "execution_count": 25,
   "metadata": {},
   "outputs": [
    {
     "data": {
      "text/plain": [
       "7     1.0\n",
       "3     3.0\n",
       "4     4.0\n",
       "1     9.0\n",
       "9    11.0\n",
       "2    12.0\n",
       "5    17.0\n",
       "8    21.0\n",
       "0    22.0\n",
       "Name: Female Victim, dtype: float64"
      ]
     },
     "execution_count": 25,
     "metadata": {},
     "output_type": "execute_result"
    }
   ],
   "source": [
    "#Calculate the percentage of female victims by relationship (23810 is the sum of all female victims)\n",
    "female_percent = female_df['Female Victim']/23810*100\n",
    "female_percent = female_percent.round()\n",
    "female_percent"
   ]
  },
  {
   "cell_type": "code",
   "execution_count": 26,
   "metadata": {},
   "outputs": [
    {
     "data": {
      "text/plain": [
       "0    22.0\n",
       "1     9.0\n",
       "2    12.0\n",
       "3     3.0\n",
       "4     4.0\n",
       "5    17.0\n",
       "7     1.0\n",
       "8    21.0\n",
       "9    11.0\n",
       "Name: Female Victim, dtype: float64"
      ]
     },
     "execution_count": 26,
     "metadata": {},
     "output_type": "execute_result"
    }
   ],
   "source": [
    "#Unsorted for double bar chart\n",
    "unsort_female_percent = unsort_female_df['Female Victim']/23810*100\n",
    "unsort_female_percent = unsort_female_percent.round()\n",
    "unsort_female_percent"
   ]
  },
  {
   "cell_type": "code",
   "execution_count": 27,
   "metadata": {},
   "outputs": [],
   "source": [
    "#Male Dataframe - Pull out only Male Victims\n",
    "male = victims_df.loc[victims_df[\"VicSex\"] == \"Male\", :]\n",
    "\n",
    "#Group Male Victims by Relationships\n",
    "male_victims = male.groupby('Relationship').count()\n",
    "\n",
    "#Rename Columns\n",
    "male_victims_df = male_victims.rename(columns={\"VicSex\": \"Male Victim\"})\n",
    "\n",
    "\n",
    "#Sort values so graphs are in ascending order\n",
    "male_df = male_victims_df.reset_index().sort_values(\"Male Victim\")\n",
    "\n",
    "#Drop the highest outlier value: Relationship Undefined\n",
    "male_df = male_df.drop(6)\n",
    "\n",
    "#Unsort male df for double bar chart\n",
    "unsort_male_df = male_victims_df.reset_index().drop(6)"
   ]
  },
  {
   "cell_type": "code",
   "execution_count": 28,
   "metadata": {},
   "outputs": [
    {
     "data": {
      "text/plain": [
       "Relationship    SiblingParentOther familySpouseChildPartnerOth...\n",
       "Male Victim                                                 63925\n",
       "dtype: object"
      ]
     },
     "execution_count": 28,
     "metadata": {},
     "output_type": "execute_result"
    }
   ],
   "source": [
    "#Find the sum of all Male Victims\n",
    "male_df.sum()"
   ]
  },
  {
   "cell_type": "code",
   "execution_count": 29,
   "metadata": {},
   "outputs": [],
   "source": [
    "#Calculate the percentage of female victims by relationship (23810 is the sum of all female victims)\n",
    "male_percent = male_df['Male Victim']/63925*100\n",
    "male_percent = male_percent.round()"
   ]
  },
  {
   "cell_type": "code",
   "execution_count": 30,
   "metadata": {},
   "outputs": [
    {
     "data": {
      "text/plain": [
       "0    40.0\n",
       "1     4.0\n",
       "2    16.0\n",
       "3     2.0\n",
       "4     2.0\n",
       "5     4.0\n",
       "7     2.0\n",
       "8     4.0\n",
       "9    26.0\n",
       "Name: Male Victim, dtype: float64"
      ]
     },
     "execution_count": 30,
     "metadata": {},
     "output_type": "execute_result"
    }
   ],
   "source": [
    "#Unsorted for double bar chart\n",
    "unsort_male_percent = unsort_male_df['Male Victim']/63925*100\n",
    "unsort_male_percent = unsort_male_percent.round()\n",
    "unsort_male_percent"
   ]
  },
  {
   "cell_type": "code",
   "execution_count": 31,
   "metadata": {
    "scrolled": true
   },
   "outputs": [
    {
     "data": {
      "image/png": "[encoded data removed]",
      "text/plain": [
       "<Figure size 432x288 with 1 Axes>"
      ]
     },
     "metadata": {
      "needs_background": "light"
     },
     "output_type": "display_data"
    }
   ],
   "source": [
    "#Plot Female Victim Relationship Information\n",
    "y_axis = np.arange(len(female_percent))\n",
    "tick_locations = [value for value in y_axis]\n",
    "\n",
    "#plt.figure(figsize=(20,3))\n",
    "plt.barh(y_axis, female_percent, color='darkturquoise', alpha= 1.0, align=\"center\")\n",
    "plt.yticks(tick_locations, female_df[\"Relationship\"], fontname='Chaparral Pro', \n",
    "           fontsize=12, rotation=\"horizontal\")\n",
    "\n",
    "# Set a Title and labels\n",
    "plt.title(\"Female Victim Relationship to Offender\", fontname='Chaparral Pro', fontsize=20)\n",
    "plt.xlabel(\"Percentage of Murders\", fontname='Chaparral Pro', fontsize=12)\n",
    "plt.show()"
   ]
  },
  {
   "cell_type": "code",
   "execution_count": 32,
   "metadata": {},
   "outputs": [
    {
     "data": {
      "image/png": "[encoded data removed]",
      "text/plain": [
       "<Figure size 432x288 with 1 Axes>"
      ]
     },
     "metadata": {
      "needs_background": "light"
     },
     "output_type": "display_data"
    }
   ],
   "source": [
    "#Plot Male Victim Relationship Information\n",
    "y_axis = np.arange(len(male_percent))\n",
    "tick_locations = [value for value in y_axis]\n",
    "\n",
    "#plt.figure(figsize=(20,3))\n",
    "plt.barh(y_axis, male_percent, color='maroon', alpha= 1.0, align=\"center\")\n",
    "plt.yticks(tick_locations, male_df[\"Relationship\"], fontname='Chaparral Pro', \n",
    "           fontsize=12, rotation=\"horizontal\")\n",
    "\n",
    "# Set a Title and labels\n",
    "plt.title(\"Male Victim Relationship to Offender\", fontname='Chaparral Pro', fontsize=20)\n",
    "plt.xlabel(\"Percentage of Murders\", fontname='Chaparral Pro', fontsize=12)\n",
    "plt.show()"
   ]
  },
  {
   "cell_type": "code",
   "execution_count": 33,
   "metadata": {
    "scrolled": true
   },
   "outputs": [],
   "source": [
    "#PLOTTING VICTIM RELATIONSHIPS\n",
    "\n",
    "#Set the length of the Y axis\n",
    "# N = 9\n",
    "\n",
    "# # #Set the data points for male and female bars\n",
    "# male_data = (unsort_male_percent)\n",
    "# female_data = (unsort_female_percent)\n",
    "\n",
    "# # #Plot the bars\n",
    "# ind = np.arange(N)\n",
    "# width = 0.35\n",
    "# plt.barh(ind, male_data, width, color='maroon', label='Male Victims')\n",
    "# plt.barh(ind + width, female_data, width, color='darkturquoise', label='Female Victims')\n",
    "\n",
    "# # #Set the Y axis ticks between the two bars\n",
    "# plt.yticks(ind + width / 2, ['Stranger', 'Spouse', 'Sibling', 'Partner', 'Parent',\n",
    "#                             'Other family', 'Other - known to victim', 'Child', 'Aquaintance'],\n",
    "#                             fontname= 'Chaparral Pro', fontsize=12)\n",
    "\n",
    "# # #Set legend\n",
    "# plt.legend(loc='upper right')\n",
    "\n",
    "# # # Set a Title and labels\n",
    "# plt.title(\"Victim Relationship to Offender\", fontname= 'Chaparral Pro', fontsize=20)\n",
    "# plt.xlabel(\"Percentage of Murders\", fontname= 'Chaparral Pro', fontsize=12)\n",
    "# plt.show()"
   ]
  },
  {
   "cell_type": "code",
   "execution_count": 34,
   "metadata": {},
   "outputs": [
    {
     "data": {
      "text/plain": [
       "array(['Close Contact', 'No/Little Contact', 'Other or type unknown'],\n",
       "      dtype=object)"
      ]
     },
     "execution_count": 34,
     "metadata": {},
     "output_type": "execute_result"
    }
   ],
   "source": [
    "#Weapons grouping\n",
    "relationship_df['Weapon'].unique()"
   ]
  },
  {
   "cell_type": "code",
   "execution_count": 35,
   "metadata": {},
   "outputs": [],
   "source": [
    "# #Female Gun Victims by Relationship\n",
    "# guns_df = relationship_df.loc[relationship_df['Weapon'] == \"Gun\", :]\n",
    "# guns_df = guns_df.loc[guns_df['VicSex'] == 'Female', :]\n",
    "# female_gun_victims = guns_df.groupby('Relationship')['Weapon'].count()"
   ]
  },
  {
   "cell_type": "code",
   "execution_count": 90,
   "metadata": {},
   "outputs": [
    {
     "data": {
      "text/plain": [
       "array(['Relationship not determined', 'Acquaintance', 'Spouse',\n",
       "       'Stranger', 'Other - known to victim', 'Sibling', 'Parent',\n",
       "       'Child', 'Partner', 'Other family'], dtype=object)"
      ]
     },
     "execution_count": 90,
     "metadata": {},
     "output_type": "execute_result"
    }
   ],
   "source": [
    "# #Male Gun Victims by Relationship\n",
    "# guns_df = relationship_df.loc[relationship_df['Weapon'] == \"Gun\", :]\n",
    "# guns_df = guns_df.loc[guns_df['VicSex'] == 'Male', :]\n",
    "# male_gun_victims = guns_df.groupby('Relationship')['Weapon'].count()\n",
    "# male_gun_victims\n",
    "relationship_df['Relationship'].unique()"
   ]
  },
  {
   "cell_type": "code",
   "execution_count": 100,
   "metadata": {},
   "outputs": [
    {
     "name": "stderr",
     "output_type": "stream",
     "text": [
      "C:\\Users\\write\\Anaconda3\\envs\\PythonData\\lib\\site-packages\\ipykernel_launcher.py:11: SettingWithCopyWarning: \n",
      "A value is trying to be set on a copy of a slice from a DataFrame.\n",
      "Try using .loc[row_indexer,col_indexer] = value instead\n",
      "\n",
      "See the caveats in the documentation: http://pandas.pydata.org/pandas-docs/stable/indexing.html#indexing-view-versus-copy\n",
      "  # This is added back by InteractiveShellApp.init_path()\n"
     ]
    }
   ],
   "source": [
    "#Further group relationships based on intimacy\n",
    "close_weapon = relationship_df[['Relationship', 'Weapon']]\n",
    "close_weapon['Relationship'] = close_weapon['Relationship'].replace(\n",
    "                                            {'Acquaintance': 'Aquaintance/Stranger',\n",
    "                                            'Spouse': 'Romantic Partner',\n",
    "                                            'Stranger': 'Aquaintance/Stranger',\n",
    "                                            'Sibling': 'Family Member',\n",
    "                                            'Parent': 'Family Member',\n",
    "                                            'Child': 'Family Member',\n",
    "                                            'Partner': 'Romantic Partner',\n",
    "                                            'Other family': 'Family Member'})\n"
   ]
  },
  {
   "cell_type": "code",
   "execution_count": 101,
   "metadata": {},
   "outputs": [],
   "source": [
    "#Find only the close contact weapon types grouped by relationship\n",
    "close_weapon = close_weapon[close_weapon.Weapon == 'Close Contact'].groupby('Relationship').count()\n",
    "close_weapon = close_weapon.rename(columns={'Weapon': 'Close Contact Murder'})"
   ]
  },
  {
   "cell_type": "code",
   "execution_count": 106,
   "metadata": {},
   "outputs": [
    {
     "name": "stderr",
     "output_type": "stream",
     "text": [
      "C:\\Users\\write\\Anaconda3\\envs\\PythonData\\lib\\site-packages\\ipykernel_launcher.py:12: SettingWithCopyWarning: \n",
      "A value is trying to be set on a copy of a slice from a DataFrame.\n",
      "Try using .loc[row_indexer,col_indexer] = value instead\n",
      "\n",
      "See the caveats in the documentation: http://pandas.pydata.org/pandas-docs/stable/indexing.html#indexing-view-versus-copy\n",
      "  if sys.path[0] == '':\n"
     ]
    }
   ],
   "source": [
    "#Group together the No/Little Contact Weapons\n",
    "no_contact_weapon = relationship_df[['Relationship', 'Weapon']]\n",
    "\n",
    "no_contact_weapon['Relationship'] = no_contact_weapon['Relationship'].replace(\n",
    "                                            {'Acquaintance': 'Aquaintance/Stranger',\n",
    "                                            'Spouse': 'Romantic Partner',\n",
    "                                            'Stranger': 'Aquaintance/Stranger',\n",
    "                                            'Sibling': 'Family Member',\n",
    "                                            'Parent': 'Family Member',\n",
    "                                            'Child': 'Family Member',\n",
    "                                            'Partner': 'Romantic Partner',\n",
    "                                            'Other family': 'Family Member'})\n",
    "\n",
    "no_contact_weapon = no_contact_weapon[no_contact_weapon.Weapon == 'No/Little Contact'].groupby('Relationship').count()\n",
    "no_contact_weapon = no_contact_weapon.rename(columns={'Weapon': 'Minimal Contact Murder'})"
   ]
  },
  {
   "cell_type": "code",
   "execution_count": 118,
   "metadata": {},
   "outputs": [],
   "source": [
    "#Merge the two types of weapons together based on relationship, reset index, drop \"relatioship not determined\"\n",
    "weapon_type = pd.merge(close_weapon, no_contact_weapon, how='outer', on=['Relationship']).reset_index()\n",
    "weapon_type = weapon_type.drop(2)\n",
    "weapon_type = weapon_type.drop(3)"
   ]
  },
  {
   "cell_type": "code",
   "execution_count": 119,
   "metadata": {},
   "outputs": [
    {
     "data": {
      "text/html": [
       "<div>\n",
       "<style scoped>\n",
       "    .dataframe tbody tr th:only-of-type {\n",
       "        vertical-align: middle;\n",
       "    }\n",
       "\n",
       "    .dataframe tbody tr th {\n",
       "        vertical-align: top;\n",
       "    }\n",
       "\n",
       "    .dataframe thead th {\n",
       "        text-align: right;\n",
       "    }\n",
       "</style>\n",
       "<table border=\"1\" class=\"dataframe\">\n",
       "  <thead>\n",
       "    <tr style=\"text-align: right;\">\n",
       "      <th></th>\n",
       "      <th>Relationship</th>\n",
       "      <th>Close Contact Murder</th>\n",
       "      <th>Minimal Contact Murder</th>\n",
       "    </tr>\n",
       "  </thead>\n",
       "  <tbody>\n",
       "    <tr>\n",
       "      <th>0</th>\n",
       "      <td>Aquaintance/Stranger</td>\n",
       "      <td>12463</td>\n",
       "      <td>35717</td>\n",
       "    </tr>\n",
       "    <tr>\n",
       "      <th>1</th>\n",
       "      <td>Family Member</td>\n",
       "      <td>4844</td>\n",
       "      <td>4881</td>\n",
       "    </tr>\n",
       "    <tr>\n",
       "      <th>4</th>\n",
       "      <td>Romantic Partner</td>\n",
       "      <td>4909</td>\n",
       "      <td>8679</td>\n",
       "    </tr>\n",
       "  </tbody>\n",
       "</table>\n",
       "</div>"
      ],
      "text/plain": [
       "           Relationship  Close Contact Murder  Minimal Contact Murder\n",
       "0  Aquaintance/Stranger                 12463                   35717\n",
       "1         Family Member                  4844                    4881\n",
       "4      Romantic Partner                  4909                    8679"
      ]
     },
     "execution_count": 119,
     "metadata": {},
     "output_type": "execute_result"
    }
   ],
   "source": [
    "weapon_type"
   ]
  },
  {
   "cell_type": "code",
   "execution_count": 122,
   "metadata": {},
   "outputs": [
    {
     "data": {
      "text/plain": [
       "0    12463\n",
       "1     4844\n",
       "4     4909\n",
       "Name: Close Contact Murder, dtype: int64"
      ]
     },
     "execution_count": 122,
     "metadata": {},
     "output_type": "execute_result"
    }
   ],
   "source": [
    "close = weapon_type['Close Contact Murder']\n",
    "close"
   ]
  },
  {
   "cell_type": "code",
   "execution_count": 123,
   "metadata": {},
   "outputs": [
    {
     "data": {
      "text/plain": [
       "0    35717\n",
       "1     4881\n",
       "4     8679\n",
       "Name: Minimal Contact Murder, dtype: int64"
      ]
     },
     "execution_count": 123,
     "metadata": {},
     "output_type": "execute_result"
    }
   ],
   "source": [
    "far = weapon_type['Minimal Contact Murder']\n",
    "far"
   ]
  },
  {
   "cell_type": "code",
   "execution_count": 138,
   "metadata": {
    "scrolled": true
   },
   "outputs": [
    {
     "data": {
      "image/png": "[encoded data removed]",
      "text/plain": [
       "<Figure size 432x288 with 1 Axes>"
      ]
     },
     "metadata": {},
     "output_type": "display_data"
    }
   ],
   "source": [
    "#Create close contact murder pie chart\n",
    "relationship = ['Aquaintance/Stranger', 'Family Member', 'Romantic Partner']\n",
    "count = [12463, 4844, 4909]\n",
    "colors = [\"dimgray\", \"midnightblue\", \"orangered\"]\n",
    "\n",
    "# Tell matplotlib to create a pie chart based upon the above data\n",
    "plt.pie(count, labels=relationship, colors=colors,\n",
    "        autopct=\"%1.1f%%\", shadow=True, startangle=140)\n",
    "\n",
    "plt.title(\"Victim Relationships in Close Contact Murder\", fontname='Chaparral Pro', fontsize=20)\n",
    "plt.show()"
   ]
  },
  {
   "cell_type": "code",
   "execution_count": 139,
   "metadata": {},
   "outputs": [
    {
     "data": {
      "image/png": "[encoded data removed]",
      "text/plain": [
       "<Figure size 432x288 with 1 Axes>"
      ]
     },
     "metadata": {},
     "output_type": "display_data"
    }
   ],
   "source": [
    "relationship = ['Aquaintance/Stranger', 'Family Member', 'Romantic Partner']\n",
    "count = [35717, 4881, 8679]\n",
    "colors = [\"dimgray\", \"midnightblue\", \"orangered\"]\n",
    "\n",
    "# Tell matplotlib to create a pie chart based upon the above data\n",
    "plt.pie(count, labels=relationship, colors=colors,\n",
    "        autopct=\"%1.1f%%\", shadow=True, startangle=140)\n",
    "\n",
    "plt.title(\"Victim Relationships in Minimal Contact Murder\", fontname='Chaparral Pro', fontsize=20)\n",
    "plt.show()"
   ]
  },
  {
   "cell_type": "code",
   "execution_count": null,
   "metadata": {},
   "outputs": [],
   "source": []
  }
 ],
 "metadata": {
  "kernelspec": {
   "display_name": "Python [conda env:PythonData]",
   "language": "python",
   "name": "conda-env-PythonData-py"
  },
  "language_info": {
   "codemirror_mode": {
    "name": "ipython",
    "version": 3
   },
   "file_extension": ".py",
   "mimetype": "text/x-python",
   "name": "python",
   "nbconvert_exporter": "python",
   "pygments_lexer": "ipython3",
   "version": "3.6.7"
  }
 },
 "nbformat": 4,
 "nbformat_minor": 2
}
