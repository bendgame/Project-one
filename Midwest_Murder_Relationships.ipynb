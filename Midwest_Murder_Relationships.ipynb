{
 "cells": [
  {
   "cell_type": "code",
   "execution_count": 1,
   "metadata": {},
   "outputs": [
    {
     "data": {
      "text/plain": [
       "Index(['index', 'ID', 'CNTYFIPS', 'Ori', 'State', 'Agency', 'Agentype',\n",
       "       'Source', 'Solved', 'Year', 'StateName', 'Month', 'Incident',\n",
       "       'ActionType', 'Homicide', 'Situation', 'VicAge', 'VicSex', 'VicRace',\n",
       "       'VicEthnic', 'OffAge', 'OffSex', 'OffRace', 'OffEthnic', 'Weapon',\n",
       "       'Relationship', 'Circumstance', 'Subcircum', 'VicCount', 'OffCount',\n",
       "       'FileDate', 'fstate', 'MSA'],\n",
       "      dtype='object')"
      ]
     },
     "execution_count": 1,
     "metadata": {},
     "output_type": "execute_result"
    }
   ],
   "source": [
    "# Import dependencies\n",
    "import pandas as pd\n",
    "import numpy as np\n",
    "import os \n",
    "\n",
    "file = os.path.join('MidwestMurderData.csv')\n",
    "midwest_homicide_df = pd.read_csv(file)\n",
    "midwest_homicide_df.columns"
   ]
  },
  {
   "cell_type": "code",
   "execution_count": null,
   "metadata": {},
   "outputs": [],
   "source": [
    "relationship_df = midwest_homicide_df[['Relationship', 'VicSex', 'OffSex',\n",
    "                                       'Year', 'Weapon']]"
   ]
  },
  {
   "cell_type": "code",
   "execution_count": null,
   "metadata": {},
   "outputs": [
    {
     "name": "stderr",
     "output_type": "stream",
     "text": [
      "C:\\Users\\write\\Anaconda3\\envs\\PythonData\\lib\\site-packages\\ipykernel_launcher.py:12: SettingWithCopyWarning: \n",
      "A value is trying to be set on a copy of a slice from a DataFrame.\n",
      "Try using .loc[row_indexer,col_indexer] = value instead\n",
      "\n",
      "See the caveats in the documentation: http://pandas.pydata.org/pandas-docs/stable/indexing.html#indexing-view-versus-copy\n",
      "  if sys.path[0] == '':\n"
     ]
    }
   ],
   "source": [
    "#Combine similar weapons together\n",
    "relationship_df['Weapon'] = relationship_df['Weapon'].replace(\n",
    "                                                {\"Knife or cutting instrument\": \"Sharp Object\",\n",
    "                                                \"Handgun - pistol, revolver, etc\": \"Gun\",\n",
    "                                                \"Shotgun\": \"Gun\",\n",
    "                                                \"Strangulation - hanging\": \"Strangulation\",\n",
    "                                                \"Personal weapons, includes beating\": \"Beating/Personal\",\n",
    "                                                \"Blunt object - hammer, club, etc\" : \"Blunt Object\",\n",
    "                                                \"Rifle\": \"Gun\",\n",
    "                                                \"Firearm, type not stated\": \"Gun\",\n",
    "                                                \"Asphyxiation - includes death by gas\": \"Asphyxiation\",\n",
    "                                                \"Other gun\": \"Gun\"})"
   ]
  },
  {
   "cell_type": "code",
   "execution_count": null,
   "metadata": {},
   "outputs": [
    {
     "name": "stderr",
     "output_type": "stream",
     "text": [
      "C:\\Users\\write\\Anaconda3\\envs\\PythonData\\lib\\site-packages\\ipykernel_launcher.py:21: SettingWithCopyWarning: \n",
      "A value is trying to be set on a copy of a slice from a DataFrame.\n",
      "Try using .loc[row_indexer,col_indexer] = value instead\n",
      "\n",
      "See the caveats in the documentation: http://pandas.pydata.org/pandas-docs/stable/indexing.html#indexing-view-versus-copy\n"
     ]
    }
   ],
   "source": [
    "#Combine similar relationships together\n",
    "relationship_df['Relationship'] = relationship_df[\"Relationship\"].replace(\n",
    "                                                  {'Brother': 'Sibling',\n",
    "                                                   'Sister': 'Sibling',\n",
    "                                                   'Father': 'Biological Parent',\n",
    "                                                   'Mother': 'Biological Parent',\n",
    "                                                   'Daughter': 'Biological Child',\n",
    "                                                   'Son': 'Biological Child',\n",
    "                                                   'Stepson': 'Step Child',\n",
    "                                                   \"Stepdaughter\": \"Step Child\",\n",
    "                                                   \"Homosexual relationship\": 'Partner',\n",
    "                                                   \"Boyfriend\" : \"Partner\",\n",
    "                                                   \"Girlfriend\" : \"Partner\",\n",
    "                                                   \"Common-law husband\" : \"Partner\",\n",
    "                                                   \"Common-law wife\" : \"Partner\",\n",
    "                                                   \"Ex-husband\" : \"Ex-Spouse\",\n",
    "                                                   \"Ex-wife\" : \"Ex-Spouse\",\n",
    "                                                   \"Stepmother\" : \"Step Parent\",\n",
    "                                                   \"Stepfather\" : \"Step Parent\",\n",
    "                                                   \"Husband\" : \"Spouse\",\n",
    "                                                   \"Wife\" : \"Spouse\"})\n",
    "                                       "
   ]
  },
  {
   "cell_type": "code",
   "execution_count": null,
   "metadata": {},
   "outputs": [],
   "source": [
    "# By relationship, summarize the count of female victims and male victims\n",
    "\n"
   ]
  },
  {
   "cell_type": "code",
   "execution_count": null,
   "metadata": {},
   "outputs": [],
   "source": []
  },
  {
   "cell_type": "code",
   "execution_count": null,
   "metadata": {},
   "outputs": [],
   "source": []
  },
  {
   "cell_type": "code",
   "execution_count": null,
   "metadata": {},
   "outputs": [],
   "source": []
  }
 ],
 "metadata": {
  "kernelspec": {
   "display_name": "Python [conda env:PythonData]",
   "language": "python",
   "name": "conda-env-PythonData-py"
  },
  "language_info": {
   "codemirror_mode": {
    "name": "ipython",
    "version": 3
   },
   "file_extension": ".py",
   "mimetype": "text/x-python",
   "name": "python",
   "nbconvert_exporter": "python",
   "pygments_lexer": "ipython3",
   "version": "3.6.7"
  }
 },
 "nbformat": 4,
 "nbformat_minor": 2
}
