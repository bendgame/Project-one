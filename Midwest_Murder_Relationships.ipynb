{
 "cells": [
  {
   "cell_type": "code",
   "execution_count": 1,
   "metadata": {},
   "outputs": [],
   "source": [
    "\n",
    "%matplotlib inline\n",
    "\n",
    "# Import dependencies\n",
    "import pandas as pd\n",
    "import numpy as np\n",
    "import os \n",
    "import matplotlib.pyplot as plt\n",
    "\n",
    "\n",
    "file = os.path.join('MidwestMurderData.csv')\n",
    "midwest_homicide_df = pd.read_csv(file)\n"
   ]
  },
  {
   "cell_type": "code",
   "execution_count": 2,
   "metadata": {},
   "outputs": [
    {
     "data": {
      "text/plain": [
       "array(['Knife or cutting instrument', 'Handgun - pistol, revolver, etc',\n",
       "       'Shotgun', 'Strangulation - hanging',\n",
       "       'Personal weapons, includes beating',\n",
       "       'Blunt object - hammer, club, etc', 'Rifle',\n",
       "       'Other or type unknown', 'Firearm, type not stated', 'Fire',\n",
       "       'Asphyxiation - includes death by gas', 'Drowning',\n",
       "       'Pushed or thrown out window',\n",
       "       'Narcotics or drugs, sleeping pills', 'Explosives', 'Other gun',\n",
       "       'Poison - does not include gas'], dtype=object)"
      ]
     },
     "execution_count": 2,
     "metadata": {},
     "output_type": "execute_result"
    }
   ],
   "source": [
    "midwest_homicide_df['Weapon'].unique()"
   ]
  },
  {
   "cell_type": "code",
   "execution_count": 3,
   "metadata": {},
   "outputs": [
    {
     "name": "stderr",
     "output_type": "stream",
     "text": [
      "C:\\Users\\write\\Anaconda3\\envs\\PythonData\\lib\\site-packages\\ipykernel_launcher.py:22: SettingWithCopyWarning: \n",
      "A value is trying to be set on a copy of a slice from a DataFrame.\n",
      "Try using .loc[row_indexer,col_indexer] = value instead\n",
      "\n",
      "See the caveats in the documentation: http://pandas.pydata.org/pandas-docs/stable/indexing.html#indexing-view-versus-copy\n",
      "C:\\Users\\write\\Anaconda3\\envs\\PythonData\\lib\\site-packages\\ipykernel_launcher.py:49: SettingWithCopyWarning: \n",
      "A value is trying to be set on a copy of a slice from a DataFrame.\n",
      "Try using .loc[row_indexer,col_indexer] = value instead\n",
      "\n",
      "See the caveats in the documentation: http://pandas.pydata.org/pandas-docs/stable/indexing.html#indexing-view-versus-copy\n"
     ]
    }
   ],
   "source": [
    "#Create a dataframe with only the columns I'm interested in\n",
    "relationship_df = midwest_homicide_df[['Relationship', 'VicSex','Weapon', 'OffSex']]\n",
    "\n",
    "\n",
    "#Split the weapons into \"close contact\" and \"minimal contact\" categories\n",
    "relationship_df['Weapon'] = relationship_df['Weapon'].replace(\n",
    "                                                {\"Knife or cutting instrument\": \"Close Contact\",\n",
    "                                                \"Handgun - pistol, revolver, etc\": \"No/Little Contact\",\n",
    "                                                \"Shotgun\": \"No/Little Contact\",\n",
    "                                                \"Strangulation - hanging\": \"No/Little Contact\",\n",
    "                                                \"Personal weapons, includes beating\": \"Close Contact\",\n",
    "                                                \"Blunt object - hammer, club, etc\" : \"Close Contact\",\n",
    "                                                \"Rifle\": \"No/Little Contact\",\n",
    "                                                \"Firearm, type not stated\": \"No/Little Contact\",\n",
    "                                                \"Asphyxiation - includes death by gas\": \"Close Contact\",\n",
    "                                                \"Other gun\": \"No/Little Contact\",\n",
    "                                                \"Fire\": \"No/Little Contact\",\n",
    "                                                \"Drowning\": \"Close Contact\",\n",
    "                                                \"Pushed or thrown out window\": \"No/Little Contact\",\n",
    "                                                \"Narcotics or drugs, sleeping pills\": \"No/Little Contact\",\n",
    "                                                \"Explosives\": \"No/Little Contact\",\n",
    "                                                \"Poison - does not include gas\": \"No/Little Contact\"})\n",
    "\n",
    "#Combine similar relationships together for the male and female victim charts\n",
    "relationship_df['Relationship'] = relationship_df[\"Relationship\"].replace(\n",
    "                                                  {'Brother': 'Sibling',\n",
    "                                                   'Sister': 'Sibling',\n",
    "                                                   'Father': 'Parent',\n",
    "                                                   'Mother': 'Parent',\n",
    "                                                   'Daughter': 'Child',\n",
    "                                                   'Son': 'Child',\n",
    "                                                   'Stepson': 'Child',\n",
    "                                                   \"Stepdaughter\": \"Child\",\n",
    "                                                   \"Homosexual relationship\": 'Partner',\n",
    "                                                   \"Boyfriend\" : \"Partner\",\n",
    "                                                   \"Girlfriend\" : \"Partner\",\n",
    "                                                   \"Common-law husband\" : \"Partner\",\n",
    "                                                   \"Common-law wife\" : \"Partner\",\n",
    "                                                   \"Ex-husband\" : \"Spouse\",\n",
    "                                                   \"Ex-wife\" : \"Spouse\",\n",
    "                                                   \"Stepmother\" : \"Parent\",\n",
    "                                                   \"Stepfather\" : \"Parent\",\n",
    "                                                   \"Husband\" : \"Spouse\",\n",
    "                                                   \"Wife\" : \"Spouse\",\n",
    "                                                  \"Friend\": 'Other - known to victim',\n",
    "                                                  \"Neighbor\": 'Other - known to victim',\n",
    "                                                  \"Employee\": 'Other - known to victim',\n",
    "                                                  \"Employer\": 'Other - known to victim',\n",
    "                                                  \"In-law\" : 'Other - known to victim'})\n"
   ]
  },
  {
   "cell_type": "code",
   "execution_count": 6,
   "metadata": {
    "scrolled": true
   },
   "outputs": [
    {
     "data": {
      "text/html": [
       "<div>\n",
       "<style scoped>\n",
       "    .dataframe tbody tr th:only-of-type {\n",
       "        vertical-align: middle;\n",
       "    }\n",
       "\n",
       "    .dataframe tbody tr th {\n",
       "        vertical-align: top;\n",
       "    }\n",
       "\n",
       "    .dataframe thead th {\n",
       "        text-align: right;\n",
       "    }\n",
       "</style>\n",
       "<table border=\"1\" class=\"dataframe\">\n",
       "  <thead>\n",
       "    <tr style=\"text-align: right;\">\n",
       "      <th></th>\n",
       "      <th>Female Victim</th>\n",
       "    </tr>\n",
       "    <tr>\n",
       "      <th>Relationship</th>\n",
       "      <th></th>\n",
       "    </tr>\n",
       "  </thead>\n",
       "  <tbody>\n",
       "    <tr>\n",
       "      <th>Acquaintance</th>\n",
       "      <td>5206</td>\n",
       "    </tr>\n",
       "    <tr>\n",
       "      <th>Child</th>\n",
       "      <td>2103</td>\n",
       "    </tr>\n",
       "    <tr>\n",
       "      <th>Other - known to victim</th>\n",
       "      <td>2900</td>\n",
       "    </tr>\n",
       "    <tr>\n",
       "      <th>Other family</th>\n",
       "      <td>648</td>\n",
       "    </tr>\n",
       "    <tr>\n",
       "      <th>Parent</th>\n",
       "      <td>1039</td>\n",
       "    </tr>\n",
       "    <tr>\n",
       "      <th>Partner</th>\n",
       "      <td>4006</td>\n",
       "    </tr>\n",
       "    <tr>\n",
       "      <th>Relationship not determined</th>\n",
       "      <td>9592</td>\n",
       "    </tr>\n",
       "    <tr>\n",
       "      <th>Sibling</th>\n",
       "      <td>348</td>\n",
       "    </tr>\n",
       "    <tr>\n",
       "      <th>Spouse</th>\n",
       "      <td>5035</td>\n",
       "    </tr>\n",
       "    <tr>\n",
       "      <th>Stranger</th>\n",
       "      <td>2525</td>\n",
       "    </tr>\n",
       "  </tbody>\n",
       "</table>\n",
       "</div>"
      ],
      "text/plain": [
       "                             Female Victim\n",
       "Relationship                              \n",
       "Acquaintance                          5206\n",
       "Child                                 2103\n",
       "Other - known to victim               2900\n",
       "Other family                           648\n",
       "Parent                                1039\n",
       "Partner                               4006\n",
       "Relationship not determined           9592\n",
       "Sibling                                348\n",
       "Spouse                                5035\n",
       "Stranger                              2525"
      ]
     },
     "execution_count": 6,
     "metadata": {},
     "output_type": "execute_result"
    }
   ],
   "source": [
    "#Female Datafarme - pull out only female victims\n",
    "victims_df = relationship_df[['Relationship', 'VicSex']]\n",
    "female_victims = victims_df.loc[victims_df[\"VicSex\"]=='Female', :]\n",
    "\n",
    "#Group Female Victims by Relationships\n",
    "female_victims = female_victims.groupby('Relationship').count()\n",
    "\n",
    "#Rename columns\n",
    "female_victims_df = female_victims.rename(columns={\"VicSex\": \"Female Victim\"})\n",
    "\n",
    "female_victims_df"
   ]
  },
  {
   "cell_type": "code",
   "execution_count": 17,
   "metadata": {},
   "outputs": [
    {
     "data": {
      "text/html": [
       "<div>\n",
       "<style scoped>\n",
       "    .dataframe tbody tr th:only-of-type {\n",
       "        vertical-align: middle;\n",
       "    }\n",
       "\n",
       "    .dataframe tbody tr th {\n",
       "        vertical-align: top;\n",
       "    }\n",
       "\n",
       "    .dataframe thead th {\n",
       "        text-align: right;\n",
       "    }\n",
       "</style>\n",
       "<table border=\"1\" class=\"dataframe\">\n",
       "  <thead>\n",
       "    <tr style=\"text-align: right;\">\n",
       "      <th></th>\n",
       "      <th>Relationship</th>\n",
       "      <th>Female Victim</th>\n",
       "    </tr>\n",
       "  </thead>\n",
       "  <tbody>\n",
       "    <tr>\n",
       "      <th>7</th>\n",
       "      <td>Sibling</td>\n",
       "      <td>348</td>\n",
       "    </tr>\n",
       "    <tr>\n",
       "      <th>3</th>\n",
       "      <td>Other family</td>\n",
       "      <td>648</td>\n",
       "    </tr>\n",
       "    <tr>\n",
       "      <th>4</th>\n",
       "      <td>Parent</td>\n",
       "      <td>1039</td>\n",
       "    </tr>\n",
       "    <tr>\n",
       "      <th>1</th>\n",
       "      <td>Child</td>\n",
       "      <td>2103</td>\n",
       "    </tr>\n",
       "    <tr>\n",
       "      <th>9</th>\n",
       "      <td>Stranger</td>\n",
       "      <td>2525</td>\n",
       "    </tr>\n",
       "    <tr>\n",
       "      <th>2</th>\n",
       "      <td>Other - known to victim</td>\n",
       "      <td>2900</td>\n",
       "    </tr>\n",
       "    <tr>\n",
       "      <th>5</th>\n",
       "      <td>Partner</td>\n",
       "      <td>4006</td>\n",
       "    </tr>\n",
       "    <tr>\n",
       "      <th>8</th>\n",
       "      <td>Spouse</td>\n",
       "      <td>5035</td>\n",
       "    </tr>\n",
       "    <tr>\n",
       "      <th>0</th>\n",
       "      <td>Acquaintance</td>\n",
       "      <td>5206</td>\n",
       "    </tr>\n",
       "  </tbody>\n",
       "</table>\n",
       "</div>"
      ],
      "text/plain": [
       "              Relationship  Female Victim\n",
       "7                  Sibling            348\n",
       "3             Other family            648\n",
       "4                   Parent           1039\n",
       "1                    Child           2103\n",
       "9                 Stranger           2525\n",
       "2  Other - known to victim           2900\n",
       "5                  Partner           4006\n",
       "8                   Spouse           5035\n",
       "0             Acquaintance           5206"
      ]
     },
     "execution_count": 17,
     "metadata": {},
     "output_type": "execute_result"
    }
   ],
   "source": [
    "#Sort values so graphs are in ascending order\n",
    "female_df = female_victims_df.reset_index().sort_values(\"Female Victim\")\n",
    "\n",
    "#Drop the highest outlier value: Relationship Undefined\n",
    "female_df = female_df.drop(6)\n",
    "female_df"
   ]
  },
  {
   "cell_type": "code",
   "execution_count": 15,
   "metadata": {},
   "outputs": [
    {
     "data": {
      "text/plain": [
       "7     1.0\n",
       "3     3.0\n",
       "4     4.0\n",
       "1     9.0\n",
       "9    11.0\n",
       "2    12.0\n",
       "5    17.0\n",
       "8    21.0\n",
       "0    22.0\n",
       "Name: Female Victim, dtype: float64"
      ]
     },
     "execution_count": 15,
     "metadata": {},
     "output_type": "execute_result"
    }
   ],
   "source": [
    "#Sort values so graphs are in ascending order\n",
    "female_df = female_victims_df.reset_index().sort_values(\"Female Victim\")\n",
    "\n",
    "#Drop the highest outlier value: Relationship Undefined\n",
    "female_df = female_df.drop(6)\n",
    "\n",
    "#Find the sum of all Female Victims\n",
    "female_df.sum()\n",
    "\n",
    "#Calculate the percentage of female victims by relationship (23810 is the sum of all female victims)\n",
    "female_percent = female_df['Female Victim']/23810*100\n",
    "female_percent = female_percent.round()\n",
    "female_percent"
   ]
  },
  {
   "cell_type": "code",
   "execution_count": 8,
   "metadata": {
    "scrolled": true
   },
   "outputs": [
    {
     "ename": "NameError",
     "evalue": "name 'female_percent' is not defined",
     "output_type": "error",
     "traceback": [
      "\u001b[1;31m---------------------------------------------------------------------------\u001b[0m",
      "\u001b[1;31mNameError\u001b[0m                                 Traceback (most recent call last)",
      "\u001b[1;32m<ipython-input-8-72468453ce76>\u001b[0m in \u001b[0;36m<module>\u001b[1;34m\u001b[0m\n\u001b[0;32m      1\u001b[0m \u001b[1;31m#Plot Female Victim Relationship Information\u001b[0m\u001b[1;33m\u001b[0m\u001b[1;33m\u001b[0m\u001b[1;33m\u001b[0m\u001b[0m\n\u001b[1;32m----> 2\u001b[1;33m \u001b[0my_axis\u001b[0m \u001b[1;33m=\u001b[0m \u001b[0mnp\u001b[0m\u001b[1;33m.\u001b[0m\u001b[0marange\u001b[0m\u001b[1;33m(\u001b[0m\u001b[0mlen\u001b[0m\u001b[1;33m(\u001b[0m\u001b[0mfemale_percent\u001b[0m\u001b[1;33m)\u001b[0m\u001b[1;33m)\u001b[0m\u001b[1;33m\u001b[0m\u001b[1;33m\u001b[0m\u001b[0m\n\u001b[0m\u001b[0;32m      3\u001b[0m \u001b[0mtick_locations\u001b[0m \u001b[1;33m=\u001b[0m \u001b[1;33m[\u001b[0m\u001b[0mvalue\u001b[0m \u001b[1;32mfor\u001b[0m \u001b[0mvalue\u001b[0m \u001b[1;32min\u001b[0m \u001b[0my_axis\u001b[0m\u001b[1;33m]\u001b[0m\u001b[1;33m\u001b[0m\u001b[1;33m\u001b[0m\u001b[0m\n\u001b[0;32m      4\u001b[0m \u001b[1;33m\u001b[0m\u001b[0m\n\u001b[0;32m      5\u001b[0m \u001b[1;31m#plt.figure(figsize=(20,3))\u001b[0m\u001b[1;33m\u001b[0m\u001b[1;33m\u001b[0m\u001b[1;33m\u001b[0m\u001b[0m\n",
      "\u001b[1;31mNameError\u001b[0m: name 'female_percent' is not defined"
     ]
    }
   ],
   "source": [
    "#Plot Female Victim Relationship Information\n",
    "y_axis = np.arange(len(female_percent))\n",
    "tick_locations = [value for value in y_axis]\n",
    "\n",
    "#plt.figure(figsize=(20,3))\n",
    "plt.barh(y_axis, female_percent, color= '#6EDBA1', alpha= 1.0, align=\"center\")\n",
    "plt.yticks(tick_locations, female_df[\"Relationship\"], fontname='Chaparral Pro', \n",
    "           fontsize=12, rotation=\"horizontal\")\n",
    "\n",
    "\n",
    "# Set a Title and labels\n",
    "plt.title(\"Female Victim Relationship to Offender\", pad=20, fontname='Chaparral Pro', fontsize=20)\n",
    "plt.xlabel(\"Percentage of Murders\", labelpad=20, fontname='Chaparral Pro', fontsize=12)\n",
    "plt.show()"
   ]
  },
  {
   "cell_type": "code",
   "execution_count": 10,
   "metadata": {},
   "outputs": [
    {
     "data": {
      "text/plain": [
       "Male Victim    111465\n",
       "dtype: int64"
      ]
     },
     "execution_count": 10,
     "metadata": {},
     "output_type": "execute_result"
    }
   ],
   "source": [
    "#Male Dataframe - Pull out only Male Victims\n",
    "male = victims_df.loc[victims_df[\"VicSex\"] == \"Male\", :]\n",
    "\n",
    "#Group Male Victims by Relationships\n",
    "male_victims = male.groupby('Relationship').count()\n",
    "\n",
    "#Rename Columns\n",
    "male_victims_df = male_victims.rename(columns={\"VicSex\": \"Male Victim\"})\n",
    "\n",
    "male_victims_df.sum()"
   ]
  },
  {
   "cell_type": "code",
   "execution_count": 13,
   "metadata": {},
   "outputs": [
    {
     "data": {
      "text/html": [
       "<div>\n",
       "<style scoped>\n",
       "    .dataframe tbody tr th:only-of-type {\n",
       "        vertical-align: middle;\n",
       "    }\n",
       "\n",
       "    .dataframe tbody tr th {\n",
       "        vertical-align: top;\n",
       "    }\n",
       "\n",
       "    .dataframe thead th {\n",
       "        text-align: right;\n",
       "    }\n",
       "</style>\n",
       "<table border=\"1\" class=\"dataframe\">\n",
       "  <thead>\n",
       "    <tr style=\"text-align: right;\">\n",
       "      <th></th>\n",
       "      <th>Relationship</th>\n",
       "      <th>Male Victim</th>\n",
       "    </tr>\n",
       "  </thead>\n",
       "  <tbody>\n",
       "    <tr>\n",
       "      <th>7</th>\n",
       "      <td>Sibling</td>\n",
       "      <td>1190</td>\n",
       "    </tr>\n",
       "    <tr>\n",
       "      <th>4</th>\n",
       "      <td>Parent</td>\n",
       "      <td>1336</td>\n",
       "    </tr>\n",
       "    <tr>\n",
       "      <th>3</th>\n",
       "      <td>Other family</td>\n",
       "      <td>1410</td>\n",
       "    </tr>\n",
       "    <tr>\n",
       "      <th>8</th>\n",
       "      <td>Spouse</td>\n",
       "      <td>2324</td>\n",
       "    </tr>\n",
       "    <tr>\n",
       "      <th>1</th>\n",
       "      <td>Child</td>\n",
       "      <td>2597</td>\n",
       "    </tr>\n",
       "    <tr>\n",
       "      <th>5</th>\n",
       "      <td>Partner</td>\n",
       "      <td>2692</td>\n",
       "    </tr>\n",
       "    <tr>\n",
       "      <th>2</th>\n",
       "      <td>Other - known to victim</td>\n",
       "      <td>10357</td>\n",
       "    </tr>\n",
       "    <tr>\n",
       "      <th>9</th>\n",
       "      <td>Stranger</td>\n",
       "      <td>16626</td>\n",
       "    </tr>\n",
       "    <tr>\n",
       "      <th>0</th>\n",
       "      <td>Acquaintance</td>\n",
       "      <td>25393</td>\n",
       "    </tr>\n",
       "  </tbody>\n",
       "</table>\n",
       "</div>"
      ],
      "text/plain": [
       "              Relationship  Male Victim\n",
       "7                  Sibling         1190\n",
       "4                   Parent         1336\n",
       "3             Other family         1410\n",
       "8                   Spouse         2324\n",
       "1                    Child         2597\n",
       "5                  Partner         2692\n",
       "2  Other - known to victim        10357\n",
       "9                 Stranger        16626\n",
       "0             Acquaintance        25393"
      ]
     },
     "execution_count": 13,
     "metadata": {},
     "output_type": "execute_result"
    }
   ],
   "source": [
    "#Sort values so graphs are in ascending order\n",
    "male_df = male_victims_df.reset_index().sort_values(\"Male Victim\")\n",
    "\n",
    "#Drop the highest outlier value: Relationship Undefined\n",
    "male_df = male_df.drop(6)\n",
    "male_df"
   ]
  },
  {
   "cell_type": "code",
   "execution_count": 11,
   "metadata": {},
   "outputs": [
    {
     "data": {
      "text/plain": [
       "7     2.0\n",
       "4     2.0\n",
       "3     2.0\n",
       "8     4.0\n",
       "1     4.0\n",
       "5     4.0\n",
       "2    16.0\n",
       "9    26.0\n",
       "0    40.0\n",
       "Name: Male Victim, dtype: float64"
      ]
     },
     "execution_count": 11,
     "metadata": {},
     "output_type": "execute_result"
    }
   ],
   "source": [
    "#Sort values so graphs are in ascending order\n",
    "male_df = male_victims_df.reset_index().sort_values(\"Male Victim\")\n",
    "\n",
    "#Drop the highest outlier value: Relationship Undefined\n",
    "male_df = male_df.drop(6)\n",
    "\n",
    "#Find the sum of all Male Victims\n",
    "male_df.sum()\n",
    "\n",
    "#Calculate the percentage of male victims by relationship (23810 is the sum of all female victims)\n",
    "male_percent = male_df['Male Victim']/63925*100\n",
    "male_percent = male_percent.round()\n",
    "male_percent"
   ]
  },
  {
   "cell_type": "code",
   "execution_count": null,
   "metadata": {},
   "outputs": [],
   "source": [
    "#Plot Male Victim Relationship Information\n",
    "y_axis = np.arange(len(male_percent))\n",
    "tick_locations = [value for value in y_axis]\n",
    "\n",
    "#plt.figure(figsize=(20,3))\n",
    "plt.barh(y_axis, male_percent, color='#721121', alpha= 1.0, align=\"center\")\n",
    "plt.yticks(tick_locations, male_df[\"Relationship\"], fontname='Chaparral Pro', \n",
    "           fontsize=12, rotation=\"horizontal\")\n",
    "\n",
    "# Set a Title and labels\n",
    "plt.title(\"Male Victim Relationship to Offender\", fontname='Chaparral Pro', pad=20, fontsize=20)\n",
    "plt.xlabel(\"Percentage of Murders\", labelpad=20, fontname='Chaparral Pro', fontsize=12)\n",
    "plt.show()"
   ]
  },
  {
   "cell_type": "code",
   "execution_count": null,
   "metadata": {
    "scrolled": true
   },
   "outputs": [],
   "source": [
    "##GROUP WEAPON TYPE AND VICTIM RELATIONSHIP##\n",
    "#--------\n",
    "#Adjust relationship groups to reflect aquaintance, stranger, family, and romantic partner\n",
    "close_contact = relationship_df[['Relationship', 'Weapon']]\n",
    "close_contact['Relationship'] = close_contact['Relationship'].replace(\n",
    "                                            {'Spouse': 'Romantic Partner',\n",
    "                                            'Sibling': 'Family Member',\n",
    "                                            'Parent': 'Family Member',\n",
    "                                            'Child': 'Family Member',\n",
    "                                            'Partner': 'Romantic Partner',\n",
    "                                            'Other family': 'Family Member'})\n",
    "\n",
    "#Find only the close contact weapon types grouped by relationship\n",
    "close_contact = close_contact[close_contact.Weapon == 'Close Contact'].groupby('Relationship').count()\n",
    "close_contact = close_contact.rename(columns={'Weapon': 'Close Contact'})\n",
    "\n",
    "#--------\n",
    "#Group together the minimal contact weapon types by relationship\n",
    "minimal_contact= relationship_df[['Relationship', 'Weapon']]\n",
    "\n",
    "#Adjust relationship groups to reflect aquaintance, stranger, family, and romantic partner\n",
    "minimal_contact['Relationship'] = minimal_contact['Relationship'].replace(\n",
    "                                            {'Spouse': 'Romantic Partner',\n",
    "                                            'Sibling': 'Family Member',\n",
    "                                            'Parent': 'Family Member',\n",
    "                                            'Child': 'Family Member',\n",
    "                                            'Partner': 'Romantic Partner',\n",
    "                                            'Other family': 'Family Member'})\n",
    "\n",
    "#Group minimal_contact weapons by relationshps\n",
    "minimal_contact = minimal_contact[minimal_contact.Weapon == 'No/Little Contact'].groupby('Relationship').count()\n",
    "minimal_contact = minimal_contact.rename(columns={'Weapon': 'No/Little Contact'})\n",
    "\n",
    "\n",
    "#Merge the two types of weapons together based on relationship, reset index, drop \"relatioship not determined\"\n",
    "weapon_type = pd.merge(close_contact, minimal_contact, how='outer', on=['Relationship']).reset_index()\n",
    "weapon_type = weapon_type.drop(2)\n",
    "weapon_type = weapon_type.drop(3)\n"
   ]
  },
  {
   "cell_type": "code",
   "execution_count": null,
   "metadata": {},
   "outputs": [],
   "source": [
    "#Show dataframe for pie chart \n",
    "weapon_type"
   ]
  },
  {
   "cell_type": "code",
   "execution_count": null,
   "metadata": {
    "scrolled": true
   },
   "outputs": [],
   "source": [
    "#Create close contact murder pie chart\n",
    "relationship = ['Aquaintance', 'Family Member', 'Romantic Partner', 'Stranger']\n",
    "count = [8835, 4844, 4909, 3628]\n",
    "colors = [\"#C1CDC6\", \"#171B2A\", \"#D74125\", \"darkgrey\"]\n",
    "\n",
    "# Tell matplotlib to create a pie chart based upon the above data\n",
    "plt.pie(count, labels=relationship, colors=colors,\n",
    "        autopct=\"%1.1f%%\", shadow=True, startangle=90)\n",
    "\n",
    "plt.title(\"Victim Relationships: Close Contact Murder Methods\", fontname='Chaparral Pro', fontsize=20)\n",
    "plt.show()"
   ]
  },
  {
   "cell_type": "code",
   "execution_count": null,
   "metadata": {
    "scrolled": true
   },
   "outputs": [],
   "source": [
    "relationship = ['Aquaintance', 'Family Member', 'Romantic Partner', 'Stranger']\n",
    "count = [20943, 4881, 8679, 14774]\n",
    "colors = [\"#C1CDC6\", \"#171B2A\", \"#D74125\", \"darkgrey\"]\n",
    "\n",
    "# Tell matplotlib to create a pie chart based upon the above data\n",
    "plt.pie(count, labels=relationship, colors=colors,\n",
    "        autopct=\"%1.1f%%\", shadow=True, startangle=90)\n",
    "\n",
    "plt.title(\"Victim Relationships: No/Little Contact Murder Methods\", fontname='Chaparral Pro', fontsize=20)\n",
    "plt.show()"
   ]
  },
  {
   "cell_type": "code",
   "execution_count": null,
   "metadata": {},
   "outputs": [],
   "source": []
  },
  {
   "cell_type": "code",
   "execution_count": null,
   "metadata": {},
   "outputs": [],
   "source": []
  }
 ],
 "metadata": {
  "kernelspec": {
   "display_name": "Python [conda env:PythonData]",
   "language": "python",
   "name": "conda-env-PythonData-py"
  },
  "language_info": {
   "codemirror_mode": {
    "name": "ipython",
    "version": 3
   },
   "file_extension": ".py",
   "mimetype": "text/x-python",
   "name": "python",
   "nbconvert_exporter": "python",
   "pygments_lexer": "ipython3",
   "version": "3.6.7"
  }
 },
 "nbformat": 4,
 "nbformat_minor": 2
}
