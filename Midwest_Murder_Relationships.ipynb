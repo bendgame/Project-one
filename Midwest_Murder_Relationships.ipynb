{
 "cells": [
  {
   "cell_type": "code",
   "execution_count": 1,
   "metadata": {},
   "outputs": [
    {
     "data": {
      "text/plain": [
       "Index(['index', 'ID', 'CNTYFIPS', 'Ori', 'State', 'Agency', 'Agentype',\n",
       "       'Source', 'Solved', 'Year', 'StateName', 'Month', 'Incident',\n",
       "       'ActionType', 'Homicide', 'Situation', 'VicAge', 'VicSex', 'VicRace',\n",
       "       'VicEthnic', 'OffAge', 'OffSex', 'OffRace', 'OffEthnic', 'Weapon',\n",
       "       'Relationship', 'Circumstance', 'Subcircum', 'VicCount', 'OffCount',\n",
       "       'FileDate', 'fstate', 'MSA'],\n",
       "      dtype='object')"
      ]
     },
     "execution_count": 1,
     "metadata": {},
     "output_type": "execute_result"
    }
   ],
   "source": [
    "\n",
    "%matplotlib inline\n",
    "\n",
    "# Import dependencies\n",
    "import pandas as pd\n",
    "import numpy as np\n",
    "import os \n",
    "import matplotlib.pyplot as plt\n",
    "\n",
    "file = os.path.join('MidwestMurderData.csv')\n",
    "midwest_homicide_df = pd.read_csv(file)\n",
    "midwest_homicide_df.columns"
   ]
  },
  {
   "cell_type": "code",
   "execution_count": 2,
   "metadata": {},
   "outputs": [],
   "source": [
    "relationship_df = midwest_homicide_df[['Relationship', 'VicSex','Weapon', 'OffSex']]\n"
   ]
  },
  {
   "cell_type": "code",
   "execution_count": 3,
   "metadata": {},
   "outputs": [
    {
     "name": "stderr",
     "output_type": "stream",
     "text": [
      "C:\\Users\\write\\Anaconda3\\envs\\PythonData\\lib\\site-packages\\ipykernel_launcher.py:12: SettingWithCopyWarning: \n",
      "A value is trying to be set on a copy of a slice from a DataFrame.\n",
      "Try using .loc[row_indexer,col_indexer] = value instead\n",
      "\n",
      "See the caveats in the documentation: http://pandas.pydata.org/pandas-docs/stable/indexing.html#indexing-view-versus-copy\n",
      "  if sys.path[0] == '':\n"
     ]
    }
   ],
   "source": [
    "#Combine similar weapons together\n",
    "relationship_df['Weapon'] = relationship_df['Weapon'].replace(\n",
    "                                                {\"Knife or cutting instrument\": \"Sharp Object\",\n",
    "                                                \"Handgun - pistol, revolver, etc\": \"Gun\",\n",
    "                                                \"Shotgun\": \"Gun\",\n",
    "                                                \"Strangulation - hanging\": \"Strangulation\",\n",
    "                                                \"Personal weapons, includes beating\": \"Beating/Personal\",\n",
    "                                                \"Blunt object - hammer, club, etc\" : \"Blunt Object\",\n",
    "                                                \"Rifle\": \"Gun\",\n",
    "                                                \"Firearm, type not stated\": \"Gun\",\n",
    "                                                \"Asphyxiation - includes death by gas\": \"Asphyxiation\",\n",
    "                                                \"Other gun\": \"Gun\"})\n"
   ]
  },
  {
   "cell_type": "code",
   "execution_count": 4,
   "metadata": {},
   "outputs": [
    {
     "name": "stderr",
     "output_type": "stream",
     "text": [
      "C:\\Users\\write\\Anaconda3\\envs\\PythonData\\lib\\site-packages\\ipykernel_launcher.py:26: SettingWithCopyWarning: \n",
      "A value is trying to be set on a copy of a slice from a DataFrame.\n",
      "Try using .loc[row_indexer,col_indexer] = value instead\n",
      "\n",
      "See the caveats in the documentation: http://pandas.pydata.org/pandas-docs/stable/indexing.html#indexing-view-versus-copy\n"
     ]
    }
   ],
   "source": [
    "#Combine similar relationships together\n",
    "relationship_df['Relationship'] = relationship_df[\"Relationship\"].replace(\n",
    "                                                  {'Brother': 'Sibling',\n",
    "                                                   'Sister': 'Sibling',\n",
    "                                                   'Father': 'Parent',\n",
    "                                                   'Mother': 'Parent',\n",
    "                                                   'Daughter': 'Child',\n",
    "                                                   'Son': 'Child',\n",
    "                                                   'Stepson': 'Child',\n",
    "                                                   \"Stepdaughter\": \"Child\",\n",
    "                                                   \"Homosexual relationship\": 'Partner',\n",
    "                                                   \"Boyfriend\" : \"Partner\",\n",
    "                                                   \"Girlfriend\" : \"Partner\",\n",
    "                                                   \"Common-law husband\" : \"Partner\",\n",
    "                                                   \"Common-law wife\" : \"Partner\",\n",
    "                                                   \"Ex-husband\" : \"Spouse\",\n",
    "                                                   \"Ex-wife\" : \"Spouse\",\n",
    "                                                   \"Stepmother\" : \"Parent\",\n",
    "                                                   \"Stepfather\" : \"Parent\",\n",
    "                                                   \"Husband\" : \"Spouse\",\n",
    "                                                   \"Wife\" : \"Spouse\",\n",
    "                                                  \"Friend\": 'Other - known to victim',\n",
    "                                                  \"Neighbor\": 'Other - known to victim',\n",
    "                                                  \"Employee\": 'Other - known to victim',\n",
    "                                                  \"Employer\": 'Other - known to victim',\n",
    "                                                  \"In-law\" : 'Other - known to victim'})\n",
    "                                       "
   ]
  },
  {
   "cell_type": "code",
   "execution_count": 5,
   "metadata": {},
   "outputs": [],
   "source": [
    "#female = victims_df.loc[victims_df[\"VicSex\"] == \"Female\", :]"
   ]
  },
  {
   "cell_type": "code",
   "execution_count": 6,
   "metadata": {},
   "outputs": [
    {
     "data": {
      "text/html": [
       "<div>\n",
       "<style scoped>\n",
       "    .dataframe tbody tr th:only-of-type {\n",
       "        vertical-align: middle;\n",
       "    }\n",
       "\n",
       "    .dataframe tbody tr th {\n",
       "        vertical-align: top;\n",
       "    }\n",
       "\n",
       "    .dataframe thead th {\n",
       "        text-align: right;\n",
       "    }\n",
       "</style>\n",
       "<table border=\"1\" class=\"dataframe\">\n",
       "  <thead>\n",
       "    <tr style=\"text-align: right;\">\n",
       "      <th></th>\n",
       "      <th>Relationship</th>\n",
       "      <th>Female Victim</th>\n",
       "    </tr>\n",
       "  </thead>\n",
       "  <tbody>\n",
       "    <tr>\n",
       "      <th>7</th>\n",
       "      <td>Sibling</td>\n",
       "      <td>348</td>\n",
       "    </tr>\n",
       "    <tr>\n",
       "      <th>3</th>\n",
       "      <td>Other family</td>\n",
       "      <td>648</td>\n",
       "    </tr>\n",
       "    <tr>\n",
       "      <th>4</th>\n",
       "      <td>Parent</td>\n",
       "      <td>1039</td>\n",
       "    </tr>\n",
       "    <tr>\n",
       "      <th>1</th>\n",
       "      <td>Child</td>\n",
       "      <td>2103</td>\n",
       "    </tr>\n",
       "    <tr>\n",
       "      <th>9</th>\n",
       "      <td>Stranger</td>\n",
       "      <td>2525</td>\n",
       "    </tr>\n",
       "    <tr>\n",
       "      <th>2</th>\n",
       "      <td>Other - known to victim</td>\n",
       "      <td>2900</td>\n",
       "    </tr>\n",
       "    <tr>\n",
       "      <th>5</th>\n",
       "      <td>Partner</td>\n",
       "      <td>4006</td>\n",
       "    </tr>\n",
       "    <tr>\n",
       "      <th>8</th>\n",
       "      <td>Spouse</td>\n",
       "      <td>5035</td>\n",
       "    </tr>\n",
       "    <tr>\n",
       "      <th>0</th>\n",
       "      <td>Acquaintance</td>\n",
       "      <td>5206</td>\n",
       "    </tr>\n",
       "    <tr>\n",
       "      <th>6</th>\n",
       "      <td>Relationship not determined</td>\n",
       "      <td>9592</td>\n",
       "    </tr>\n",
       "  </tbody>\n",
       "</table>\n",
       "</div>"
      ],
      "text/plain": [
       "                  Relationship  Female Victim\n",
       "7                      Sibling            348\n",
       "3                 Other family            648\n",
       "4                       Parent           1039\n",
       "1                        Child           2103\n",
       "9                     Stranger           2525\n",
       "2      Other - known to victim           2900\n",
       "5                      Partner           4006\n",
       "8                       Spouse           5035\n",
       "0                 Acquaintance           5206\n",
       "6  Relationship not determined           9592"
      ]
     },
     "execution_count": 6,
     "metadata": {},
     "output_type": "execute_result"
    }
   ],
   "source": [
    "#Create female victim dataframe by relationship\n",
    "victims_df = relationship_df[['Relationship', 'VicSex']]\n",
    "female = victims_df.loc[victims_df[\"VicSex\"] == \"Female\", :]\n",
    "female_victims = female.groupby('Relationship').count()\n",
    "female_victims_df = female_victims.rename(columns={\"VicSex\": \"Female Victim\"})\n",
    "female_df = female_victims_df.reset_index().sort_values(\"Female Victim\")\n",
    "female_df"
   ]
  },
  {
   "cell_type": "code",
   "execution_count": 7,
   "metadata": {},
   "outputs": [
    {
     "data": {
      "text/html": [
       "<div>\n",
       "<style scoped>\n",
       "    .dataframe tbody tr th:only-of-type {\n",
       "        vertical-align: middle;\n",
       "    }\n",
       "\n",
       "    .dataframe tbody tr th {\n",
       "        vertical-align: top;\n",
       "    }\n",
       "\n",
       "    .dataframe thead th {\n",
       "        text-align: right;\n",
       "    }\n",
       "</style>\n",
       "<table border=\"1\" class=\"dataframe\">\n",
       "  <thead>\n",
       "    <tr style=\"text-align: right;\">\n",
       "      <th></th>\n",
       "      <th>Relationship</th>\n",
       "      <th>Male Victim</th>\n",
       "    </tr>\n",
       "  </thead>\n",
       "  <tbody>\n",
       "    <tr>\n",
       "      <th>7</th>\n",
       "      <td>Sibling</td>\n",
       "      <td>1190</td>\n",
       "    </tr>\n",
       "    <tr>\n",
       "      <th>4</th>\n",
       "      <td>Parent</td>\n",
       "      <td>1336</td>\n",
       "    </tr>\n",
       "    <tr>\n",
       "      <th>3</th>\n",
       "      <td>Other family</td>\n",
       "      <td>1410</td>\n",
       "    </tr>\n",
       "    <tr>\n",
       "      <th>8</th>\n",
       "      <td>Spouse</td>\n",
       "      <td>2324</td>\n",
       "    </tr>\n",
       "    <tr>\n",
       "      <th>1</th>\n",
       "      <td>Child</td>\n",
       "      <td>2597</td>\n",
       "    </tr>\n",
       "    <tr>\n",
       "      <th>5</th>\n",
       "      <td>Partner</td>\n",
       "      <td>2692</td>\n",
       "    </tr>\n",
       "    <tr>\n",
       "      <th>2</th>\n",
       "      <td>Other - known to victim</td>\n",
       "      <td>10357</td>\n",
       "    </tr>\n",
       "    <tr>\n",
       "      <th>9</th>\n",
       "      <td>Stranger</td>\n",
       "      <td>16626</td>\n",
       "    </tr>\n",
       "    <tr>\n",
       "      <th>0</th>\n",
       "      <td>Acquaintance</td>\n",
       "      <td>25393</td>\n",
       "    </tr>\n",
       "    <tr>\n",
       "      <th>6</th>\n",
       "      <td>Relationship not determined</td>\n",
       "      <td>47540</td>\n",
       "    </tr>\n",
       "  </tbody>\n",
       "</table>\n",
       "</div>"
      ],
      "text/plain": [
       "                  Relationship  Male Victim\n",
       "7                      Sibling         1190\n",
       "4                       Parent         1336\n",
       "3                 Other family         1410\n",
       "8                       Spouse         2324\n",
       "1                        Child         2597\n",
       "5                      Partner         2692\n",
       "2      Other - known to victim        10357\n",
       "9                     Stranger        16626\n",
       "0                 Acquaintance        25393\n",
       "6  Relationship not determined        47540"
      ]
     },
     "execution_count": 7,
     "metadata": {},
     "output_type": "execute_result"
    }
   ],
   "source": [
    "#Create male victim dataframe by relationship\n",
    "male = victims_df.loc[victims_df[\"VicSex\"] == \"Male\", :]\n",
    "male_victims = male.groupby('Relationship').count()\n",
    "male_victims_df = male_victims.rename(columns={\"VicSex\": \"Male Victim\"})\n",
    "male_df = male_victims_df.reset_index().sort_values(\"Male Victim\")\n",
    "male_df"
   ]
  },
  {
   "cell_type": "code",
   "execution_count": 10,
   "metadata": {},
   "outputs": [],
   "source": [
    "# #Create unknown victim dataframe by relationship\n",
    "#unknown = victims_df.loc[victims_df[\"VicSex\"] == \"Unknown\",:]\n",
    "#unknown_victims = unknown.groupby('Relationship').count()\n",
    "#unknown_victims_df = unknown_victims.rename(columns={\"VicSex\": \"Gender Unknown\"})\n"
   ]
  },
  {
   "cell_type": "code",
   "execution_count": 11,
   "metadata": {},
   "outputs": [],
   "source": [
    "# # By relationship, summarize the count of female, male, and unknown victims\n",
    "#total_relationships = relationship_df.groupby('Relationship')['VicSex'].count()\n",
    "#total_df = pd.DataFrame(total_relationships).rename(columns={'VicSex': 'Total'})\n"
   ]
  },
  {
   "cell_type": "code",
   "execution_count": 12,
   "metadata": {},
   "outputs": [],
   "source": [
    "# #Merge all dataframes to summarize female, male, gender unknown, and total dataframes\n",
    "#mf_summary_df = pd.merge(female_victims_df, male_victims_df, how='outer', on='Relationship')\n",
    "#summary_df = pd.merge(mf_summary_df, unknown_victims_df, how='outer', on='Relationship')\n",
    "#total_summary_df = pd.merge(summary_df, total_df, how='outer', on='Relationship')\n",
    "#final_df = total_summary_df.fillna(0)"
   ]
  },
  {
   "cell_type": "code",
   "execution_count": 13,
   "metadata": {},
   "outputs": [
    {
     "data": {
      "text/plain": [
       "Text(0, 0.5, 'Relationship')"
      ]
     },
     "execution_count": 13,
     "metadata": {},
     "output_type": "execute_result"
    },
    {
     "data": {
      "image/png": "[encoded data removed]",
      "text/plain": [
       "<Figure size 432x288 with 1 Axes>"
      ]
     },
     "metadata": {
      "needs_background": "light"
     },
     "output_type": "display_data"
    }
   ],
   "source": [
    "#Plot Female Victim Relationship Information\n",
    "y_axis = np.arange(len(female_df))\n",
    "tick_locations = [value for value in y_axis]\n",
    "\n",
    "#plt.figure(figsize=(20,3))\n",
    "plt.barh(y_axis, female_df[\"Female Victim\"], color='maroon', alpha= 1.0, align=\"center\")\n",
    "plt.yticks(tick_locations, female_df[\"Relationship\"], rotation=\"horizontal\")\n",
    "         \n",
    "\n",
    "# Set a Title and labels\n",
    "plt.title(\"Female Victim Relationship to Offender\")\n",
    "plt.xlabel(\"Count\")\n",
    "plt.ylabel(\"Relationship\")"
   ]
  },
  {
   "cell_type": "code",
   "execution_count": 17,
   "metadata": {},
   "outputs": [
    {
     "data": {
      "text/plain": [
       "Text(0, 0.5, 'Relationship')"
      ]
     },
     "execution_count": 17,
     "metadata": {},
     "output_type": "execute_result"
    },
    {
     "data": {
      "image/png": "[encoded data removed]",
      "text/plain": [
       "<Figure size 432x288 with 1 Axes>"
      ]
     },
     "metadata": {
      "needs_background": "light"
     },
     "output_type": "display_data"
    }
   ],
   "source": [
    "N = 10\n",
    "\n",
    "male_data = (male_df[\"Male Victim\"])\n",
    "female_data = (female_df[\"Female Victim\"])\n",
    "\n",
    "ind = np.arange(N)\n",
    "width = 0.35\n",
    "plt.barh(ind, male_data, width, label='Male Victims')\n",
    "plt.barh(ind + width, female_data, width, label='Female Victims')\n",
    "\n",
    "plt.yticks(ind + width / 2, male_df[\"Relationship\"])\n",
    "plt.legend(loc='lower right')\n",
    "\n",
    "\n",
    "# Set a Title and labels\n",
    "plt.title(\"Victim Relationship to Offender\")\n",
    "plt.xlabel(\"Count\")\n",
    "plt.ylabel(\"Relationship\")"
   ]
  },
  {
   "cell_type": "code",
   "execution_count": null,
   "metadata": {},
   "outputs": [],
   "source": []
  },
  {
   "cell_type": "code",
   "execution_count": null,
   "metadata": {},
   "outputs": [],
   "source": []
  }
 ],
 "metadata": {
  "kernelspec": {
   "display_name": "Python [conda env:PythonData]",
   "language": "python",
   "name": "conda-env-PythonData-py"
  },
  "language_info": {
   "codemirror_mode": {
    "name": "ipython",
    "version": 3
   },
   "file_extension": ".py",
   "mimetype": "text/x-python",
   "name": "python",
   "nbconvert_exporter": "python",
   "pygments_lexer": "ipython3",
   "version": "3.6.7"
  }
 },
 "nbformat": 4,
 "nbformat_minor": 2
}
