{
 "cells": [
  {
   "cell_type": "code",
   "execution_count": 1,
   "metadata": {},
   "outputs": [
    {
     "ename": "ImportError",
     "evalue": "cannot import name 'murders_by_year_df' from 'DataCleaning' (C:\\Users\\bendgame\\Desktop\\Project-one\\DataCleaning.py)",
     "output_type": "error",
     "traceback": [
      "\u001b[1;31m---------------------------------------------------------------------------\u001b[0m",
      "\u001b[1;31mImportError\u001b[0m                               Traceback (most recent call last)",
      "\u001b[1;32m<ipython-input-1-6789b9721ba2>\u001b[0m in \u001b[0;36m<module>\u001b[1;34m()\u001b[0m\n\u001b[0;32m      6\u001b[0m \u001b[1;33m\u001b[0m\u001b[0m\n\u001b[0;32m      7\u001b[0m \u001b[1;31m#get data from data cleaning file\u001b[0m\u001b[1;33m\u001b[0m\u001b[1;33m\u001b[0m\u001b[0m\n\u001b[1;32m----> 8\u001b[1;33m \u001b[1;32mfrom\u001b[0m \u001b[0mDataCleaning\u001b[0m \u001b[1;32mimport\u001b[0m \u001b[0mmidwest_homicide_df\u001b[0m\u001b[1;33m,\u001b[0m \u001b[0mslvd_impact\u001b[0m\u001b[1;33m,\u001b[0m \u001b[0mpres_df\u001b[0m\u001b[1;33m,\u001b[0m \u001b[0mmurders_by_year_df\u001b[0m\u001b[1;33m,\u001b[0m \u001b[0mpres_mby_df\u001b[0m\u001b[1;33m,\u001b[0m \u001b[0morder_presTerms_murder_df\u001b[0m\u001b[1;33m,\u001b[0m \u001b[0mmrdr_party_t_df\u001b[0m\u001b[1;33m,\u001b[0m \u001b[0mr_mrdr_party_t_df\u001b[0m\u001b[1;33m\u001b[0m\u001b[0m\n\u001b[0m\u001b[0;32m      9\u001b[0m \u001b[1;32mimport\u001b[0m \u001b[0mmatplotlib\u001b[0m\u001b[1;33m.\u001b[0m\u001b[0mpyplot\u001b[0m \u001b[1;32mas\u001b[0m \u001b[0mplt\u001b[0m\u001b[1;33m\u001b[0m\u001b[0m\n\u001b[0;32m     10\u001b[0m \u001b[1;32mimport\u001b[0m \u001b[0mscipy\u001b[0m\u001b[1;33m.\u001b[0m\u001b[0mstats\u001b[0m \u001b[1;32mas\u001b[0m \u001b[0mstats\u001b[0m\u001b[1;33m\u001b[0m\u001b[0m\n",
      "\u001b[1;31mImportError\u001b[0m: cannot import name 'murders_by_year_df' from 'DataCleaning' (C:\\Users\\bendgame\\Desktop\\Project-one\\DataCleaning.py)"
     ]
    }
   ],
   "source": [
    "#Dependencies\n",
    "\n",
    "import pandas as pd\n",
    "import numpy as np\n",
    "import os\n",
    "\n",
    "#get data from data cleaning file\n",
    "from DataCleaning import midwest_homicide_df, slvd_impact, pres_df, murders_by_year_df, pres_mby_df, order_presTerms_murder_df, mrdr_party_t_df, r_mrdr_party_t_df\n",
    "import matplotlib.pyplot as plt\n",
    "import scipy.stats as stats\n",
    "import matplotlib\n",
    "matplotlib.font_manager._rebuild()"
   ]
  },
  {
   "cell_type": "code",
   "execution_count": null,
   "metadata": {},
   "outputs": [],
   "source": [
    "#verify midwest dataframe\n",
    "midwest_homicide_df.head()\n",
    "\n",
    "# mn = midwest_homicide_df.loc[midwest_homicide_df['State'] == 'Minnesota', :]\n",
    "# mn = mn.groupby('Year').count()\n",
    "# mn.head()"
   ]
  },
  {
   "cell_type": "code",
   "execution_count": null,
   "metadata": {},
   "outputs": [],
   "source": []
  },
  {
   "cell_type": "code",
   "execution_count": null,
   "metadata": {},
   "outputs": [],
   "source": [
    "#calculate average per year\n",
    "avg_per_year = murders_by_year_df['Total'].mean()\n",
    "avg_per_year"
   ]
  },
  {
   "cell_type": "code",
   "execution_count": null,
   "metadata": {},
   "outputs": [],
   "source": []
  },
  {
   "cell_type": "code",
   "execution_count": null,
   "metadata": {},
   "outputs": [],
   "source": []
  },
  {
   "cell_type": "code",
   "execution_count": null,
   "metadata": {},
   "outputs": [],
   "source": [
    "pop1 = pres_mby_df[pres_mby_df['Party']== 'Republican']\n",
    "pop1 = pop1['Total']\n",
    "pop2 = pres_mby_df[pres_mby_df['Party']== 'Democrat']\n",
    "pop2 = pop2['Total']"
   ]
  },
  {
   "cell_type": "code",
   "execution_count": null,
   "metadata": {},
   "outputs": [],
   "source": [
    "stats.ttest_ind(pop1, pop2, equal_var=False)"
   ]
  },
  {
   "cell_type": "code",
   "execution_count": null,
   "metadata": {},
   "outputs": [],
   "source": []
  },
  {
   "cell_type": "code",
   "execution_count": null,
   "metadata": {},
   "outputs": [],
   "source": [
    "x = order_presTerms_murder_df['President']\n",
    "y = order_presTerms_murder_df['Avg Murder per Year']\n",
    "plt.figure(figsize=(20,10))\n",
    "plt.bar(x,y, align='center', color = ['salmon', 'lightskyblue', 'salmon', 'salmon', 'lightskyblue', 'salmon','lightskyblue', 'salmon'])\n",
    "plt.axhline(avg_per_year, color = '#171b2a', linestyle = 'dashed', label = 'Mean')\n",
    "#plt.axhline(median, color = '#171b2a',linestyle = 'dotted', label = 'Median')\n",
    "# plt.axhline(4000, color = '#c1cdc6', alpha = .5)\n",
    "\n",
    "plt.title(\"Average Homicides per Year of Presidency\", fontname='Chaparral Pro', loc='center', pad=30, fontsize=25)\n",
    "plt.xlabel(\"Presidents\",fontname='Chaparral Pro', fontsize=20, labelpad = 15)\n",
    "plt.ylabel(\"Average Homicides per Year\",fontname='Chaparral Pro', fontsize=20, labelpad = 15)\n",
    "#plt.text(7.85, avg_per_year, \"Mean: \"+ str(round(avg_per_year, 2)))\n",
    "plt.text(5.4, avg_per_year + 50, \"Mean: \"+ str(round(avg_per_year)))\n",
    "\n",
    "#plt.legend()"
   ]
  },
  {
   "cell_type": "code",
   "execution_count": null,
   "metadata": {},
   "outputs": [],
   "source": []
  },
  {
   "cell_type": "code",
   "execution_count": null,
   "metadata": {},
   "outputs": [],
   "source": [
    "labels = ['Democrat', 'Republican']\n",
    "color = ['lightskyblue', 'salmon']\n",
    "explode = (0,.05)\n",
    "\n",
    "# Build Pie Chart\n",
    "\n",
    "plt.pie(mrdr_party_t_df['Total'], explode=explode, labels = labels, colors = color\n",
    "        , autopct=\"%1.2f%%\", shadow=True, startangle=90)\n",
    "\n",
    "plt.title(\"1976-2017\", pad = 2)\n",
    "plt.suptitle(\"% of Total Homicides by President's Political Affiliation\")\n",
    "plt.axis('equal')"
   ]
  },
  {
   "cell_type": "code",
   "execution_count": null,
   "metadata": {},
   "outputs": [],
   "source": []
  },
  {
   "cell_type": "code",
   "execution_count": null,
   "metadata": {},
   "outputs": [],
   "source": []
  },
  {
   "cell_type": "code",
   "execution_count": null,
   "metadata": {},
   "outputs": [],
   "source": []
  },
  {
   "cell_type": "code",
   "execution_count": null,
   "metadata": {},
   "outputs": [],
   "source": [
    "labels = ['Democrat', 'Republican']\n",
    "color = ['lightskyblue', 'salmon']\n",
    "explode = (0,.05)\n",
    "plt.title(\"1977-2016\", pad = 2)\n",
    "plt.suptitle(\"% of Total Homicides by President's Political Affiliation\")\n",
    "# Build Pie Chart\n",
    "\n",
    "plt.pie(r_mrdr_party_t_df['Total'], explode=explode, labels = labels, colors = color\n",
    "        , autopct=\"%1.2f%%\", shadow=True, startangle=270)\n",
    "\n",
    "plt.axis('equal')"
   ]
  },
  {
   "cell_type": "code",
   "execution_count": null,
   "metadata": {},
   "outputs": [],
   "source": []
  },
  {
   "cell_type": "code",
   "execution_count": null,
   "metadata": {},
   "outputs": [],
   "source": []
  },
  {
   "cell_type": "code",
   "execution_count": null,
   "metadata": {},
   "outputs": [],
   "source": []
  }
 ],
 "metadata": {
  "kernelspec": {
   "display_name": "Python 3",
   "language": "python",
   "name": "python3"
  },
  "language_info": {
   "codemirror_mode": {
    "name": "ipython",
    "version": 3
   },
   "file_extension": ".py",
   "mimetype": "text/x-python",
   "name": "python",
   "nbconvert_exporter": "python",
   "pygments_lexer": "ipython3",
   "version": "3.7.0"
  }
 },
 "nbformat": 4,
 "nbformat_minor": 2
}
