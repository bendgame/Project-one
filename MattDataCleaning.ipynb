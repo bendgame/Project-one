{
 "cells": [
  {
   "cell_type": "code",
   "execution_count": 1,
   "metadata": {},
   "outputs": [],
   "source": [
    "import pandas as pd\n",
    "import numpy as np\n",
    "import requests\n",
    "import matplotlib.pyplot as plt\n",
    "from census import Census\n",
    "# Census API Key\n",
    "from config import api_key\n",
    "c = Census(api_key, year=2009)"
   ]
  },
  {
   "cell_type": "code",
   "execution_count": 2,
   "metadata": {},
   "outputs": [],
   "source": [
    "midwest_murders = pd.read_csv('MidwestMurderData.csv')"
   ]
  },
  {
   "cell_type": "code",
   "execution_count": null,
   "metadata": {},
   "outputs": [],
   "source": []
  },
  {
   "cell_type": "code",
   "execution_count": 7,
   "metadata": {
    "scrolled": true
   },
   "outputs": [
    {
     "ename": "AttributeError",
     "evalue": "'Census' object has no attribute 'get'",
     "output_type": "error",
     "traceback": [
      "\u001b[0;31m---------------------------------------------------------------------------\u001b[0m",
      "\u001b[0;31mAttributeError\u001b[0m                            Traceback (most recent call last)",
      "\u001b[0;32m<ipython-input-7-035ebf4387ce>\u001b[0m in \u001b[0;36m<module>\u001b[0;34m\u001b[0m\n\u001b[1;32m      2\u001b[0m \u001b[0;31m# Filter and clean census metro data to get just the metro areas that match those in midwest_murders above\u001b[0m\u001b[0;34m\u001b[0m\u001b[0;34m\u001b[0m\u001b[0;34m\u001b[0m\u001b[0m\n\u001b[1;32m      3\u001b[0m \u001b[0;34m\u001b[0m\u001b[0m\n\u001b[0;32m----> 4\u001b[0;31m acs_msa = c.get(('NAME', 'B01003_001E'), \\\n\u001b[0m\u001b[1;32m      5\u001b[0m                     {'for': 'metropolitan statistical area/micropolitan statistical area:*'})\n\u001b[1;32m      6\u001b[0m \u001b[0macs_msa_df\u001b[0m \u001b[0;34m=\u001b[0m \u001b[0mpd\u001b[0m\u001b[0;34m.\u001b[0m\u001b[0mDataFrame\u001b[0m\u001b[0;34m(\u001b[0m\u001b[0macs_msa\u001b[0m\u001b[0;34m)\u001b[0m\u001b[0;34m\u001b[0m\u001b[0;34m\u001b[0m\u001b[0m\n",
      "\u001b[0;31mAttributeError\u001b[0m: 'Census' object has no attribute 'get'"
     ]
    }
   ],
   "source": [
    "# From 2009 census, the same year from which MSA codes/labels in midwest_murders were taken, grab metro populations\n",
    "# Filter and clean census metro data to get just the metro areas that match those in midwest_murders above\n",
    "\n",
    "acs_msa = c.acs5.get(('NAME', 'B01003_001E'), \\\n",
    "                    {'for': 'metropolitan statistical area/micropolitan statistical area:*'})\n",
    "acs_msa_df = pd.DataFrame(acs_msa)\n",
    "acs_msa_df = acs_msa_df.rename(columns={\"B01003_001E\": \"Population\", \"NAME\": \"MSA1\",\n",
    "                                  \"metropolitan statistical area/micropolitan statistical area\": \"MSA Code\"})\n",
    "\n",
    "# Limit results to metro areas, excluding census 'micropolitan areas'\n",
    "# The Murder Accountability Project processed census data through SPSS, changing MSA codes to labels\n",
    "# All micropolitan MSA codes became \"Rural {Statename}\", with no way for users to match them back to orig codes\n",
    "acs_metroonly = acs_msa_df[acs_msa_df['MSA1'].str.contains('Metro Area')]\n",
    "acs_metroonly = acs_metroonly.reset_index(drop=True)\n",
    "\n",
    "# New df with split value columns to isolate 'Metro Area'\n",
    "new_metro = acs_metroonly[\"MSA1\"].str.split(\" Metro Area\", n = 1, expand = True)  \n",
    "# Making separate MSA column from new df \n",
    "acs_metroonly[\"MSA\"]= new_metro[0] \n",
    "# Dropping old MSA columns \n",
    "acs_metroonly.drop(columns =[\"MSA1\"], inplace = True) \n",
    "\n",
    "# New df with split columns to isolate state abbreviations\n",
    "metrostates = acs_metroonly[\"MSA\"].str.split(\", \", n = 1, expand = True) \n",
    "# Add separate state column from new df\n",
    "acs_metroonly['State'] = metrostates[1]\n",
    "\n",
    "# Create list of unique values in state column to identify all possible midwest state labels in MidwestMurderData.csv\n",
    "stateslist = acs_metroonly['State'].unique().tolist() \n",
    "midweststates = ['OH-PA', 'KS', 'WV-OH', 'WI', 'IA', 'OH', 'IN', 'MO', 'IL', 'IN-MI', 'SD', 'IA-NE-SD', \\\n",
    "                  'MO-IL', 'MO-KS', 'MN', 'MI', 'NE-IA', 'MN-WI', 'KY-IN', 'NE', 'WI-MN', 'WV-KY-OH', \\\n",
    "                  'ND-MN', 'AR-MO', 'IN-KY', 'IA-IL', 'OH-KY-IN', 'IL-IN-WI', 'ND']\n",
    "# New df with just state values in the midweststates list, reset index \n",
    "midwest_metros = acs_metroonly[acs_metroonly['State'].isin(midweststates)]\n",
    "midwest_metros = midwest_metros.reset_index(drop=True)\n",
    "\n",
    "# Print census summary table\n",
    "with pd.option_context('display.max_rows', None, 'display.max_columns', None):\n",
    "    print(midwest_metros)"
   ]
  },
  {
   "cell_type": "code",
   "execution_count": 4,
   "metadata": {},
   "outputs": [],
   "source": [
    "# Back in the midwest murder dataframe, get murder counts for each MSA\n",
    "# Do this just murders in 2005-2009 (same year as our 5-year census estimates)\n",
    "\n",
    "# Create df for 2005 through 2009 only\n",
    "acs_years = [2005, 2006, 2007, 2008, 2009]\n",
    "midwest_murders_0509 = midwest_murders[midwest_murders['Year'].isin(acs_years)]\n",
    "\n",
    "# Count murders for each metro area\n",
    "msa_0509_murdercounts = midwest_murders_0509.groupby(['MSA']).count().reset_index()\n",
    "\n",
    "# Trim to necessary fields\n",
    "msa_0509_murdercounts = msa_0509_murdercounts[['MSA', 'ID']]\n",
    "\n",
    "# Remove areas derived from aggregations of all micropolitan areas in each state\n",
    "msa_0509_murdercounts = msa_0509_murdercounts.rename(columns={'ID': 'Homicides', 'MSA': 'MSA'})\n",
    "msa_0509_murders_urban = msa_0509_murdercounts[~msa_0509_murdercounts['MSA'].str.contains('Rural ')]\n",
    "msa_0509_murders_urban = msa_0509_murders_urban.reset_index(drop=True)"
   ]
  },
  {
   "cell_type": "code",
   "execution_count": 5,
   "metadata": {},
   "outputs": [],
   "source": [
    "# Add murder counts, for all years and for 2009 only, to census df with 2009 population estimates\n",
    "# Sort Census summary table alphabetically to match the murder data\n",
    "midwest_metros = midwest_metros.sort_values('MSA').reset_index(drop=True)\n",
    "\n",
    "# Merge the two dfs\n",
    "midwest_metromurders = pd.merge(midwest_metros, msa_0509_murders_urban, on='MSA', how='outer')\n",
    "midwest_metromurders = midwest_metromurders.rename(columns={\n",
    "    'MSA': 'Metro area', 'Homicides': 'Murders 2005-2009', 'Population': 'Population 2009', \\\n",
    "    'MSA Code': 'MSA Code', 'State': 'State',\n",
    "})\n",
    "midwest_metromurders = midwest_metromurders.dropna()\n",
    "\n",
    "midwest_metromurders_0509 = midwest_metromurders[['Metro area', 'Population 2009', 'Murders 2005-2009']]"
   ]
  },
  {
   "cell_type": "code",
   "execution_count": 6,
   "metadata": {},
   "outputs": [
    {
     "ename": "AttributeError",
     "evalue": "'Census' object has no attribute 'columns'",
     "output_type": "error",
     "traceback": [
      "\u001b[0;31m---------------------------------------------------------------------------\u001b[0m",
      "\u001b[0;31mAttributeError\u001b[0m                            Traceback (most recent call last)",
      "\u001b[0;32m<ipython-input-6-a8e5687292f2>\u001b[0m in \u001b[0;36m<module>\u001b[0;34m\u001b[0m\n\u001b[0;32m----> 1\u001b[0;31m \u001b[0mc\u001b[0m\u001b[0;34m.\u001b[0m\u001b[0mcolumns\u001b[0m\u001b[0;34m\u001b[0m\u001b[0;34m\u001b[0m\u001b[0m\n\u001b[0m",
      "\u001b[0;31mAttributeError\u001b[0m: 'Census' object has no attribute 'columns'"
     ]
    }
   ],
   "source": []
  },
  {
   "cell_type": "code",
   "execution_count": null,
   "metadata": {},
   "outputs": [],
   "source": []
  }
 ],
 "metadata": {
  "kernelspec": {
   "display_name": "Python 3",
   "language": "python",
   "name": "python3"
  },
  "language_info": {
   "codemirror_mode": {
    "name": "ipython",
    "version": 3
   },
   "file_extension": ".py",
   "mimetype": "text/x-python",
   "name": "python",
   "nbconvert_exporter": "python",
   "pygments_lexer": "ipython3",
   "version": "3.6.7"
  }
 },
 "nbformat": 4,
 "nbformat_minor": 2
}
