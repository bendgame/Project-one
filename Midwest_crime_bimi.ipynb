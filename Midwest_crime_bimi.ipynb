{
 "cells": [
  {
   "cell_type": "code",
   "execution_count": 2,
   "metadata": {},
   "outputs": [],
   "source": [
    "import warnings\n",
    "warnings.filterwarnings('ignore')"
   ]
  },
  {
   "cell_type": "code",
   "execution_count": 3,
   "metadata": {},
   "outputs": [],
   "source": [
    "import numpy as np\n",
    "import pandas as pd\n",
    "import matplotlib.pyplot as plt\n",
    "import scipy.stats as stats\n",
    "from numpy import nan\n"
   ]
  },
  {
   "cell_type": "code",
   "execution_count": 4,
   "metadata": {
    "scrolled": false
   },
   "outputs": [
    {
     "name": "stdout",
     "output_type": "stream",
     "text": [
      "<class 'pandas.core.frame.DataFrame'>\n",
      "RangeIndex: 145080 entries, 0 to 145079\n",
      "Data columns (total 32 columns):\n",
      "ID              145080 non-null object\n",
      "CNTYFIPS        145080 non-null object\n",
      "Ori             145080 non-null object\n",
      "State           145080 non-null object\n",
      "Agency          145080 non-null object\n",
      "Agentype        145080 non-null object\n",
      "Source          145080 non-null object\n",
      "Solved          145080 non-null object\n",
      "Year            145080 non-null int64\n",
      "StateName       145080 non-null object\n",
      "Month           145080 non-null object\n",
      "Incident        145080 non-null int64\n",
      "ActionType      145080 non-null object\n",
      "Homicide        145080 non-null object\n",
      "Situation       145080 non-null object\n",
      "VicAge          145080 non-null int64\n",
      "VicSex          145080 non-null object\n",
      "VicRace         145080 non-null object\n",
      "VicEthnic       145080 non-null object\n",
      "OffAge          145080 non-null int64\n",
      "OffSex          145080 non-null object\n",
      "OffRace         145080 non-null object\n",
      "OffEthnic       145080 non-null object\n",
      "Weapon          145080 non-null object\n",
      "Relationship    145080 non-null object\n",
      "Circumstance    145080 non-null object\n",
      "Subcircum       5001 non-null object\n",
      "VicCount        145080 non-null int64\n",
      "OffCount        145080 non-null int64\n",
      "FileDate        145080 non-null float64\n",
      "fstate          145080 non-null object\n",
      "MSA             145080 non-null object\n",
      "dtypes: float64(1), int64(6), object(25)\n",
      "memory usage: 35.4+ MB\n"
     ]
    }
   ],
   "source": [
    "midwest_data = pd.read_csv('MidwestMurderData.csv')\n",
    "midwest_data.info()"
   ]
  },
  {
   "cell_type": "code",
   "execution_count": 5,
   "metadata": {},
   "outputs": [
    {
     "name": "stdout",
     "output_type": "stream",
     "text": [
      "Homocide: 143188\n",
      "Negligent manslaughter: 1892\n"
     ]
    }
   ],
   "source": [
    "print('Homocide:', midwest_data[midwest_data.Homicide == 'Murder and non-negligent manslaughter'].ID.count())\n",
    "print('Negligent manslaughter:', midwest_data[midwest_data.Homicide != 'Murder and non-negligent manslaughter'].ID.count())"
   ]
  },
  {
   "cell_type": "code",
   "execution_count": 6,
   "metadata": {},
   "outputs": [
    {
     "name": "stdout",
     "output_type": "stream",
     "text": [
      "Male offender count is: 87750\n",
      "Female offender count is: 12146\n",
      "Unknown offender count is: 45184\n"
     ]
    }
   ],
   "source": [
    "# Offender count by gender\n",
    "print('Male offender count is:',midwest_data['OffSex'].value_counts()['Male'])\n",
    "print('Female offender count is:',midwest_data['OffSex'].value_counts()['Female'])\n",
    "print('Unknown offender count is:',midwest_data['OffSex'].value_counts()['Unknown'])\n"
   ]
  },
  {
   "cell_type": "code",
   "execution_count": 7,
   "metadata": {},
   "outputs": [
    {
     "data": {
      "image/png": "[encoded data removed]",
      "text/plain": [
       "<Figure size 432x288 with 1 Axes>"
      ]
     },
     "metadata": {},
     "output_type": "display_data"
    }
   ],
   "source": [
    "offender_gender = pd.DataFrame(midwest_data, columns = ['OffSex']) \n",
    "count_offender_gender = offender_gender.stack().value_counts()\n",
    "ax = count_offender_gender.plot(kind = 'pie',\n",
    "                              title = 'Gender of the Offender',\n",
    "                              startangle = 10,\n",
    "                              autopct='%.2f')\n",
    "ax.set_ylabel('')\n",
    "plt.show()"
   ]
  },
  {
   "cell_type": "code",
   "execution_count": 8,
   "metadata": {},
   "outputs": [
    {
     "name": "stdout",
     "output_type": "stream",
     "text": [
      "Male victim count is: 111465\n",
      "Female victim count is: 33402\n",
      "Unknown victim count is: 213\n"
     ]
    }
   ],
   "source": [
    "#Victim count by gender\n",
    "print('Male victim count is:',midwest_data['VicSex'].value_counts()['Male'])\n",
    "print('Female victim count is:',midwest_data['VicSex'].value_counts()['Female'])\n",
    "print('Unknown victim count is:',midwest_data['VicSex'].value_counts()['Unknown'])"
   ]
  },
  {
   "cell_type": "code",
   "execution_count": 9,
   "metadata": {},
   "outputs": [
    {
     "data": {
      "image/png": "[encoded data removed]",
      "text/plain": [
       "<Figure size 432x288 with 1 Axes>"
      ]
     },
     "metadata": {},
     "output_type": "display_data"
    }
   ],
   "source": [
    "gender = pd.DataFrame(midwest_data, columns = ['VicSex']) \n",
    "count_gender = gender.stack().value_counts()\n",
    "ax = count_gender.plot(kind = 'pie',\n",
    "                              title = 'Gender of the victims',\n",
    "                              startangle = 10,\n",
    "                              autopct='%.2f')\n",
    "ax.set_ylabel('')\n",
    "plt.show()"
   ]
  },
  {
   "cell_type": "code",
   "execution_count": 10,
   "metadata": {},
   "outputs": [
    {
     "name": "stdout",
     "output_type": "stream",
     "text": [
      "Unsolved: 45193\n",
      "Solved: 99887\n"
     ]
    }
   ],
   "source": [
    "# Solved vs unsolved crime\n",
    "print('Unsolved:', midwest_data[midwest_data.Solved == 'No'].ID.count())\n",
    "print('Solved:', midwest_data[midwest_data.Solved == 'Yes'].ID.count())"
   ]
  },
  {
   "cell_type": "code",
   "execution_count": 11,
   "metadata": {},
   "outputs": [
    {
     "data": {
      "image/png": "[encoded data removed]",
      "text/plain": [
       "<Figure size 432x288 with 1 Axes>"
      ]
     },
     "metadata": {},
     "output_type": "display_data"
    }
   ],
   "source": [
    "solved = pd.DataFrame(midwest_data, columns = ['Solved']) \n",
    "resolution = solved.stack().value_counts()\n",
    "ax = resolution.plot(kind = 'pie',\n",
    "                              title = 'Rates of crimes solved between 1976 & 2017 (in %)',\n",
    "                              startangle = 10,\n",
    "                              autopct='%.2f')\n",
    "ax.set_ylabel('')\n",
    "plt.show()"
   ]
  },
  {
   "cell_type": "code",
   "execution_count": 12,
   "metadata": {},
   "outputs": [
    {
     "data": {
      "image/png": "[encoded data removed]",
      "text/plain": [
       "<Figure size 432x288 with 1 Axes>"
      ]
     },
     "metadata": {},
     "output_type": "display_data"
    }
   ],
   "source": [
    "race = pd.DataFrame(midwest_data, columns = ['VicRace']) \n",
    "victim_race = race.stack().value_counts()\n",
    "ax = victim_race.plot(kind = 'pie',\n",
    "                              title = 'Race of the victims',\n",
    "                              startangle = 20,\n",
    "                              autopct='%.2f',\n",
    "                              explode=(0, 0, 0.7, 1, 1.3))\n",
    "ax.set_ylabel('')\n",
    "plt.show()"
   ]
  },
  {
   "cell_type": "code",
   "execution_count": 13,
   "metadata": {},
   "outputs": [
    {
     "data": {
      "image/png": "[encoded data removed]",
      "text/plain": [
       "<Figure size 432x288 with 1 Axes>"
      ]
     },
     "metadata": {
      "needs_background": "light"
     },
     "output_type": "display_data"
    }
   ],
   "source": [
    "month_group = midwest_data.groupby(['Month']).count().ID.reset_index()\n",
    "\n",
    "months = ['January', 'February', 'March', 'April', 'May', 'June', 'July', 'August', 'September', 'October', 'November', 'December']\n",
    "mapping = {month: i for i, month in enumerate(months)}\n",
    "key = month_group['Month'].map(mapping)\n",
    "month_group = month_group.iloc[key.argsort()]\n",
    "\n",
    "month_group.plot(kind='bar', x='Month')\n",
    "\n",
    "plt.show()"
   ]
  },
  {
   "cell_type": "code",
   "execution_count": 14,
   "metadata": {},
   "outputs": [
    {
     "data": {
      "text/html": [
       "<div>\n",
       "<style scoped>\n",
       "    .dataframe tbody tr th:only-of-type {\n",
       "        vertical-align: middle;\n",
       "    }\n",
       "\n",
       "    .dataframe tbody tr th {\n",
       "        vertical-align: top;\n",
       "    }\n",
       "\n",
       "    .dataframe thead th {\n",
       "        text-align: right;\n",
       "    }\n",
       "</style>\n",
       "<table border=\"1\" class=\"dataframe\">\n",
       "  <thead>\n",
       "    <tr style=\"text-align: right;\">\n",
       "      <th></th>\n",
       "      <th>Month</th>\n",
       "      <th>ID</th>\n",
       "    </tr>\n",
       "  </thead>\n",
       "  <tbody>\n",
       "    <tr>\n",
       "      <th>4</th>\n",
       "      <td>January</td>\n",
       "      <td>11754</td>\n",
       "    </tr>\n",
       "    <tr>\n",
       "      <th>3</th>\n",
       "      <td>February</td>\n",
       "      <td>10187</td>\n",
       "    </tr>\n",
       "    <tr>\n",
       "      <th>7</th>\n",
       "      <td>March</td>\n",
       "      <td>11521</td>\n",
       "    </tr>\n",
       "    <tr>\n",
       "      <th>0</th>\n",
       "      <td>April</td>\n",
       "      <td>11420</td>\n",
       "    </tr>\n",
       "    <tr>\n",
       "      <th>8</th>\n",
       "      <td>May</td>\n",
       "      <td>11956</td>\n",
       "    </tr>\n",
       "    <tr>\n",
       "      <th>6</th>\n",
       "      <td>June</td>\n",
       "      <td>12251</td>\n",
       "    </tr>\n",
       "    <tr>\n",
       "      <th>5</th>\n",
       "      <td>July</td>\n",
       "      <td>13625</td>\n",
       "    </tr>\n",
       "    <tr>\n",
       "      <th>1</th>\n",
       "      <td>August</td>\n",
       "      <td>13515</td>\n",
       "    </tr>\n",
       "    <tr>\n",
       "      <th>11</th>\n",
       "      <td>September</td>\n",
       "      <td>12773</td>\n",
       "    </tr>\n",
       "    <tr>\n",
       "      <th>10</th>\n",
       "      <td>October</td>\n",
       "      <td>12287</td>\n",
       "    </tr>\n",
       "    <tr>\n",
       "      <th>9</th>\n",
       "      <td>November</td>\n",
       "      <td>11658</td>\n",
       "    </tr>\n",
       "    <tr>\n",
       "      <th>2</th>\n",
       "      <td>December</td>\n",
       "      <td>12133</td>\n",
       "    </tr>\n",
       "  </tbody>\n",
       "</table>\n",
       "</div>"
      ],
      "text/plain": [
       "        Month     ID\n",
       "4     January  11754\n",
       "3    February  10187\n",
       "7       March  11521\n",
       "0       April  11420\n",
       "8         May  11956\n",
       "6        June  12251\n",
       "5        July  13625\n",
       "1      August  13515\n",
       "11  September  12773\n",
       "10    October  12287\n",
       "9    November  11658\n",
       "2    December  12133"
      ]
     },
     "execution_count": 14,
     "metadata": {},
     "output_type": "execute_result"
    }
   ],
   "source": [
    "month_group"
   ]
  },
  {
   "cell_type": "code",
   "execution_count": 17,
   "metadata": {},
   "outputs": [
    {
     "data": {
      "text/plain": [
       "<matplotlib.axes._subplots.AxesSubplot at 0x2ac02f58d68>"
      ]
     },
     "execution_count": 17,
     "metadata": {},
     "output_type": "execute_result"
    },
    {
     "data": {
      "image/png": "[encoded data removed]",
      "text/plain": [
       "<Figure size 432x288 with 1 Axes>"
      ]
     },
     "metadata": {
      "needs_background": "light"
     },
     "output_type": "display_data"
    }
   ],
   "source": [
    "df=pd.DataFrame({\n",
    "    'group':['a','a','a','a','a','a','a','b','b','b','b','b','b','b'],\n",
    "    'day':['Mon','Tues','Fri','Thurs','Sat','Sun','Weds','Fri','Sun','Thurs','Sat','Weds','Mon','Tues'],\n",
    "    'amount':[1,2,4,2,1,1,2,4,5,3,4,2,1,3]\n",
    "})\n",
    "\n",
    "\n",
    "# Calculate the total amount for each day\n",
    "df_grouped = df.groupby(['day']).sum().amount.reset_index()\n",
    "\n",
    "# Use Dan's trick to order days names in the table created by groupby\n",
    "weekdays = ['Mon', 'Tues', 'Weds', 'Thurs', 'Fri', 'Sat', 'Sun']\n",
    "mapping = {day: i for i, day in enumerate(weekdays)}\n",
    "key = df_grouped['day'].map(mapping)    \n",
    "df_grouped = df_grouped.iloc[key.argsort()]\n",
    "\n",
    "# Draw the bar chart\n",
    "df_grouped.plot(kind='bar', x='day')"
   ]
  },
  {
   "cell_type": "code",
   "execution_count": null,
   "metadata": {},
   "outputs": [],
   "source": [
    "df_grouped.head()"
   ]
  },
  {
   "cell_type": "code",
   "execution_count": 14,
   "metadata": {
    "scrolled": false
   },
   "outputs": [
    {
     "data": {
      "image/png": "[encoded data removed]",
      "text/plain": [
       "<Figure size 1008x288 with 2 Axes>"
      ]
     },
     "metadata": {
      "needs_background": "light"
     },
     "output_type": "display_data"
    }
   ],
   "source": [
    "fig, axes = plt.subplots(nrows=1, ncols=2, figsize=(14, 4))\n",
    "\n",
    "#\n",
    "ax = (pd.crosstab(midwest_data.VicSex,len(midwest_data.VicSex)).sort_values(len(midwest_data.VicSex), ascending=False).plot(kind='bar', color='#6EDBA1', title='Victim Gender',ax=axes[0]))\n",
    "\n",
    "fig.suptitle('Cases')\n",
    "ax.set_ylabel('Victim Count')\n",
    "# Cases per state\n",
    "ax = (pd.crosstab(midwest_data.State,len(midwest_data.State))\n",
    "        .sort_values(len(midwest_data.State), ascending=False)\n",
    "        .plot(kind='bar', color= '#6EDBA1',title ='Cases By State', ax=axes[1]))\n"
   ]
  },
  {
   "cell_type": "code",
   "execution_count": 15,
   "metadata": {},
   "outputs": [],
   "source": [
    "state_df = midwest_data[['VicSex', 'State', 'Month', 'Solved']]"
   ]
  },
  {
   "cell_type": "code",
   "execution_count": 21,
   "metadata": {},
   "outputs": [
    {
     "data": {
      "image/png": "[encoded data removed]",
      "text/plain": [
       "<Figure size 1080x360 with 1 Axes>"
      ]
     },
     "metadata": {
      "needs_background": "light"
     },
     "output_type": "display_data"
    }
   ],
   "source": [
    "solved_state= midwest_data[['VicSex','State','Solved']]\n",
    "solved_state=solved_state.groupby(by=['VicSex', 'State','Solved']).agg({ 'Solved':'count'})\n",
    "solved_state= solved_state.groupby(level=[0,1]).apply(lambda x:100 * x/x.sum())\n",
    "fig = plt.figure(figsize=(15,5))\n",
    "ax = fig.add_subplot(111)\n",
    "solved_state.columns=[\"Solved_count\"]\n",
    "ind = np.arange(12)\n",
    "width = 0.35\n",
    "\n",
    "for name, group in solved_state.groupby(level=0):\n",
    "    if name == \"Female\":\n",
    "        group= group.reset_index().drop(\"VicSex\",1)\n",
    "        group=group[group[\"Solved\"]==\"Yes\"]\n",
    "        ax.bar(ind, group[\"Solved_count\"], width, label=name, color='#6EDBA1')\n",
    "    if name == \"Male\":\n",
    "        group= group.reset_index().drop(\"VicSex\",1)\n",
    "        group=group[group[\"Solved\"]==\"Yes\"]\n",
    "        ax.bar(ind + width, group[\"Solved_count\"], width, label=name, color='#721121')\n",
    "\n",
    "handles, labels = ax.get_legend_handles_labels()\n",
    "ax.legend(handles, labels)\n",
    "plt.title('State Solve Rates by Victim Sex', fontname='Chaparral Pro', loc='center', pad=30, fontsize=20)\n",
    "plt.xlabel(\"State\", labelpad=20, fontname='Chaparral Pro', fontsize=15)\n",
    "plt.ylabel(\"Solve Rate (%)\", labelpad=20, fontname='Chaparral Pro', fontsize=15)\n",
    "\n",
    "ax.set_xticks(ind + width / 2)\n",
    "ax.set_xticklabels( ('Iowa', 'Illinois', 'Indiana', 'Kansas', 'Michigan', 'Minnesota', 'Missouri', 'Nebraska', \n",
    "                     'North\\nDakota', 'Ohio', 'South\\nDakota', 'Wisconsin') )\n",
    "\n",
    "\n",
    "plt.show()"
   ]
  },
  {
   "cell_type": "code",
   "execution_count": 17,
   "metadata": {},
   "outputs": [
    {
     "data": {
      "text/html": [
       "<div>\n",
       "<style scoped>\n",
       "    .dataframe tbody tr th:only-of-type {\n",
       "        vertical-align: middle;\n",
       "    }\n",
       "\n",
       "    .dataframe tbody tr th {\n",
       "        vertical-align: top;\n",
       "    }\n",
       "\n",
       "    .dataframe thead th {\n",
       "        text-align: right;\n",
       "    }\n",
       "</style>\n",
       "<table border=\"1\" class=\"dataframe\">\n",
       "  <thead>\n",
       "    <tr style=\"text-align: right;\">\n",
       "      <th></th>\n",
       "      <th></th>\n",
       "      <th></th>\n",
       "      <th>Solved_count</th>\n",
       "    </tr>\n",
       "    <tr>\n",
       "      <th>VicSex</th>\n",
       "      <th>State</th>\n",
       "      <th>Solved</th>\n",
       "      <th></th>\n",
       "    </tr>\n",
       "  </thead>\n",
       "  <tbody>\n",
       "    <tr>\n",
       "      <th rowspan=\"22\" valign=\"top\">Female</th>\n",
       "      <th rowspan=\"2\" valign=\"top\">IA</th>\n",
       "      <th>No</th>\n",
       "      <td>24.643536</td>\n",
       "    </tr>\n",
       "    <tr>\n",
       "      <th>Yes</th>\n",
       "      <td>75.356464</td>\n",
       "    </tr>\n",
       "    <tr>\n",
       "      <th rowspan=\"2\" valign=\"top\">IL</th>\n",
       "      <th>No</th>\n",
       "      <td>27.311971</td>\n",
       "    </tr>\n",
       "    <tr>\n",
       "      <th>Yes</th>\n",
       "      <td>72.688029</td>\n",
       "    </tr>\n",
       "    <tr>\n",
       "      <th rowspan=\"2\" valign=\"top\">KS</th>\n",
       "      <th>No</th>\n",
       "      <td>18.438538</td>\n",
       "    </tr>\n",
       "    <tr>\n",
       "      <th>Yes</th>\n",
       "      <td>81.561462</td>\n",
       "    </tr>\n",
       "    <tr>\n",
       "      <th rowspan=\"2\" valign=\"top\">MI</th>\n",
       "      <th>No</th>\n",
       "      <td>28.175550</td>\n",
       "    </tr>\n",
       "    <tr>\n",
       "      <th>Yes</th>\n",
       "      <td>71.824450</td>\n",
       "    </tr>\n",
       "    <tr>\n",
       "      <th rowspan=\"2\" valign=\"top\">MN</th>\n",
       "      <th>No</th>\n",
       "      <td>14.605171</td>\n",
       "    </tr>\n",
       "    <tr>\n",
       "      <th>Yes</th>\n",
       "      <td>85.394829</td>\n",
       "    </tr>\n",
       "    <tr>\n",
       "      <th rowspan=\"2\" valign=\"top\">MO</th>\n",
       "      <th>No</th>\n",
       "      <td>26.600496</td>\n",
       "    </tr>\n",
       "    <tr>\n",
       "      <th>Yes</th>\n",
       "      <td>73.399504</td>\n",
       "    </tr>\n",
       "    <tr>\n",
       "      <th rowspan=\"2\" valign=\"top\">ND</th>\n",
       "      <th>No</th>\n",
       "      <td>5.298013</td>\n",
       "    </tr>\n",
       "    <tr>\n",
       "      <th>Yes</th>\n",
       "      <td>94.701987</td>\n",
       "    </tr>\n",
       "    <tr>\n",
       "      <th rowspan=\"2\" valign=\"top\">NE</th>\n",
       "      <th>No</th>\n",
       "      <td>13.988658</td>\n",
       "    </tr>\n",
       "    <tr>\n",
       "      <th>Yes</th>\n",
       "      <td>86.011342</td>\n",
       "    </tr>\n",
       "    <tr>\n",
       "      <th rowspan=\"2\" valign=\"top\">OH</th>\n",
       "      <th>No</th>\n",
       "      <td>23.588373</td>\n",
       "    </tr>\n",
       "    <tr>\n",
       "      <th>Yes</th>\n",
       "      <td>76.411627</td>\n",
       "    </tr>\n",
       "    <tr>\n",
       "      <th rowspan=\"2\" valign=\"top\">SD</th>\n",
       "      <th>No</th>\n",
       "      <td>7.881773</td>\n",
       "    </tr>\n",
       "    <tr>\n",
       "      <th>Yes</th>\n",
       "      <td>92.118227</td>\n",
       "    </tr>\n",
       "    <tr>\n",
       "      <th rowspan=\"2\" valign=\"top\">WI</th>\n",
       "      <th>No</th>\n",
       "      <td>14.463007</td>\n",
       "    </tr>\n",
       "    <tr>\n",
       "      <th>Yes</th>\n",
       "      <td>85.536993</td>\n",
       "    </tr>\n",
       "    <tr>\n",
       "      <th rowspan=\"21\" valign=\"top\">Male</th>\n",
       "      <th rowspan=\"2\" valign=\"top\">IA</th>\n",
       "      <th>No</th>\n",
       "      <td>31.505928</td>\n",
       "    </tr>\n",
       "    <tr>\n",
       "      <th>Yes</th>\n",
       "      <td>68.494072</td>\n",
       "    </tr>\n",
       "    <tr>\n",
       "      <th rowspan=\"2\" valign=\"top\">IL</th>\n",
       "      <th>No</th>\n",
       "      <td>40.159855</td>\n",
       "    </tr>\n",
       "    <tr>\n",
       "      <th>Yes</th>\n",
       "      <td>59.840145</td>\n",
       "    </tr>\n",
       "    <tr>\n",
       "      <th rowspan=\"2\" valign=\"top\">KS</th>\n",
       "      <th>No</th>\n",
       "      <td>19.014599</td>\n",
       "    </tr>\n",
       "    <tr>\n",
       "      <th>Yes</th>\n",
       "      <td>80.985401</td>\n",
       "    </tr>\n",
       "    <tr>\n",
       "      <th rowspan=\"2\" valign=\"top\">MI</th>\n",
       "      <th>No</th>\n",
       "      <td>33.714502</td>\n",
       "    </tr>\n",
       "    <tr>\n",
       "      <th>Yes</th>\n",
       "      <td>66.285498</td>\n",
       "    </tr>\n",
       "    <tr>\n",
       "      <th>...</th>\n",
       "      <th>...</th>\n",
       "      <td>...</td>\n",
       "    </tr>\n",
       "    <tr>\n",
       "      <th rowspan=\"2\" valign=\"top\">MO</th>\n",
       "      <th>No</th>\n",
       "      <td>38.768418</td>\n",
       "    </tr>\n",
       "    <tr>\n",
       "      <th>Yes</th>\n",
       "      <td>61.231582</td>\n",
       "    </tr>\n",
       "    <tr>\n",
       "      <th rowspan=\"2\" valign=\"top\">ND</th>\n",
       "      <th>No</th>\n",
       "      <td>7.468880</td>\n",
       "    </tr>\n",
       "    <tr>\n",
       "      <th>Yes</th>\n",
       "      <td>92.531120</td>\n",
       "    </tr>\n",
       "    <tr>\n",
       "      <th rowspan=\"2\" valign=\"top\">NE</th>\n",
       "      <th>No</th>\n",
       "      <td>19.147084</td>\n",
       "    </tr>\n",
       "    <tr>\n",
       "      <th>Yes</th>\n",
       "      <td>80.852916</td>\n",
       "    </tr>\n",
       "    <tr>\n",
       "      <th rowspan=\"2\" valign=\"top\">OH</th>\n",
       "      <th>No</th>\n",
       "      <td>29.263824</td>\n",
       "    </tr>\n",
       "    <tr>\n",
       "      <th>Yes</th>\n",
       "      <td>70.736176</td>\n",
       "    </tr>\n",
       "    <tr>\n",
       "      <th rowspan=\"2\" valign=\"top\">SD</th>\n",
       "      <th>No</th>\n",
       "      <td>7.563025</td>\n",
       "    </tr>\n",
       "    <tr>\n",
       "      <th>Yes</th>\n",
       "      <td>92.436975</td>\n",
       "    </tr>\n",
       "    <tr>\n",
       "      <th rowspan=\"2\" valign=\"top\">WI</th>\n",
       "      <th>No</th>\n",
       "      <td>18.071178</td>\n",
       "    </tr>\n",
       "    <tr>\n",
       "      <th>Yes</th>\n",
       "      <td>81.928822</td>\n",
       "    </tr>\n",
       "    <tr>\n",
       "      <th rowspan=\"18\" valign=\"top\">Unknown</th>\n",
       "      <th rowspan=\"2\" valign=\"top\">IA</th>\n",
       "      <th>No</th>\n",
       "      <td>60.000000</td>\n",
       "    </tr>\n",
       "    <tr>\n",
       "      <th>Yes</th>\n",
       "      <td>40.000000</td>\n",
       "    </tr>\n",
       "    <tr>\n",
       "      <th rowspan=\"2\" valign=\"top\">IL</th>\n",
       "      <th>No</th>\n",
       "      <td>52.173913</td>\n",
       "    </tr>\n",
       "    <tr>\n",
       "      <th>Yes</th>\n",
       "      <td>47.826087</td>\n",
       "    </tr>\n",
       "    <tr>\n",
       "      <th rowspan=\"2\" valign=\"top\">KS</th>\n",
       "      <th>No</th>\n",
       "      <td>60.000000</td>\n",
       "    </tr>\n",
       "    <tr>\n",
       "      <th>Yes</th>\n",
       "      <td>40.000000</td>\n",
       "    </tr>\n",
       "    <tr>\n",
       "      <th rowspan=\"2\" valign=\"top\">MI</th>\n",
       "      <th>No</th>\n",
       "      <td>53.333333</td>\n",
       "    </tr>\n",
       "    <tr>\n",
       "      <th>Yes</th>\n",
       "      <td>46.666667</td>\n",
       "    </tr>\n",
       "    <tr>\n",
       "      <th rowspan=\"2\" valign=\"top\">MN</th>\n",
       "      <th>No</th>\n",
       "      <td>62.500000</td>\n",
       "    </tr>\n",
       "    <tr>\n",
       "      <th>Yes</th>\n",
       "      <td>37.500000</td>\n",
       "    </tr>\n",
       "    <tr>\n",
       "      <th rowspan=\"2\" valign=\"top\">MO</th>\n",
       "      <th>No</th>\n",
       "      <td>81.818182</td>\n",
       "    </tr>\n",
       "    <tr>\n",
       "      <th>Yes</th>\n",
       "      <td>18.181818</td>\n",
       "    </tr>\n",
       "    <tr>\n",
       "      <th>ND</th>\n",
       "      <th>Yes</th>\n",
       "      <td>100.000000</td>\n",
       "    </tr>\n",
       "    <tr>\n",
       "      <th rowspan=\"2\" valign=\"top\">OH</th>\n",
       "      <th>No</th>\n",
       "      <td>36.363636</td>\n",
       "    </tr>\n",
       "    <tr>\n",
       "      <th>Yes</th>\n",
       "      <td>63.636364</td>\n",
       "    </tr>\n",
       "    <tr>\n",
       "      <th>SD</th>\n",
       "      <th>Yes</th>\n",
       "      <td>100.000000</td>\n",
       "    </tr>\n",
       "    <tr>\n",
       "      <th rowspan=\"2\" valign=\"top\">WI</th>\n",
       "      <th>No</th>\n",
       "      <td>33.333333</td>\n",
       "    </tr>\n",
       "    <tr>\n",
       "      <th>Yes</th>\n",
       "      <td>66.666667</td>\n",
       "    </tr>\n",
       "  </tbody>\n",
       "</table>\n",
       "<p>62 rows × 1 columns</p>\n",
       "</div>"
      ],
      "text/plain": [
       "                      Solved_count\n",
       "VicSex  State Solved              \n",
       "Female  IA    No         24.643536\n",
       "              Yes        75.356464\n",
       "        IL    No         27.311971\n",
       "              Yes        72.688029\n",
       "        KS    No         18.438538\n",
       "              Yes        81.561462\n",
       "        MI    No         28.175550\n",
       "              Yes        71.824450\n",
       "        MN    No         14.605171\n",
       "              Yes        85.394829\n",
       "        MO    No         26.600496\n",
       "              Yes        73.399504\n",
       "        ND    No          5.298013\n",
       "              Yes        94.701987\n",
       "        NE    No         13.988658\n",
       "              Yes        86.011342\n",
       "        OH    No         23.588373\n",
       "              Yes        76.411627\n",
       "        SD    No          7.881773\n",
       "              Yes        92.118227\n",
       "        WI    No         14.463007\n",
       "              Yes        85.536993\n",
       "Male    IA    No         31.505928\n",
       "              Yes        68.494072\n",
       "        IL    No         40.159855\n",
       "              Yes        59.840145\n",
       "        KS    No         19.014599\n",
       "              Yes        80.985401\n",
       "        MI    No         33.714502\n",
       "              Yes        66.285498\n",
       "...                            ...\n",
       "        MO    No         38.768418\n",
       "              Yes        61.231582\n",
       "        ND    No          7.468880\n",
       "              Yes        92.531120\n",
       "        NE    No         19.147084\n",
       "              Yes        80.852916\n",
       "        OH    No         29.263824\n",
       "              Yes        70.736176\n",
       "        SD    No          7.563025\n",
       "              Yes        92.436975\n",
       "        WI    No         18.071178\n",
       "              Yes        81.928822\n",
       "Unknown IA    No         60.000000\n",
       "              Yes        40.000000\n",
       "        IL    No         52.173913\n",
       "              Yes        47.826087\n",
       "        KS    No         60.000000\n",
       "              Yes        40.000000\n",
       "        MI    No         53.333333\n",
       "              Yes        46.666667\n",
       "        MN    No         62.500000\n",
       "              Yes        37.500000\n",
       "        MO    No         81.818182\n",
       "              Yes        18.181818\n",
       "        ND    Yes       100.000000\n",
       "        OH    No         36.363636\n",
       "              Yes        63.636364\n",
       "        SD    Yes       100.000000\n",
       "        WI    No         33.333333\n",
       "              Yes        66.666667\n",
       "\n",
       "[62 rows x 1 columns]"
      ]
     },
     "execution_count": 17,
     "metadata": {},
     "output_type": "execute_result"
    }
   ],
   "source": [
    "solved_state"
   ]
  },
  {
   "cell_type": "code",
   "execution_count": 18,
   "metadata": {},
   "outputs": [
    {
     "data": {
      "text/html": [
       "<div>\n",
       "<style scoped>\n",
       "    .dataframe tbody tr th:only-of-type {\n",
       "        vertical-align: middle;\n",
       "    }\n",
       "\n",
       "    .dataframe tbody tr th {\n",
       "        vertical-align: top;\n",
       "    }\n",
       "\n",
       "    .dataframe thead th {\n",
       "        text-align: right;\n",
       "    }\n",
       "</style>\n",
       "<table border=\"1\" class=\"dataframe\">\n",
       "  <thead>\n",
       "    <tr style=\"text-align: right;\">\n",
       "      <th></th>\n",
       "      <th>State</th>\n",
       "      <th>Female Victim</th>\n",
       "      <th>Male Victim</th>\n",
       "    </tr>\n",
       "  </thead>\n",
       "  <tbody>\n",
       "    <tr>\n",
       "      <th>0</th>\n",
       "      <td>ND</td>\n",
       "      <td>151</td>\n",
       "      <td>241</td>\n",
       "    </tr>\n",
       "    <tr>\n",
       "      <th>1</th>\n",
       "      <td>SD</td>\n",
       "      <td>203</td>\n",
       "      <td>357</td>\n",
       "    </tr>\n",
       "    <tr>\n",
       "      <th>2</th>\n",
       "      <td>NE</td>\n",
       "      <td>529</td>\n",
       "      <td>1149</td>\n",
       "    </tr>\n",
       "    <tr>\n",
       "      <th>3</th>\n",
       "      <td>KS</td>\n",
       "      <td>1204</td>\n",
       "      <td>2740</td>\n",
       "    </tr>\n",
       "    <tr>\n",
       "      <th>4</th>\n",
       "      <td>MN</td>\n",
       "      <td>1431</td>\n",
       "      <td>3327</td>\n",
       "    </tr>\n",
       "    <tr>\n",
       "      <th>5</th>\n",
       "      <td>WI</td>\n",
       "      <td>2095</td>\n",
       "      <td>5423</td>\n",
       "    </tr>\n",
       "    <tr>\n",
       "      <th>6</th>\n",
       "      <td>MO</td>\n",
       "      <td>4030</td>\n",
       "      <td>14388</td>\n",
       "    </tr>\n",
       "    <tr>\n",
       "      <th>7</th>\n",
       "      <td>IA</td>\n",
       "      <td>4208</td>\n",
       "      <td>11893</td>\n",
       "    </tr>\n",
       "    <tr>\n",
       "      <th>8</th>\n",
       "      <td>OH</td>\n",
       "      <td>5986</td>\n",
       "      <td>18012</td>\n",
       "    </tr>\n",
       "    <tr>\n",
       "      <th>9</th>\n",
       "      <td>IL</td>\n",
       "      <td>6023</td>\n",
       "      <td>27525</td>\n",
       "    </tr>\n",
       "    <tr>\n",
       "      <th>10</th>\n",
       "      <td>MI</td>\n",
       "      <td>7542</td>\n",
       "      <td>26410</td>\n",
       "    </tr>\n",
       "  </tbody>\n",
       "</table>\n",
       "</div>"
      ],
      "text/plain": [
       "   State  Female Victim  Male Victim\n",
       "0     ND            151          241\n",
       "1     SD            203          357\n",
       "2     NE            529         1149\n",
       "3     KS           1204         2740\n",
       "4     MN           1431         3327\n",
       "5     WI           2095         5423\n",
       "6     MO           4030        14388\n",
       "7     IA           4208        11893\n",
       "8     OH           5986        18012\n",
       "9     IL           6023        27525\n",
       "10    MI           7542        26410"
      ]
     },
     "execution_count": 18,
     "metadata": {},
     "output_type": "execute_result"
    }
   ],
   "source": [
    "vic_df = state_df[['VicSex','State']]\n",
    "female = vic_df.loc[vic_df[\"VicSex\"] ==\"Female\", :]\n",
    "female_victims = female.groupby('State').count()\n",
    "female_victims_df = female_victims.rename(columns={\"VicSex\":'Female Victim'})\n",
    "female_df = female_victims_df.reset_index().sort_values('Female Victim')\n",
    "\n",
    "\n",
    "male = vic_df.loc[vic_df[\"VicSex\"] == \"Male\", :]\n",
    "male_victims = male.groupby('State').count()\n",
    "male_victims_df = male_victims.rename(columns={\"VicSex\": \"Male Victim\"})\n",
    "male_df = male_victims_df.reset_index().sort_values(\"Male Victim\")\n",
    "\n",
    "combined_df = pd.merge(female_df, male_df, on= \"State\", how= \"left\")\n",
    "\n",
    "combined_df"
   ]
  },
  {
   "cell_type": "code",
   "execution_count": 19,
   "metadata": {
    "scrolled": false
   },
   "outputs": [
    {
     "data": {
      "text/plain": [
       "<matplotlib.axes._subplots.AxesSubplot at 0x1a17e76d30>"
      ]
     },
     "execution_count": 19,
     "metadata": {},
     "output_type": "execute_result"
    },
    {
     "data": {
      "image/png": "[encoded data removed]",
      "text/plain": [
       "<Figure size 1080x576 with 1 Axes>"
      ]
     },
     "metadata": {
      "needs_background": "light"
     },
     "output_type": "display_data"
    }
   ],
   "source": [
    "midwest_data.boxplot(\"Year\", by=\"VicCount\", figsize=(15, 8))"
   ]
  },
  {
   "cell_type": "code",
   "execution_count": 20,
   "metadata": {},
   "outputs": [],
   "source": [
    "group0 = midwest_data[midwest_data[\"VicCount\"] == 0][\"Year\"]\n",
    "group1 = midwest_data[midwest_data[\"VicCount\"] == 1][\"Year\"]\n",
    "group2 = midwest_data[midwest_data[\"VicCount\"] == 2][\"Year\"]\n",
    "group3 = midwest_data[midwest_data[\"VicCount\"] == 3][\"Year\"]\n",
    "group4 = midwest_data[midwest_data[\"VicCount\"] == 4][\"Year\"]\n",
    "group5 = midwest_data[midwest_data[\"VicCount\"] == 5][\"Year\"]\n",
    "group6 = midwest_data[midwest_data[\"VicCount\"] == 6][\"Year\"]\n",
    "group7 = midwest_data[midwest_data[\"VicCount\"] == 7][\"Year\"]\n",
    "group8 = midwest_data[midwest_data[\"VicCount\"] == 8][\"Year\"]\n",
    "group9 = midwest_data[midwest_data[\"VicCount\"] == 9][\"Year\"]\n"
   ]
  },
  {
   "cell_type": "code",
   "execution_count": 21,
   "metadata": {},
   "outputs": [
    {
     "data": {
      "text/plain": [
       "F_onewayResult(statistic=50.582914384047754, pvalue=3.0614042327996557e-92)"
      ]
     },
     "execution_count": 21,
     "metadata": {},
     "output_type": "execute_result"
    }
   ],
   "source": [
    "stats.f_oneway(group0,group1, group2,group3, group4, group5,group6, group7, group8, group9)"
   ]
  },
  {
   "cell_type": "code",
   "execution_count": 22,
   "metadata": {},
   "outputs": [
    {
     "data": {
      "text/plain": [
       "<matplotlib.axes._subplots.AxesSubplot at 0x1a18758908>"
      ]
     },
     "execution_count": 22,
     "metadata": {},
     "output_type": "execute_result"
    },
    {
     "data": {
      "image/png": "[encoded data removed]",
      "text/plain": [
       "<Figure size 432x288 with 1 Axes>"
      ]
     },
     "metadata": {
      "needs_background": "light"
     },
     "output_type": "display_data"
    },
    {
     "data": {
      "image/png": "[encoded data removed]",
      "text/plain": [
       "<Figure size 432x288 with 1 Axes>"
      ]
     },
     "metadata": {
      "needs_background": "light"
     },
     "output_type": "display_data"
    }
   ],
   "source": [
    "# probably dont need these ones\n",
    "combined_df.plot(kind='bar',x='State',y='Female Victim',)\n",
    "combined_df.plot(kind='bar',x='State',y='Male Victim',)"
   ]
  },
  {
   "cell_type": "code",
   "execution_count": 23,
   "metadata": {},
   "outputs": [],
   "source": [
    "# Extract individual groups\n",
    "group1 = midwest_data[midwest_data[\"Month\"] == 1][\"VicAge\"]\n",
    "group2 = midwest_data[midwest_data[\"Month\"] == 2][\"VicAge\"]\n",
    "group3 = midwest_data[midwest_data[\"Month\"] == 3][\"VicAge\"]"
   ]
  },
  {
   "cell_type": "code",
   "execution_count": 24,
   "metadata": {},
   "outputs": [
    {
     "data": {
      "text/plain": [
       "F_onewayResult(statistic=nan, pvalue=nan)"
      ]
     },
     "execution_count": 24,
     "metadata": {},
     "output_type": "execute_result"
    }
   ],
   "source": [
    "stats.f_oneway(group1, group2, group3)"
   ]
  },
  {
   "cell_type": "code",
   "execution_count": 25,
   "metadata": {
    "scrolled": true
   },
   "outputs": [
    {
     "data": {
      "text/plain": [
       "Month\n",
       "April        11420\n",
       "August       13515\n",
       "December     12133\n",
       "February     10187\n",
       "January      11754\n",
       "July         13625\n",
       "June         12251\n",
       "March        11521\n",
       "May          11956\n",
       "November     11658\n",
       "October      12287\n",
       "September    12773\n",
       "Name: VicCount, dtype: int64"
      ]
     },
     "execution_count": 25,
     "metadata": {},
     "output_type": "execute_result"
    }
   ],
   "source": [
    "victim_group = midwest_data.groupby('Month')\n",
    "\n",
    "# Counting victims\n",
    "vic_count = victim_group['VicCount'].count()\n",
    "\n",
    "vic_count"
   ]
  },
  {
   "cell_type": "code",
   "execution_count": 26,
   "metadata": {
    "scrolled": false
   },
   "outputs": [
    {
     "data": {
      "image/png": "[encoded data removed]",
      "text/plain": [
       "<Figure size 432x288 with 1 Axes>"
      ]
     },
     "metadata": {
      "needs_background": "light"
     },
     "output_type": "display_data"
    }
   ],
   "source": [
    "age = plt.hist(midwest_data['VicAge'],bins=100)\n",
    "plt.xlabel('Victims Ages')\n",
    "plt.ylabel('Number of Homicides');\n",
    "age = plt.xlim(0,110)\n",
    "\n",
    "\n",
    "\n",
    "plt.show()"
   ]
  },
  {
   "cell_type": "code",
   "execution_count": 27,
   "metadata": {
    "scrolled": false
   },
   "outputs": [],
   "source": [
    "#crimefile = []\n",
    "#for col in midwest_data.columns.values:\n",
    "    #if len(set(midwest_data[col])) < 50:\n",
    "        #print(col, set(midwest_data[col]))\n",
    "        #crimefile.append(col)\n",
    "        \n",
    "#print(crimefile)"
   ]
  }
 ],
 "metadata": {
  "kernelspec": {
   "display_name": "Python 3",
   "language": "python",
   "name": "python3"
  },
  "language_info": {
   "codemirror_mode": {
    "name": "ipython",
    "version": 3
   },
   "file_extension": ".py",
   "mimetype": "text/x-python",
   "name": "python",
   "nbconvert_exporter": "python",
   "pygments_lexer": "ipython3",
   "version": "3.7.1"
  }
 },
 "nbformat": 4,
 "nbformat_minor": 2
}
