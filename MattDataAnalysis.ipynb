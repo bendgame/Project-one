{
 "cells": [
  {
   "cell_type": "code",
   "execution_count": null,
   "metadata": {},
   "outputs": [],
   "source": [
    "import pandas as pd\n",
    "import numpy as np\n",
    "import requests\n",
    "import matplotlib.pyplot as plt\n",
    "from census import Census\n",
    "from MattDataCleaning import midwest_metromurders_0509"
   ]
  },
  {
   "cell_type": "code",
   "execution_count": null,
   "metadata": {
    "scrolled": true
   },
   "outputs": [],
   "source": [
    "midwest_murders = pd.read_csv('MidwestMurderData.csv')"
   ]
  },
  {
   "cell_type": "code",
   "execution_count": null,
   "metadata": {
    "scrolled": true
   },
   "outputs": [],
   "source": [
    "# From 2009 census, the same year from which MSA codes/labels in midwest_murders were taken, grab metro populations\n",
    "# Filter and clean census metro data to get just the metro areas that match those in midwest_murders above\n",
    "\n",
    "acs_msa = c.acs5.get(('NAME', 'B01003_001E'), \\\n",
    "                    {'for': 'metropolitan statistical area/micropolitan statistical area:*'})\n",
    "acs_msa_df = pd.DataFrame(acs_msa)\n",
    "acs_msa_df = acs_msa_df.rename(columns={\"B01003_001E\": \"Population\", \"NAME\": \"MSA1\",\n",
    "                                  \"metropolitan statistical area/micropolitan statistical area\": \"MSA Code\"})\n",
    "\n",
    "# Limit results to metro areas, excluding census 'micropolitan areas'\n",
    "# The Murder Accountability Project processed census data through SPSS, changing MSA codes to labels\n",
    "# All micropolitan MSA codes became \"Rural {Statename}\", with no way for users to match them back to orig codes\n",
    "acs_metroonly = acs_msa_df[acs_msa_df['MSA1'].str.contains('Metro Area')]\n",
    "acs_metroonly = acs_metroonly.reset_index(drop=True)\n",
    "\n",
    "# New df with split value columns to isolate 'Metro Area'\n",
    "new_metro = acs_metroonly[\"MSA1\"].str.split(\" Metro Area\", n = 1, expand = True)  \n",
    "# Making separate MSA column from new df \n",
    "acs_metroonly[\"MSA\"]= new_metro[0] \n",
    "# Dropping old MSA columns \n",
    "acs_metroonly.drop(columns =[\"MSA1\"], inplace = True) \n",
    "\n",
    "# New df with split columns to isolate state abbreviations\n",
    "metrostates = acs_metroonly[\"MSA\"].str.split(\", \", n = 1, expand = True) \n",
    "# Add separate state column from new df\n",
    "acs_metroonly['State'] = metrostates[1]\n",
    "\n",
    "# Create list of unique values in state column to identify all possible midwest state labels in MidwestMurderData.csv\n",
    "stateslist = acs_metroonly['State'].unique().tolist() \n",
    "midweststates = ['OH-PA', 'KS', 'WV-OH', 'WI', 'IA', 'OH', 'IN', 'MO', 'IL', 'IN-MI', 'SD', 'IA-NE-SD', \\\n",
    "                  'MO-IL', 'MO-KS', 'MN', 'MI', 'NE-IA', 'MN-WI', 'KY-IN', 'NE', 'WI-MN', 'WV-KY-OH', \\\n",
    "                  'ND-MN', 'AR-MO', 'IN-KY', 'IA-IL', 'OH-KY-IN', 'IL-IN-WI', 'ND']\n",
    "# New df with just state values in the midweststates list, reset index \n",
    "midwest_metros = acs_metroonly[acs_metroonly['State'].isin(midweststates)]\n",
    "midwest_metros = midwest_metros.reset_index(drop=True)\n",
    "\n",
    "# Print census summary table\n",
    "with pd.option_context('display.max_rows', None, 'display.max_columns', None):\n",
    "    print(midwest_metros)"
   ]
  },
  {
   "cell_type": "code",
   "execution_count": null,
   "metadata": {
    "scrolled": true
   },
   "outputs": [],
   "source": [
    "# Back in the midwest murder dataframe, get murder counts for each MSA\n",
    "# Do this just murders in 2005-2009 (same year as our 5-year census estimates)\n",
    "\n",
    "# Create df for 2005 through 2009 only\n",
    "acs_years = [2005, 2006, 2007, 2008, 2009]\n",
    "midwest_murders_0509 = midwest_murders[midwest_murders['Year'].isin(acs_years)]\n",
    "\n",
    "# Count murders for each metro area\n",
    "msa_0509_murdercounts = midwest_murders_0509.groupby(['MSA']).count().reset_index()\n",
    "\n",
    "# Trim to necessary fields\n",
    "msa_0509_murdercounts = msa_0509_murdercounts[['MSA', 'ID']]\n",
    "\n",
    "# Remove areas derived from aggregations of all micropolitan areas in each state\n",
    "msa_0509_murdercounts = msa_0509_murdercounts.rename(columns={'ID': 'Homicides', 'MSA': 'MSA'})\n",
    "msa_0509_murders_urban = msa_0509_murdercounts[~msa_0509_murdercounts['MSA'].str.contains('Rural ')]\n",
    "msa_0509_murders_urban = msa_0509_murders_urban.reset_index(drop=True)"
   ]
  },
  {
   "cell_type": "code",
   "execution_count": null,
   "metadata": {
    "scrolled": true
   },
   "outputs": [],
   "source": [
    "# Add murder counts, for all years and for 2009 only, to census df with 2009 population estimates\n",
    "# Sort Census summary table alphabetically to match the murder data\n",
    "midwest_metros = midwest_metros.sort_values('MSA').reset_index(drop=True)\n",
    "\n",
    "# Merge the two dfs\n",
    "midwest_metromurders = pd.merge(midwest_metros, msa_0509_murders_urban, on='MSA', how='outer')\n",
    "midwest_metromurders = midwest_metromurders.rename(columns={\n",
    "    'MSA': 'Metro area', 'Homicides': 'Murders 2005-2009', 'Population': 'Population 2009', \\\n",
    "    'MSA Code': 'MSA Code', 'State': 'State',\n",
    "})\n",
    "midwest_metromurders = midwest_metromurders.dropna()\n",
    "\n",
    "midwest_metromurders_0509 = midwest_metromurders[['Metro area', 'Population 2009', 'Murders 2005-2009']]"
   ]
  },
  {
   "cell_type": "code",
   "execution_count": null,
   "metadata": {},
   "outputs": [],
   "source": [
    "# Multiply murder counts by 100000 then divide by populations for each city to get per capita murder rates\n",
    "midwest_metromurders_0509['Per capita murder rate, 2005-2009'] = \\\n",
    "midwest_metromurders_0509['Murders 2005-2009'] * 100000 / midwest_metromurders_0509['Population 2009']\n",
    "\n",
    "# Round and reset index\n",
    "midwest_metromurders_0509 = midwest_metromurders_0509.round(2).reset_index(drop=True)\n",
    "midwest_metromurders_0509"
   ]
  },
  {
   "cell_type": "code",
   "execution_count": null,
   "metadata": {
    "scrolled": true
   },
   "outputs": [],
   "source": [
    "# Prep data for scatter plot by making metro areas the index \n",
    "midwest_metromurders_0509 = midwest_metromurders_0509.set_index('Metro area')"
   ]
  },
  {
   "cell_type": "code",
   "execution_count": null,
   "metadata": {},
   "outputs": [],
   "source": [
    "x = midwest_metromurders_0509['Population 2009']\n",
    "y = midwest_metromurders_0509['Per capita murder rate, 2005-2009']\n",
    "plt.figure(figsize=(15,5))\n",
    "plt.scatter(x, y, color='#6EDBA1', alpha=0.6)\n",
    "plt.title('Per capita murder rates in Midwest metro areas', pad=30, fontname='Chaparral Pro', fontsize=20)\n",
    "plt.xlabel('Population (from 2009 census five-year estimates)', labelpad=20, fontname='Chaparral Pro', fontsize=12)\n",
    "plt.ylabel('Murders per 100,000 people, 2005-2009', labelpad=20, fontname='Chaparral Pro', fontsize=12)"
   ]
  },
  {
   "cell_type": "code",
   "execution_count": null,
   "metadata": {},
   "outputs": [],
   "source": []
  }
 ],
 "metadata": {
  "kernelspec": {
   "display_name": "Python 3",
   "language": "python",
   "name": "python3"
  },
  "language_info": {
   "codemirror_mode": {
    "name": "ipython",
    "version": 3
   },
   "file_extension": ".py",
   "mimetype": "text/x-python",
   "name": "python",
   "nbconvert_exporter": "python",
   "pygments_lexer": "ipython3",
   "version": "3.6.7"
  }
 },
 "nbformat": 4,
 "nbformat_minor": 2
}
