{
 "cells": [
  {
   "cell_type": "code",
   "execution_count": 1,
   "metadata": {},
   "outputs": [],
   "source": [
    "import pandas as pd\n",
    "import numpy as np\n",
    "import matplotlib.pyplot as plt\n",
    "import requests\n",
    "from census import Census\n",
    "import agate\n",
    "\n",
    "# Census API Key\n",
    "from config import api_key\n",
    "c = Census(api_key, year=2009)"
   ]
  },
  {
   "cell_type": "code",
   "execution_count": null,
   "metadata": {
    "scrolled": false
   },
   "outputs": [],
   "source": [
    "midwest_data = pd.read_csv('MidwestMurderData.csv')\n",
    "midwest_data"
   ]
  },
  {
   "cell_type": "code",
   "execution_count": null,
   "metadata": {
    "scrolled": true
   },
   "outputs": [],
   "source": [
    "acs_msa = c.acs5.get(('NAME', 'B01003_001E'), \\\n",
    "                    {'for': 'metropolitan statistical area/micropolitan statistical area:*'})\n",
    "metrodf = pd.DataFrame(acs_msa)\n",
    "metrodf = metrodf.rename(columns={\"B01003_001E\": \"Population\", \"NAME\": \"MSA1\",\n",
    "                                  \"metropolitan statistical area/micropolitan statistical area\": \"MSA Code\"})\n",
    "metro_only = metrodf[metrodf['MSA1'].str.contains('Metro Area')]\n",
    "metro_only = metro_only.reset_index(drop=True)\n",
    "\n",
    "# new data frame with split value columns to isolate 'Metro Area'\n",
    "new_metro = metro_only[\"MSA1\"].str.split(\" Metro Area\", n = 1, expand = True)  \n",
    "# making separate MSA column from new data frame \n",
    "metro_only[\"MSA\"]= new_metro[0] \n",
    "# Dropping old MSA columns \n",
    "metro_only.drop(columns =[\"MSA1\"], inplace = True) \n",
    "\n",
    "# new data frame with split columns to isolate state abbreviations\n",
    "metrostates = metro_only[\"MSA\"].str.split(\", \", n = 1, expand = True) \n",
    "# add separate state column from new df\n",
    "metro_only['State'] = metrostates[1]\n",
    "\n",
    "# create list of unique values in state column to identify all possible midwest state labels in MidwestMurderData.csv\n",
    "stateslist = metro_only['State'].unique().tolist() \n",
    "midweststates = ['OH-PA', 'KS', 'WV-OH', 'WI', 'IA', 'OH', 'IN', 'MO', 'IL', 'IN-MI', 'SD', 'IA-NE-SD', \\\n",
    "                  'MO-IL', 'MO-KS', 'MN', 'MI', 'NE-IA', 'MN-WI', 'KY-IN', 'NE', 'WI-MN', 'WV-KY-OH', \\\n",
    "                  'ND-MN', 'AR-MO', 'IN-KY', 'IA-IL', 'OH-KY-IN', 'IL-IN-WI', 'ND']\n",
    "# new dataframe with just state values in the midweststates list, reset index \n",
    "midwest_metros = metro_only[metro_only['State'].isin(midweststates)]\n",
    "midwest_metros = midwest_metros.reset_index(drop=True)\n",
    "midwest_metros"
   ]
  },
  {
   "cell_type": "code",
   "execution_count": null,
   "metadata": {},
   "outputs": [],
   "source": []
  },
  {
   "cell_type": "code",
   "execution_count": null,
   "metadata": {},
   "outputs": [],
   "source": []
  },
  {
   "cell_type": "code",
   "execution_count": null,
   "metadata": {},
   "outputs": [],
   "source": []
  },
  {
   "cell_type": "code",
   "execution_count": null,
   "metadata": {},
   "outputs": [],
   "source": [
    "# census_data_cntyfips = c.acs5.get(('NAME', 'B01003_001E', 'B19301_001E', 'B17001_002E'), {'for': 'county:*', 'in': 'state:*'})\n",
    "# census_df_cntyfips = pd.DataFrame(census_data_cntyfips)\n",
    "# census_df_cntyfips = census_df_cntyfips.rename(columns={\"B01003_001E\": \"Population\",\n",
    "#                                                         \"B19301_001E\": \"Per Capita Income\",\n",
    "#                                                         \"B17001_002E\": \"Poverty Count\",\n",
    "#                                                         \"NAME\": \"Name\",\n",
    "#                                                         \"county\": \"County\"})\n",
    "# census_df_cntyfips\n"
   ]
  },
  {
   "cell_type": "code",
   "execution_count": null,
   "metadata": {},
   "outputs": [],
   "source": []
  }
 ],
 "metadata": {
  "kernelspec": {
   "display_name": "Python 3",
   "language": "python",
   "name": "python3"
  },
  "language_info": {
   "codemirror_mode": {
    "name": "ipython",
    "version": 3
   },
   "file_extension": ".py",
   "mimetype": "text/x-python",
   "name": "python",
   "nbconvert_exporter": "python",
   "pygments_lexer": "ipython3",
   "version": "3.6.7"
  }
 },
 "nbformat": 4,
 "nbformat_minor": 2
}
