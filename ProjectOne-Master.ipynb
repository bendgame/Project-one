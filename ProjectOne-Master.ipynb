{
 "cells": [
  {
   "cell_type": "code",
   "execution_count": null,
   "metadata": {},
   "outputs": [],
   "source": [
    "# Import dependencies\n",
    "import pandas as pd\n",
    "import numpy as np\n",
    "import os \n",
    "\n",
    "file = os.path.join('MidwestMurderData.csv')\n",
    "csv = pd.read_csv(file)\n"
   ]
  },
  {
   "cell_type": "code",
   "execution_count": null,
   "metadata": {},
   "outputs": [],
   "source": [
    "# Amber Start"
   ]
  },
  {
   "cell_type": "code",
   "execution_count": null,
   "metadata": {},
   "outputs": [],
   "source": [
    "# Amber End"
   ]
  },
  {
   "cell_type": "code",
   "execution_count": null,
   "metadata": {},
   "outputs": [],
   "source": [
    "# Eric Start"
   ]
  },
  {
   "cell_type": "code",
   "execution_count": null,
   "metadata": {},
   "outputs": [],
   "source": [
    "mmd_df = pd.DataFrame(csv)\n",
    "mmd_df.head()"
   ]
  },
  {
   "cell_type": "code",
   "execution_count": null,
   "metadata": {},
   "outputs": [],
   "source": [
    "mg = mmd_df.groupby(['Year']).count()\n",
    "mg"
   ]
  },
  {
   "cell_type": "code",
   "execution_count": null,
   "metadata": {},
   "outputs": [],
   "source": []
  },
  {
   "cell_type": "code",
   "execution_count": null,
   "metadata": {},
   "outputs": [],
   "source": []
  },
  {
   "cell_type": "code",
   "execution_count": 7,
   "metadata": {},
   "outputs": [],
   "source": [
    "# Eric End"
   ]
  },
  {
   "cell_type": "code",
   "execution_count": 8,
   "metadata": {},
   "outputs": [],
   "source": [
    "# Bimi Start"
   ]
  },
  {
   "cell_type": "code",
   "execution_count": 9,
   "metadata": {},
   "outputs": [
    {
     "name": "stdout",
     "output_type": "stream",
     "text": [
      "<class 'pandas.core.frame.DataFrame'>\n",
      "RangeIndex: 145080 entries, 0 to 145079\n",
      "Data columns (total 35 columns):\n",
      "ID              145080 non-null object\n",
      "City            145080 non-null object\n",
      "StateAbrv       145080 non-null object\n",
      "Ori             145080 non-null object\n",
      "State           145080 non-null object\n",
      "Agency          145080 non-null object\n",
      "Agentype        145080 non-null object\n",
      "Source          145080 non-null object\n",
      "Solved          145080 non-null object\n",
      "Year            145080 non-null int64\n",
      "StateName       145080 non-null object\n",
      "Month           145080 non-null object\n",
      "Incident        145080 non-null int64\n",
      "ActionType      145080 non-null object\n",
      "Homicide        145080 non-null object\n",
      "Situation       145080 non-null object\n",
      "VicAge          145080 non-null int64\n",
      "VicSex          145080 non-null object\n",
      "VicRace         145080 non-null object\n",
      "VicEthnic       145080 non-null object\n",
      "OffAge          145080 non-null int64\n",
      "OffSex          145080 non-null object\n",
      "OffRace         145080 non-null object\n",
      "OffEthnic       145080 non-null object\n",
      "Weapon          145080 non-null object\n",
      "Relationship    145080 non-null object\n",
      "Circumstance    145080 non-null object\n",
      "Subcircum       5001 non-null object\n",
      "VicCount        145080 non-null int64\n",
      "OffCount        145080 non-null int64\n",
      "FileDate        145080 non-null int64\n",
      "fstate          145080 non-null object\n",
      "MSA             145080 non-null object\n",
      "MSAState        133850 non-null object\n",
      "Unnamed: 34     0 non-null float64\n",
      "dtypes: float64(1), int64(7), object(27)\n",
      "memory usage: 38.7+ MB\n"
     ]
    }
   ],
   "source": [
    "midwest_data = pd.read_csv('MidwestMurderData.csv')\n",
    "midwest_data.info()"
   ]
  },
  {
   "cell_type": "code",
   "execution_count": 10,
   "metadata": {},
   "outputs": [
    {
     "name": "stdout",
     "output_type": "stream",
     "text": [
      "Male offender count is: 87750\n",
      "Female offender count is: 12146\n",
      "Unknown offender count is: 45184\n"
     ]
    }
   ],
   "source": [
    "\n",
    "# Offender count by gender\n",
    "print('Male offender count is:',midwest_data['OffSex'].value_counts()['Male'])\n",
    "print('Female offender count is:',midwest_data['OffSex'].value_counts()['Female'])\n",
    "print('Unknown offender count is:',midwest_data['OffSex'].value_counts()['Unknown'])"
   ]
  },
  {
   "cell_type": "code",
   "execution_count": 11,
   "metadata": {},
   "outputs": [
    {
     "name": "stdout",
     "output_type": "stream",
     "text": [
      "Male victim count is: 111465\n",
      "Female victim count is: 33402\n",
      "Unknown victim count is: 213\n"
     ]
    }
   ],
   "source": [
    "#Victim count by gender\n",
    "print('Male victim count is:',midwest_data['VicSex'].value_counts()['Male'])\n",
    "print('Female victim count is:',midwest_data['VicSex'].value_counts()['Female'])\n",
    "print('Unknown victim count is:',midwest_data['VicSex'].value_counts()['Unknown'])"
   ]
  },
  {
   "cell_type": "code",
   "execution_count": 12,
   "metadata": {},
   "outputs": [
    {
     "name": "stdout",
     "output_type": "stream",
     "text": [
      "Homocide: 143188\n",
      "Negligent manslaughter: 1892\n"
     ]
    }
   ],
   "source": [
    "print('Homocide:', midwest_data[midwest_data.Homicide == 'Murder and non-negligent manslaughter'].ID.count())\n",
    "print('Negligent manslaughter:', midwest_data[midwest_data.Homicide != 'Murder and non-negligent manslaughter'].ID.count())"
   ]
  },
  {
   "cell_type": "code",
   "execution_count": 13,
   "metadata": {},
   "outputs": [
    {
     "name": "stdout",
     "output_type": "stream",
     "text": [
      "Unsolved: 45193\n",
      "Solved: 99887\n"
     ]
    }
   ],
   "source": [
    "# Solved vs unsolved crime\n",
    "print('Unsolved:', midwest_data[midwest_data.Solved == 'No'].ID.count())\n",
    "print('Solved:', midwest_data[midwest_data.Solved == 'Yes'].ID.count())"
   ]
  },
  {
   "cell_type": "code",
   "execution_count": 14,
   "metadata": {},
   "outputs": [
    {
     "data": {
      "text/html": [
       "<div>\n",
       "<style scoped>\n",
       "    .dataframe tbody tr th:only-of-type {\n",
       "        vertical-align: middle;\n",
       "    }\n",
       "\n",
       "    .dataframe tbody tr th {\n",
       "        vertical-align: top;\n",
       "    }\n",
       "\n",
       "    .dataframe thead th {\n",
       "        text-align: right;\n",
       "    }\n",
       "</style>\n",
       "<table border=\"1\" class=\"dataframe\">\n",
       "  <thead>\n",
       "    <tr style=\"text-align: right;\">\n",
       "      <th></th>\n",
       "      <th>ID</th>\n",
       "      <th>City</th>\n",
       "      <th>StateAbrv</th>\n",
       "      <th>Ori</th>\n",
       "      <th>State</th>\n",
       "      <th>Agency</th>\n",
       "      <th>Agentype</th>\n",
       "      <th>Source</th>\n",
       "      <th>Solved</th>\n",
       "      <th>Year</th>\n",
       "      <th>...</th>\n",
       "      <th>Relationship</th>\n",
       "      <th>Circumstance</th>\n",
       "      <th>Subcircum</th>\n",
       "      <th>VicCount</th>\n",
       "      <th>OffCount</th>\n",
       "      <th>FileDate</th>\n",
       "      <th>fstate</th>\n",
       "      <th>MSA</th>\n",
       "      <th>MSAState</th>\n",
       "      <th>Unnamed: 34</th>\n",
       "    </tr>\n",
       "  </thead>\n",
       "  <tbody>\n",
       "    <tr>\n",
       "      <th>0</th>\n",
       "      <td>197601001IL00103</td>\n",
       "      <td>Adams</td>\n",
       "      <td>IL</td>\n",
       "      <td>IL00103</td>\n",
       "      <td>Illinois</td>\n",
       "      <td>Quincy</td>\n",
       "      <td>Municipal police</td>\n",
       "      <td>FBI</td>\n",
       "      <td>Yes</td>\n",
       "      <td>1976</td>\n",
       "      <td>...</td>\n",
       "      <td>Friend</td>\n",
       "      <td>Brawl due to influence of alcohol</td>\n",
       "      <td>NaN</td>\n",
       "      <td>0</td>\n",
       "      <td>1</td>\n",
       "      <td>30180</td>\n",
       "      <td>Illinois</td>\n",
       "      <td>Rural Illinois</td>\n",
       "      <td>NaN</td>\n",
       "      <td>NaN</td>\n",
       "    </tr>\n",
       "    <tr>\n",
       "      <th>1</th>\n",
       "      <td>197601001IL01000</td>\n",
       "      <td>Champaign</td>\n",
       "      <td>IL</td>\n",
       "      <td>IL01000</td>\n",
       "      <td>Illinois</td>\n",
       "      <td>Champaign County</td>\n",
       "      <td>Sheriff</td>\n",
       "      <td>FBI</td>\n",
       "      <td>No</td>\n",
       "      <td>1976</td>\n",
       "      <td>...</td>\n",
       "      <td>Relationship not determined</td>\n",
       "      <td>Narcotic drug laws</td>\n",
       "      <td>NaN</td>\n",
       "      <td>0</td>\n",
       "      <td>0</td>\n",
       "      <td>30180</td>\n",
       "      <td>Illinois</td>\n",
       "      <td>Champaign-Urbana</td>\n",
       "      <td>IL</td>\n",
       "      <td>NaN</td>\n",
       "    </tr>\n",
       "    <tr>\n",
       "      <th>2</th>\n",
       "      <td>197601001IL01600</td>\n",
       "      <td>Cook</td>\n",
       "      <td>IL</td>\n",
       "      <td>IL01600</td>\n",
       "      <td>Illinois</td>\n",
       "      <td>Cook County</td>\n",
       "      <td>Sheriff</td>\n",
       "      <td>FBI</td>\n",
       "      <td>Yes</td>\n",
       "      <td>1976</td>\n",
       "      <td>...</td>\n",
       "      <td>Stranger</td>\n",
       "      <td>Robbery</td>\n",
       "      <td>NaN</td>\n",
       "      <td>0</td>\n",
       "      <td>1</td>\n",
       "      <td>30180</td>\n",
       "      <td>Illinois</td>\n",
       "      <td>Chicago-Naperville-Joliet</td>\n",
       "      <td>IL-IN-WI</td>\n",
       "      <td>NaN</td>\n",
       "    </tr>\n",
       "    <tr>\n",
       "      <th>3</th>\n",
       "      <td>197601001IL01619</td>\n",
       "      <td>Cook</td>\n",
       "      <td>IL</td>\n",
       "      <td>IL01619</td>\n",
       "      <td>Illinois</td>\n",
       "      <td>Chicago Heights</td>\n",
       "      <td>Municipal police</td>\n",
       "      <td>FBI</td>\n",
       "      <td>Yes</td>\n",
       "      <td>1976</td>\n",
       "      <td>...</td>\n",
       "      <td>Acquaintance</td>\n",
       "      <td>Other arguments</td>\n",
       "      <td>NaN</td>\n",
       "      <td>0</td>\n",
       "      <td>0</td>\n",
       "      <td>30180</td>\n",
       "      <td>Illinois</td>\n",
       "      <td>Chicago-Naperville-Joliet</td>\n",
       "      <td>IL-IN-WI</td>\n",
       "      <td>NaN</td>\n",
       "    </tr>\n",
       "    <tr>\n",
       "      <th>4</th>\n",
       "      <td>197601001IL01621</td>\n",
       "      <td>Cook</td>\n",
       "      <td>IL</td>\n",
       "      <td>IL01621</td>\n",
       "      <td>Illinois</td>\n",
       "      <td>Cicero</td>\n",
       "      <td>Municipal police</td>\n",
       "      <td>FBI</td>\n",
       "      <td>Yes</td>\n",
       "      <td>1976</td>\n",
       "      <td>...</td>\n",
       "      <td>Other - known to victim</td>\n",
       "      <td>Other arguments</td>\n",
       "      <td>NaN</td>\n",
       "      <td>0</td>\n",
       "      <td>0</td>\n",
       "      <td>30180</td>\n",
       "      <td>Illinois</td>\n",
       "      <td>Chicago-Naperville-Joliet</td>\n",
       "      <td>IL-IN-WI</td>\n",
       "      <td>NaN</td>\n",
       "    </tr>\n",
       "  </tbody>\n",
       "</table>\n",
       "<p>5 rows × 35 columns</p>\n",
       "</div>"
      ],
      "text/plain": [
       "                 ID       City StateAbrv      Ori     State            Agency  \\\n",
       "0  197601001IL00103      Adams        IL  IL00103  Illinois            Quincy   \n",
       "1  197601001IL01000  Champaign        IL  IL01000  Illinois  Champaign County   \n",
       "2  197601001IL01600       Cook        IL  IL01600  Illinois       Cook County   \n",
       "3  197601001IL01619       Cook        IL  IL01619  Illinois   Chicago Heights   \n",
       "4  197601001IL01621       Cook        IL  IL01621  Illinois            Cicero   \n",
       "\n",
       "           Agentype Source Solved  Year     ...      \\\n",
       "0  Municipal police    FBI    Yes  1976     ...       \n",
       "1           Sheriff    FBI     No  1976     ...       \n",
       "2           Sheriff    FBI    Yes  1976     ...       \n",
       "3  Municipal police    FBI    Yes  1976     ...       \n",
       "4  Municipal police    FBI    Yes  1976     ...       \n",
       "\n",
       "                  Relationship                       Circumstance  Subcircum  \\\n",
       "0                       Friend  Brawl due to influence of alcohol        NaN   \n",
       "1  Relationship not determined                 Narcotic drug laws        NaN   \n",
       "2                     Stranger                            Robbery        NaN   \n",
       "3                 Acquaintance                    Other arguments        NaN   \n",
       "4      Other - known to victim                    Other arguments        NaN   \n",
       "\n",
       "  VicCount OffCount FileDate    fstate                        MSA   MSAState  \\\n",
       "0        0        1    30180  Illinois             Rural Illinois        NaN   \n",
       "1        0        0    30180  Illinois           Champaign-Urbana         IL   \n",
       "2        0        1    30180  Illinois  Chicago-Naperville-Joliet   IL-IN-WI   \n",
       "3        0        0    30180  Illinois  Chicago-Naperville-Joliet   IL-IN-WI   \n",
       "4        0        0    30180  Illinois  Chicago-Naperville-Joliet   IL-IN-WI   \n",
       "\n",
       "  Unnamed: 34  \n",
       "0         NaN  \n",
       "1         NaN  \n",
       "2         NaN  \n",
       "3         NaN  \n",
       "4         NaN  \n",
       "\n",
       "[5 rows x 35 columns]"
      ]
     },
     "execution_count": 14,
     "metadata": {},
     "output_type": "execute_result"
    }
   ],
   "source": [
    "\n",
    "midwest_data.head()"
   ]
  },
  {
   "cell_type": "code",
   "execution_count": null,
   "metadata": {},
   "outputs": [
    {
     "name": "stdout",
     "output_type": "stream",
     "text": [
      "StateAbrv {' MN', ' WI', ' OH', ' MI', ' MO', ' IA', ' IL', ' KS', ' IN', ' ND', ' SD', ' NE'}\n",
      "State {'Minnesota', 'Ohio', 'Iowa', 'Michigan', 'Kansas', 'Nebraska', 'North Dakota', 'Illinois', 'Indiana', 'Wisconsin', 'Missouri', 'South Dakota'}\n",
      "Agentype {'County police', 'Special police', 'Municipal police', 'Primary state LE', 'Regional police', 'Sheriff', 'Tribal'}\n",
      "Source {'MAP', 'FBI'}\n",
      "Solved {'No', 'Yes'}\n",
      "Year {1976, 1977, 1978, 1979, 1980, 1981, 1982, 1983, 1984, 1985, 1986, 1987, 1988, 1989, 1990, 1991, 1992, 1993, 1994, 1995, 1996, 1997, 1998, 1999, 2000, 2001, 2002, 2003, 2004, 2005, 2006, 2007, 2008, 2009, 2010, 2011, 2012, 2013, 2014, 2015, 2016, 2017}\n",
      "StateName {'OHIO', 'MICH', 'N DAK', 'ILL', 'WIS', 'MO', 'S DAK', 'NEBR', 'IND', 'MINN', 'IOWA', 'KANS'}\n",
      "Month {'February', 'January', 'November', 'August', 'May', 'September', 'June', 'March', 'December', 'April', 'October', 'July'}\n",
      "ActionType {'Normal update', '2', '3', '5', '9', '6', '4', 'Adjustment', '7', '8'}\n",
      "Homicide {'Murder and non-negligent manslaughter', 'Manslaughter by negligence'}\n",
      "Situation {'Multiple victims/unknown offender(s)', 'Single victim/multiple offenders', 'Multiple victims/multiple offenders', 'Multiple victims/single offender', 'Single victim/single offender', 'Single victim/unknown offender(s)'}\n",
      "VicSex {'Male', 'Female', 'Unknown'}\n",
      "VicRace {'American Indian or Alaskan Native', 'White', 'Black', 'Unknown', 'Asian or Pacific Islander'}\n",
      "VicEthnic {'Unknown or not reported', 'Not of Hispanic origin', 'Hispanic origin'}\n"
     ]
    }
   ],
   "source": [
    "# Bimi End\n",
    "crimefile = []\n",
    "for col in midwest_data.columns.values:\n",
    "    if len(set(midwest_data[col])) < 50:\n",
    "        print(col, set(midwest_data[col]))\n",
    "        crimefile.append(col)\n",
    "        \n",
    "print(crimefile)\n"
   ]
  },
  {
   "cell_type": "code",
   "execution_count": null,
   "metadata": {},
   "outputs": [],
   "source": [
    "# Devin Start"
   ]
  },
  {
   "cell_type": "code",
   "execution_count": null,
   "metadata": {},
   "outputs": [],
   "source": [
    "# Devin End"
   ]
  },
  {
   "cell_type": "code",
   "execution_count": null,
   "metadata": {},
   "outputs": [],
   "source": [
    "# Matt Start"
   ]
  },
  {
   "cell_type": "code",
   "execution_count": null,
   "metadata": {},
   "outputs": [],
   "source": [
    "# Matt End"
   ]
  }
 ],
 "metadata": {
  "kernelspec": {
   "display_name": "Python 3",
   "language": "python",
   "name": "python3"
  },
  "language_info": {
   "codemirror_mode": {
    "name": "ipython",
    "version": 3
   },
   "file_extension": ".py",
   "mimetype": "text/x-python",
   "name": "python",
   "nbconvert_exporter": "python",
   "pygments_lexer": "ipython3",
   "version": "3.6.7"
  }
 },
 "nbformat": 4,
 "nbformat_minor": 2
}
