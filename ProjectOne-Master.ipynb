{
 "cells": [
  {
   "cell_type": "code",
   "execution_count": 18,
   "metadata": {},
   "outputs": [],
   "source": [
    "# Import dependencies\n",
    "import pandas as pd\n",
    "import numpy as np\n",
    "import os \n",
    "\n"
   ]
  },
  {
   "cell_type": "code",
   "execution_count": 19,
   "metadata": {},
   "outputs": [
    {
     "data": {
      "text/html": [
       "<div>\n",
       "<style scoped>\n",
       "    .dataframe tbody tr th:only-of-type {\n",
       "        vertical-align: middle;\n",
       "    }\n",
       "\n",
       "    .dataframe tbody tr th {\n",
       "        vertical-align: top;\n",
       "    }\n",
       "\n",
       "    .dataframe thead th {\n",
       "        text-align: right;\n",
       "    }\n",
       "</style>\n",
       "<table border=\"1\" class=\"dataframe\">\n",
       "  <thead>\n",
       "    <tr style=\"text-align: right;\">\n",
       "      <th></th>\n",
       "      <th>ID</th>\n",
       "      <th>CNTYFIPS</th>\n",
       "      <th>Ori</th>\n",
       "      <th>State</th>\n",
       "      <th>Agency</th>\n",
       "      <th>Agentype</th>\n",
       "      <th>Source</th>\n",
       "      <th>Solved</th>\n",
       "      <th>Year</th>\n",
       "      <th>StateName</th>\n",
       "      <th>...</th>\n",
       "      <th>OffEthnic</th>\n",
       "      <th>Weapon</th>\n",
       "      <th>Relationship</th>\n",
       "      <th>Circumstance</th>\n",
       "      <th>Subcircum</th>\n",
       "      <th>VicCount</th>\n",
       "      <th>OffCount</th>\n",
       "      <th>FileDate</th>\n",
       "      <th>fstate</th>\n",
       "      <th>MSA</th>\n",
       "    </tr>\n",
       "  </thead>\n",
       "  <tbody>\n",
       "    <tr>\n",
       "      <th>0</th>\n",
       "      <td>197601001IA00801</td>\n",
       "      <td>Boone, IA</td>\n",
       "      <td>IA00801</td>\n",
       "      <td>Iowa</td>\n",
       "      <td>Boone</td>\n",
       "      <td>Municipal police</td>\n",
       "      <td>FBI</td>\n",
       "      <td>No</td>\n",
       "      <td>1976</td>\n",
       "      <td>IOWA</td>\n",
       "      <td>...</td>\n",
       "      <td>Unknown or not reported</td>\n",
       "      <td>Knife or cutting instrument</td>\n",
       "      <td>Relationship not determined</td>\n",
       "      <td>Other arguments</td>\n",
       "      <td>NaN</td>\n",
       "      <td>0</td>\n",
       "      <td>0</td>\n",
       "      <td>30180.0</td>\n",
       "      <td>Iowa</td>\n",
       "      <td>Rural Iowa</td>\n",
       "    </tr>\n",
       "    <tr>\n",
       "      <th>1</th>\n",
       "      <td>197601001IA04400</td>\n",
       "      <td>Henry, IA</td>\n",
       "      <td>IA04400</td>\n",
       "      <td>Iowa</td>\n",
       "      <td>Henry County</td>\n",
       "      <td>Sheriff</td>\n",
       "      <td>FBI</td>\n",
       "      <td>Yes</td>\n",
       "      <td>1976</td>\n",
       "      <td>IOWA</td>\n",
       "      <td>...</td>\n",
       "      <td>Unknown or not reported</td>\n",
       "      <td>Handgun - pistol, revolver, etc</td>\n",
       "      <td>Acquaintance</td>\n",
       "      <td>Robbery</td>\n",
       "      <td>NaN</td>\n",
       "      <td>0</td>\n",
       "      <td>0</td>\n",
       "      <td>30180.0</td>\n",
       "      <td>Iowa</td>\n",
       "      <td>Rural Iowa</td>\n",
       "    </tr>\n",
       "    <tr>\n",
       "      <th>2</th>\n",
       "      <td>197601001IA05202</td>\n",
       "      <td>Johnson, IA</td>\n",
       "      <td>IA05202</td>\n",
       "      <td>Iowa</td>\n",
       "      <td>Iowa City</td>\n",
       "      <td>Municipal police</td>\n",
       "      <td>FBI</td>\n",
       "      <td>Yes</td>\n",
       "      <td>1976</td>\n",
       "      <td>IOWA</td>\n",
       "      <td>...</td>\n",
       "      <td>Unknown or not reported</td>\n",
       "      <td>Handgun - pistol, revolver, etc</td>\n",
       "      <td>Acquaintance</td>\n",
       "      <td>Other arguments</td>\n",
       "      <td>NaN</td>\n",
       "      <td>0</td>\n",
       "      <td>0</td>\n",
       "      <td>30180.0</td>\n",
       "      <td>Iowa</td>\n",
       "      <td>Iowa City, IA</td>\n",
       "    </tr>\n",
       "    <tr>\n",
       "      <th>3</th>\n",
       "      <td>197601001IA05701</td>\n",
       "      <td>Linn, IA</td>\n",
       "      <td>IA05701</td>\n",
       "      <td>Iowa</td>\n",
       "      <td>Cedar Rapids</td>\n",
       "      <td>Municipal police</td>\n",
       "      <td>FBI</td>\n",
       "      <td>Yes</td>\n",
       "      <td>1976</td>\n",
       "      <td>IOWA</td>\n",
       "      <td>...</td>\n",
       "      <td>Unknown or not reported</td>\n",
       "      <td>Handgun - pistol, revolver, etc</td>\n",
       "      <td>Husband</td>\n",
       "      <td>Other arguments</td>\n",
       "      <td>NaN</td>\n",
       "      <td>0</td>\n",
       "      <td>0</td>\n",
       "      <td>30180.0</td>\n",
       "      <td>Iowa</td>\n",
       "      <td>Cedar Rapids, IA</td>\n",
       "    </tr>\n",
       "    <tr>\n",
       "      <th>4</th>\n",
       "      <td>197601001IA05703</td>\n",
       "      <td>Linn, IA</td>\n",
       "      <td>IA05703</td>\n",
       "      <td>Iowa</td>\n",
       "      <td>Hiawatha</td>\n",
       "      <td>Municipal police</td>\n",
       "      <td>FBI</td>\n",
       "      <td>Yes</td>\n",
       "      <td>1976</td>\n",
       "      <td>IOWA</td>\n",
       "      <td>...</td>\n",
       "      <td>Unknown or not reported</td>\n",
       "      <td>Handgun - pistol, revolver, etc</td>\n",
       "      <td>Stranger</td>\n",
       "      <td>Brawl due to influence of alcohol</td>\n",
       "      <td>NaN</td>\n",
       "      <td>0</td>\n",
       "      <td>0</td>\n",
       "      <td>30180.0</td>\n",
       "      <td>Iowa</td>\n",
       "      <td>Cedar Rapids, IA</td>\n",
       "    </tr>\n",
       "  </tbody>\n",
       "</table>\n",
       "<p>5 rows × 32 columns</p>\n",
       "</div>"
      ],
      "text/plain": [
       "                 ID     CNTYFIPS      Ori State        Agency  \\\n",
       "0  197601001IA00801    Boone, IA  IA00801  Iowa         Boone   \n",
       "1  197601001IA04400    Henry, IA  IA04400  Iowa  Henry County   \n",
       "2  197601001IA05202  Johnson, IA  IA05202  Iowa     Iowa City   \n",
       "3  197601001IA05701     Linn, IA  IA05701  Iowa  Cedar Rapids   \n",
       "4  197601001IA05703     Linn, IA  IA05703  Iowa      Hiawatha   \n",
       "\n",
       "           Agentype Source Solved  Year StateName        ...         \\\n",
       "0  Municipal police    FBI     No  1976      IOWA        ...          \n",
       "1           Sheriff    FBI    Yes  1976      IOWA        ...          \n",
       "2  Municipal police    FBI    Yes  1976      IOWA        ...          \n",
       "3  Municipal police    FBI    Yes  1976      IOWA        ...          \n",
       "4  Municipal police    FBI    Yes  1976      IOWA        ...          \n",
       "\n",
       "                 OffEthnic                           Weapon  \\\n",
       "0  Unknown or not reported      Knife or cutting instrument   \n",
       "1  Unknown or not reported  Handgun - pistol, revolver, etc   \n",
       "2  Unknown or not reported  Handgun - pistol, revolver, etc   \n",
       "3  Unknown or not reported  Handgun - pistol, revolver, etc   \n",
       "4  Unknown or not reported  Handgun - pistol, revolver, etc   \n",
       "\n",
       "                  Relationship                       Circumstance Subcircum  \\\n",
       "0  Relationship not determined                    Other arguments       NaN   \n",
       "1                 Acquaintance                            Robbery       NaN   \n",
       "2                 Acquaintance                    Other arguments       NaN   \n",
       "3                      Husband                    Other arguments       NaN   \n",
       "4                     Stranger  Brawl due to influence of alcohol       NaN   \n",
       "\n",
       "   VicCount OffCount FileDate fstate               MSA  \n",
       "0         0        0  30180.0   Iowa        Rural Iowa  \n",
       "1         0        0  30180.0   Iowa        Rural Iowa  \n",
       "2         0        0  30180.0   Iowa     Iowa City, IA  \n",
       "3         0        0  30180.0   Iowa  Cedar Rapids, IA  \n",
       "4         0        0  30180.0   Iowa  Cedar Rapids, IA  \n",
       "\n",
       "[5 rows x 32 columns]"
      ]
     },
     "execution_count": 19,
     "metadata": {},
     "output_type": "execute_result"
    }
   ],
   "source": [
    "file = os.path.join('MidwestMurderData.csv')\n",
    "midwest_homicide_df = pd.read_csv(file)\n",
    "midwest_homicide_df.head()"
   ]
  },
  {
   "cell_type": "code",
   "execution_count": 20,
   "metadata": {},
   "outputs": [],
   "source": [
    "# Amber Start"
   ]
  },
  {
   "cell_type": "code",
   "execution_count": 21,
   "metadata": {},
   "outputs": [],
   "source": [
    "# Amber End"
   ]
  },
  {
   "cell_type": "code",
   "execution_count": 22,
   "metadata": {},
   "outputs": [],
   "source": [
    "# Eric Start"
   ]
  },
  {
   "cell_type": "code",
   "execution_count": 23,
   "metadata": {},
   "outputs": [],
   "source": [
    "mg = midwest_homicide_df.groupby(['Year']).count()\n",
    "#mg.head()"
   ]
  },
  {
   "cell_type": "code",
   "execution_count": 24,
   "metadata": {},
   "outputs": [],
   "source": [
    "# tfile = os.path.join('ProjectData','TechnologyTimeline.csv')\n",
    "# tcsv = pd.read_csv(tfile, encoding = 'unicode_escape')\n",
    "\n",
    "# tt = pd.DataFrame(tcsv)\n",
    "# tt = tt.sort_values(['Date'])\n"
   ]
  },
  {
   "cell_type": "code",
   "execution_count": null,
   "metadata": {},
   "outputs": [],
   "source": [
    "from DataCleaning"
   ]
  },
  {
   "cell_type": "code",
   "execution_count": null,
   "metadata": {},
   "outputs": [],
   "source": []
  },
  {
   "cell_type": "code",
   "execution_count": 25,
   "metadata": {},
   "outputs": [],
   "source": [
    "# Eric End"
   ]
  },
  {
   "cell_type": "code",
   "execution_count": 26,
   "metadata": {},
   "outputs": [],
   "source": [
    "# Bimi Start"
   ]
  },
  {
   "cell_type": "code",
   "execution_count": 27,
   "metadata": {},
   "outputs": [
    {
     "name": "stdout",
     "output_type": "stream",
     "text": [
      "<class 'pandas.core.frame.DataFrame'>\n",
      "RangeIndex: 145080 entries, 0 to 145079\n",
      "Data columns (total 32 columns):\n",
      "ID              145080 non-null object\n",
      "CNTYFIPS        145080 non-null object\n",
      "Ori             145080 non-null object\n",
      "State           145080 non-null object\n",
      "Agency          145080 non-null object\n",
      "Agentype        145080 non-null object\n",
      "Source          145080 non-null object\n",
      "Solved          145080 non-null object\n",
      "Year            145080 non-null int64\n",
      "StateName       145080 non-null object\n",
      "Month           145080 non-null object\n",
      "Incident        145080 non-null int64\n",
      "ActionType      145080 non-null object\n",
      "Homicide        145080 non-null object\n",
      "Situation       145080 non-null object\n",
      "VicAge          145080 non-null int64\n",
      "VicSex          145080 non-null object\n",
      "VicRace         145080 non-null object\n",
      "VicEthnic       145080 non-null object\n",
      "OffAge          145080 non-null int64\n",
      "OffSex          145080 non-null object\n",
      "OffRace         145080 non-null object\n",
      "OffEthnic       145080 non-null object\n",
      "Weapon          145080 non-null object\n",
      "Relationship    145080 non-null object\n",
      "Circumstance    145080 non-null object\n",
      "Subcircum       5001 non-null object\n",
      "VicCount        145080 non-null int64\n",
      "OffCount        145080 non-null int64\n",
      "FileDate        145080 non-null float64\n",
      "fstate          145080 non-null object\n",
      "MSA             145080 non-null object\n",
      "dtypes: float64(1), int64(6), object(25)\n",
      "memory usage: 35.4+ MB\n"
     ]
    }
   ],
   "source": [
    "midwest_homicide_df.info()"
   ]
  },
  {
   "cell_type": "code",
   "execution_count": 28,
   "metadata": {},
   "outputs": [
    {
     "name": "stdout",
     "output_type": "stream",
     "text": [
      "Male offender count is: 87750\n",
      "Female offender count is: 12146\n",
      "Unknown offender count is: 45184\n"
     ]
    }
   ],
   "source": [
    "# Offender count by gender\n",
    "print('Male offender count is:',midwest_homicide_df['OffSex'].value_counts()['Male'])\n",
    "print('Female offender count is:',midwest_homicide_df['OffSex'].value_counts()['Female'])\n",
    "print('Unknown offender count is:',midwest_homicide_df['OffSex'].value_counts()['Unknown'])"
   ]
  },
  {
   "cell_type": "code",
   "execution_count": 29,
   "metadata": {},
   "outputs": [
    {
     "name": "stdout",
     "output_type": "stream",
     "text": [
      "Male victim count is: 111465\n",
      "Female victim count is: 33402\n",
      "Unknown victim count is: 213\n"
     ]
    }
   ],
   "source": [
    "#Victim count by gender\n",
    "print('Male victim count is:',midwest_homicide_df['VicSex'].value_counts()['Male'])\n",
    "print('Female victim count is:',midwest_homicide_df['VicSex'].value_counts()['Female'])\n",
    "print('Unknown victim count is:',midwest_homicide_df['VicSex'].value_counts()['Unknown'])"
   ]
  },
  {
   "cell_type": "code",
   "execution_count": 30,
   "metadata": {},
   "outputs": [
    {
     "name": "stdout",
     "output_type": "stream",
     "text": [
      "Homocide: 143188\n",
      "Negligent manslaughter: 1892\n"
     ]
    }
   ],
   "source": [
    "print('Homocide:', midwest_homicide_df[midwest_homicide_df.Homicide == 'Murder and non-negligent manslaughter'].ID.count())\n",
    "print('Negligent manslaughter:', midwest_homicide_df[midwest_homicide_df.Homicide != 'Murder and non-negligent manslaughter'].ID.count())"
   ]
  },
  {
   "cell_type": "code",
   "execution_count": 31,
   "metadata": {},
   "outputs": [
    {
     "name": "stdout",
     "output_type": "stream",
     "text": [
      "Unsolved: 45193\n",
      "Solved: 99887\n"
     ]
    }
   ],
   "source": [
    "# Solved vs unsolved crime\n",
    "print('Unsolved:', midwest_homicide_df[midwest_homicide_df.Solved == 'No'].ID.count())\n",
    "print('Solved:', midwest_homicide_df[midwest_homicide_df.Solved == 'Yes'].ID.count())"
   ]
  },
  {
   "cell_type": "code",
   "execution_count": 32,
   "metadata": {},
   "outputs": [
    {
     "data": {
      "text/html": [
       "<div>\n",
       "<style scoped>\n",
       "    .dataframe tbody tr th:only-of-type {\n",
       "        vertical-align: middle;\n",
       "    }\n",
       "\n",
       "    .dataframe tbody tr th {\n",
       "        vertical-align: top;\n",
       "    }\n",
       "\n",
       "    .dataframe thead th {\n",
       "        text-align: right;\n",
       "    }\n",
       "</style>\n",
       "<table border=\"1\" class=\"dataframe\">\n",
       "  <thead>\n",
       "    <tr style=\"text-align: right;\">\n",
       "      <th></th>\n",
       "      <th>ID</th>\n",
       "      <th>CNTYFIPS</th>\n",
       "      <th>Ori</th>\n",
       "      <th>State</th>\n",
       "      <th>Agency</th>\n",
       "      <th>Agentype</th>\n",
       "      <th>Source</th>\n",
       "      <th>Solved</th>\n",
       "      <th>Year</th>\n",
       "      <th>StateName</th>\n",
       "      <th>...</th>\n",
       "      <th>OffEthnic</th>\n",
       "      <th>Weapon</th>\n",
       "      <th>Relationship</th>\n",
       "      <th>Circumstance</th>\n",
       "      <th>Subcircum</th>\n",
       "      <th>VicCount</th>\n",
       "      <th>OffCount</th>\n",
       "      <th>FileDate</th>\n",
       "      <th>fstate</th>\n",
       "      <th>MSA</th>\n",
       "    </tr>\n",
       "  </thead>\n",
       "  <tbody>\n",
       "    <tr>\n",
       "      <th>0</th>\n",
       "      <td>197601001IA00801</td>\n",
       "      <td>Boone, IA</td>\n",
       "      <td>IA00801</td>\n",
       "      <td>Iowa</td>\n",
       "      <td>Boone</td>\n",
       "      <td>Municipal police</td>\n",
       "      <td>FBI</td>\n",
       "      <td>No</td>\n",
       "      <td>1976</td>\n",
       "      <td>IOWA</td>\n",
       "      <td>...</td>\n",
       "      <td>Unknown or not reported</td>\n",
       "      <td>Knife or cutting instrument</td>\n",
       "      <td>Relationship not determined</td>\n",
       "      <td>Other arguments</td>\n",
       "      <td>NaN</td>\n",
       "      <td>0</td>\n",
       "      <td>0</td>\n",
       "      <td>30180.0</td>\n",
       "      <td>Iowa</td>\n",
       "      <td>Rural Iowa</td>\n",
       "    </tr>\n",
       "    <tr>\n",
       "      <th>1</th>\n",
       "      <td>197601001IA04400</td>\n",
       "      <td>Henry, IA</td>\n",
       "      <td>IA04400</td>\n",
       "      <td>Iowa</td>\n",
       "      <td>Henry County</td>\n",
       "      <td>Sheriff</td>\n",
       "      <td>FBI</td>\n",
       "      <td>Yes</td>\n",
       "      <td>1976</td>\n",
       "      <td>IOWA</td>\n",
       "      <td>...</td>\n",
       "      <td>Unknown or not reported</td>\n",
       "      <td>Handgun - pistol, revolver, etc</td>\n",
       "      <td>Acquaintance</td>\n",
       "      <td>Robbery</td>\n",
       "      <td>NaN</td>\n",
       "      <td>0</td>\n",
       "      <td>0</td>\n",
       "      <td>30180.0</td>\n",
       "      <td>Iowa</td>\n",
       "      <td>Rural Iowa</td>\n",
       "    </tr>\n",
       "    <tr>\n",
       "      <th>2</th>\n",
       "      <td>197601001IA05202</td>\n",
       "      <td>Johnson, IA</td>\n",
       "      <td>IA05202</td>\n",
       "      <td>Iowa</td>\n",
       "      <td>Iowa City</td>\n",
       "      <td>Municipal police</td>\n",
       "      <td>FBI</td>\n",
       "      <td>Yes</td>\n",
       "      <td>1976</td>\n",
       "      <td>IOWA</td>\n",
       "      <td>...</td>\n",
       "      <td>Unknown or not reported</td>\n",
       "      <td>Handgun - pistol, revolver, etc</td>\n",
       "      <td>Acquaintance</td>\n",
       "      <td>Other arguments</td>\n",
       "      <td>NaN</td>\n",
       "      <td>0</td>\n",
       "      <td>0</td>\n",
       "      <td>30180.0</td>\n",
       "      <td>Iowa</td>\n",
       "      <td>Iowa City, IA</td>\n",
       "    </tr>\n",
       "    <tr>\n",
       "      <th>3</th>\n",
       "      <td>197601001IA05701</td>\n",
       "      <td>Linn, IA</td>\n",
       "      <td>IA05701</td>\n",
       "      <td>Iowa</td>\n",
       "      <td>Cedar Rapids</td>\n",
       "      <td>Municipal police</td>\n",
       "      <td>FBI</td>\n",
       "      <td>Yes</td>\n",
       "      <td>1976</td>\n",
       "      <td>IOWA</td>\n",
       "      <td>...</td>\n",
       "      <td>Unknown or not reported</td>\n",
       "      <td>Handgun - pistol, revolver, etc</td>\n",
       "      <td>Husband</td>\n",
       "      <td>Other arguments</td>\n",
       "      <td>NaN</td>\n",
       "      <td>0</td>\n",
       "      <td>0</td>\n",
       "      <td>30180.0</td>\n",
       "      <td>Iowa</td>\n",
       "      <td>Cedar Rapids, IA</td>\n",
       "    </tr>\n",
       "    <tr>\n",
       "      <th>4</th>\n",
       "      <td>197601001IA05703</td>\n",
       "      <td>Linn, IA</td>\n",
       "      <td>IA05703</td>\n",
       "      <td>Iowa</td>\n",
       "      <td>Hiawatha</td>\n",
       "      <td>Municipal police</td>\n",
       "      <td>FBI</td>\n",
       "      <td>Yes</td>\n",
       "      <td>1976</td>\n",
       "      <td>IOWA</td>\n",
       "      <td>...</td>\n",
       "      <td>Unknown or not reported</td>\n",
       "      <td>Handgun - pistol, revolver, etc</td>\n",
       "      <td>Stranger</td>\n",
       "      <td>Brawl due to influence of alcohol</td>\n",
       "      <td>NaN</td>\n",
       "      <td>0</td>\n",
       "      <td>0</td>\n",
       "      <td>30180.0</td>\n",
       "      <td>Iowa</td>\n",
       "      <td>Cedar Rapids, IA</td>\n",
       "    </tr>\n",
       "  </tbody>\n",
       "</table>\n",
       "<p>5 rows × 32 columns</p>\n",
       "</div>"
      ],
      "text/plain": [
       "                 ID     CNTYFIPS      Ori State        Agency  \\\n",
       "0  197601001IA00801    Boone, IA  IA00801  Iowa         Boone   \n",
       "1  197601001IA04400    Henry, IA  IA04400  Iowa  Henry County   \n",
       "2  197601001IA05202  Johnson, IA  IA05202  Iowa     Iowa City   \n",
       "3  197601001IA05701     Linn, IA  IA05701  Iowa  Cedar Rapids   \n",
       "4  197601001IA05703     Linn, IA  IA05703  Iowa      Hiawatha   \n",
       "\n",
       "           Agentype Source Solved  Year StateName        ...         \\\n",
       "0  Municipal police    FBI     No  1976      IOWA        ...          \n",
       "1           Sheriff    FBI    Yes  1976      IOWA        ...          \n",
       "2  Municipal police    FBI    Yes  1976      IOWA        ...          \n",
       "3  Municipal police    FBI    Yes  1976      IOWA        ...          \n",
       "4  Municipal police    FBI    Yes  1976      IOWA        ...          \n",
       "\n",
       "                 OffEthnic                           Weapon  \\\n",
       "0  Unknown or not reported      Knife or cutting instrument   \n",
       "1  Unknown or not reported  Handgun - pistol, revolver, etc   \n",
       "2  Unknown or not reported  Handgun - pistol, revolver, etc   \n",
       "3  Unknown or not reported  Handgun - pistol, revolver, etc   \n",
       "4  Unknown or not reported  Handgun - pistol, revolver, etc   \n",
       "\n",
       "                  Relationship                       Circumstance Subcircum  \\\n",
       "0  Relationship not determined                    Other arguments       NaN   \n",
       "1                 Acquaintance                            Robbery       NaN   \n",
       "2                 Acquaintance                    Other arguments       NaN   \n",
       "3                      Husband                    Other arguments       NaN   \n",
       "4                     Stranger  Brawl due to influence of alcohol       NaN   \n",
       "\n",
       "   VicCount OffCount FileDate fstate               MSA  \n",
       "0         0        0  30180.0   Iowa        Rural Iowa  \n",
       "1         0        0  30180.0   Iowa        Rural Iowa  \n",
       "2         0        0  30180.0   Iowa     Iowa City, IA  \n",
       "3         0        0  30180.0   Iowa  Cedar Rapids, IA  \n",
       "4         0        0  30180.0   Iowa  Cedar Rapids, IA  \n",
       "\n",
       "[5 rows x 32 columns]"
      ]
     },
     "execution_count": 32,
     "metadata": {},
     "output_type": "execute_result"
    }
   ],
   "source": [
    "midwest_homicide_df.head()"
   ]
  },
  {
   "cell_type": "code",
   "execution_count": 33,
   "metadata": {},
   "outputs": [
    {
     "name": "stdout",
     "output_type": "stream",
     "text": [
      "State {'North Dakota', 'Nebraska', 'Iowa', 'Ohio', 'Missouri', 'Wisconsin', 'Minnesota', 'Illinois', 'Michigan', 'Indiana', 'Kansas', 'South Dakota'}\n",
      "Agentype {'Regional police', 'Primary state LE', 'Municipal police', 'Tribal', 'County police', 'Special police', 'Sheriff'}\n",
      "Source {'MAP', 'FBI'}\n",
      "Solved {'No', 'Yes'}\n",
      "Year {1976, 1977, 1978, 1979, 1980, 1981, 1982, 1983, 1984, 1985, 1986, 1987, 1988, 1989, 1990, 1991, 1992, 1993, 1994, 1995, 1996, 1997, 1998, 1999, 2000, 2001, 2002, 2003, 2004, 2005, 2006, 2007, 2008, 2009, 2010, 2011, 2012, 2013, 2014, 2015, 2016, 2017}\n",
      "StateName {'NEBR', 'IOWA', 'MINN', 'KANS', 'OHIO', 'N DAK', 'MICH', 'MO', 'ILL', 'WIS', 'S DAK', 'IND'}\n",
      "Month {'July', 'May', 'October', 'March', 'December', 'February', 'April', 'August', 'January', 'September', 'November', 'June'}\n",
      "ActionType {'3', '7', '9', 'Adjustment', '5', 'Normal update', '2', '6', '4', '8'}\n",
      "Homicide {'Manslaughter by negligence', 'Murder and non-negligent manslaughter'}\n",
      "Situation {'Multiple victims/unknown offender(s)', 'Single victim/multiple offenders', 'Multiple victims/multiple offenders', 'Single victim/unknown offender(s)', 'Single victim/single offender', 'Multiple victims/single offender'}\n",
      "VicSex {'Unknown', 'Male', 'Female'}\n",
      "VicRace {'Asian or Pacific Islander', 'Black', 'American Indian or Alaskan Native', 'White', 'Unknown'}\n",
      "VicEthnic {'Hispanic origin', 'Not of Hispanic origin', 'Unknown or not reported'}\n",
      "OffSex {'Unknown', 'Male', 'Female'}\n",
      "OffRace {'Asian or Pacific Islander', 'Black', 'American Indian or Alaskan Native', 'Unknown', 'White'}\n",
      "OffEthnic {'Hispanic origin', 'Not of Hispanic origin', 'Unknown or not reported'}\n",
      "Weapon {'Strangulation - hanging', 'Rifle', 'Fire', 'Other gun', 'Poison - does not include gas', 'Shotgun', 'Knife or cutting instrument', 'Blunt object - hammer, club, etc', 'Firearm, type not stated', 'Other or type unknown', 'Pushed or thrown out window', 'Handgun - pistol, revolver, etc', 'Asphyxiation - includes death by gas', 'Narcotics or drugs, sleeping pills', 'Explosives', 'Drowning', 'Personal weapons, includes beating'}\n",
      "Relationship {'Other family', 'Other - known to victim', 'Brother', 'Friend', 'Daughter', 'Stepson', 'Ex-wife', 'Neighbor', 'Wife', 'Homosexual relationship', 'In-law', 'Ex-husband', 'Boyfriend', 'Acquaintance', 'Sister', 'Employee', 'Husband', 'Father', 'Common-law wife', 'Stranger', 'Girlfriend', 'Common-law husband', 'Relationship not determined', 'Mother', 'Employer', 'Stepmother', 'Stepfather', 'Son', 'Stepdaughter'}\n",
      "Circumstance {'Larceny', 'Burglary', 'Motor vehicle theft', 'Brawl due to influence of narcotics', 'Abortion', 'Robbery', 'Lovers triangle', 'Gun-cleaning death - other than self', 'Child killed by babysitter', 'Other sex offense', 'Other arguments', 'Gambling', 'All suspected felony type', 'Narcotic drug laws', 'Arson', 'Circumstances undetermined', 'Other - not specified', 'Children playing with gun', 'Argument over money or property', 'Juvenile gang killings', 'Other negligent handling of gun', 'All other manslaughter by negligence', 'Gangland killings', 'Brawl due to influence of alcohol', 'Prostitution and commercialized vice', 'Institutional killings', 'Felon killed by private citizen', 'Rape', 'Sniper attack', 'Victim shot in hunting accident', 'Felon killed by police', 'Other'}\n",
      "Subcircum {nan, 'Felon attempted flight from a crime', 'Felon attacked a civilian', 'Felon attacked fellow police officer', 'Felon resisted arrest', 'Felon killed in commission of a crime', 'Felon attacked police officer', 'Not enough information to determine'}\n",
      "VicCount {0, 1, 2, 3, 4, 5, 6, 7, 8, 9}\n",
      "OffCount {0, 1, 2, 3, 4, 5, 6, 7, 8, 9, 10}\n",
      "fstate {'North Dakota', 'Nebraska', 'Iowa', 'Ohio', 'Missouri', 'Wisconsin', 'Minnesota', 'Illinois', 'Michigan', 'Indiana', 'Kansas', 'South Dakota'}\n",
      "['State', 'Agentype', 'Source', 'Solved', 'Year', 'StateName', 'Month', 'ActionType', 'Homicide', 'Situation', 'VicSex', 'VicRace', 'VicEthnic', 'OffSex', 'OffRace', 'OffEthnic', 'Weapon', 'Relationship', 'Circumstance', 'Subcircum', 'VicCount', 'OffCount', 'fstate']\n"
     ]
    }
   ],
   "source": [
    "\n",
    "crimefile = []\n",
    "for col in midwest_homicide_df.columns.values:\n",
    "    if len(set(midwest_homicide_df[col])) < 50:\n",
    "        print(col, set(midwest_homicide_df[col]))\n",
    "        crimefile.append(col)\n",
    "        \n",
    "print(crimefile)"
   ]
  },
  {
   "cell_type": "code",
   "execution_count": 34,
   "metadata": {},
   "outputs": [],
   "source": [
    "# Bimi End"
   ]
  },
  {
   "cell_type": "code",
   "execution_count": 23,
   "metadata": {},
   "outputs": [],
   "source": [
    "# Devin Start"
   ]
  },
  {
   "cell_type": "code",
   "execution_count": 24,
   "metadata": {},
   "outputs": [],
   "source": [
    "# Devin End"
   ]
  },
  {
   "cell_type": "code",
   "execution_count": 25,
   "metadata": {},
   "outputs": [],
   "source": [
    "# Matt Start"
   ]
  },
  {
   "cell_type": "code",
   "execution_count": 26,
   "metadata": {},
   "outputs": [],
   "source": [
    "# Matt End"
   ]
  },
  {
   "cell_type": "code",
   "execution_count": null,
   "metadata": {},
   "outputs": [],
   "source": []
  },
  {
   "cell_type": "code",
   "execution_count": null,
   "metadata": {},
   "outputs": [],
   "source": []
  }
 ],
 "metadata": {
  "kernelspec": {
   "display_name": "Python 3",
   "language": "python",
   "name": "python3"
  },
  "language_info": {
   "codemirror_mode": {
    "name": "ipython",
    "version": 3
   },
   "file_extension": ".py",
   "mimetype": "text/x-python",
   "name": "python",
   "nbconvert_exporter": "python",
   "pygments_lexer": "ipython3",
   "version": "3.7.1"
  }
 },
 "nbformat": 4,
 "nbformat_minor": 2
}
